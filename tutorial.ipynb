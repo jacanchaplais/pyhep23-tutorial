{
 "cells": [
  {
   "cell_type": "code",
   "execution_count": 35,
   "id": "8573245c-e813-4de9-9801-0b44fe6f4fc7",
   "metadata": {
    "tags": []
   },
   "outputs": [],
   "source": [
    "import math\n",
    "\n",
    "import numpy as np"
   ]
  },
  {
   "cell_type": "markdown",
   "id": "ced1fdc8-d259-4385-b928-8b3b77a29f97",
   "metadata": {},
   "source": [
    "## Data generation with showerpipe"
   ]
  },
  {
   "cell_type": "code",
   "execution_count": 1,
   "id": "567ca104-e67b-45c2-88e2-aaf2301d239c",
   "metadata": {
    "tags": []
   },
   "outputs": [],
   "source": [
    "import showerpipe as shp"
   ]
  },
  {
   "cell_type": "markdown",
   "id": "14c3050b-fdaa-49c7-b273-bc401aaed16b",
   "metadata": {},
   "source": [
    "Showerpipe wraps pythia8's generator in a standard Python iterator. To initialise, we need to pass it a settings file, see below:"
   ]
  },
  {
   "cell_type": "code",
   "execution_count": 2,
   "id": "01cb6635-c69b-4d5f-93c3-e750581f7c71",
   "metadata": {
    "tags": []
   },
   "outputs": [
    {
     "name": "stdout",
     "output_type": "stream",
     "text": [
      "Overwriting pythia-settings.cmnd\n"
     ]
    }
   ],
   "source": [
    "%%file pythia-settings.cmnd\n",
    "Beams:idB = -2212\n",
    "Beams:eCM = 1960.\n",
    "WeakSingleBoson:ffbar2gmZ = on\n",
    "PhaseSpace:mHatMin = 80.\n",
    "PhaseSpace:mHatMax = 120"
   ]
  },
  {
   "cell_type": "code",
   "execution_count": 3,
   "id": "ee34af1f-c020-41df-8210-f9cb84a3a7de",
   "metadata": {
    "tags": []
   },
   "outputs": [
    {
     "data": {
      "text/html": [
       "<pre style=\"white-space:pre;overflow-x:auto;line-height:normal;font-family:Menlo,'DejaVu Sans Mono',consolas,'Courier New',monospace\"></pre>\n"
      ],
      "text/plain": []
     },
     "metadata": {},
     "output_type": "display_data"
    },
    {
     "data": {
      "text/plain": [
       "PythiaGenerator(xml_dir='/scratch/jlc1n20/mambaforge/envs/dgl/share/Pythia8/xmldoc')\n",
       "├── Print\n",
       "│   └── quiet = on\n",
       "├── Random\n",
       "│   ├── setSeed = on\n",
       "│   └── seed = -1\n",
       "├── Beams\n",
       "│   ├── idB = -2212\n",
       "│   └── eCM = 1960.\n",
       "├── WeakSingleBoson\n",
       "│   └── ffbar2gmZ = on\n",
       "└── PhaseSpace\n",
       "    ├── mHatMin = 80.\n",
       "    └── mHatMax = 120"
      ]
     },
     "execution_count": 3,
     "metadata": {},
     "output_type": "execute_result"
    }
   ],
   "source": [
    "gen = shp.generator.PythiaGenerator(\"pythia-settings.cmnd\")\n",
    "gen"
   ]
  },
  {
   "cell_type": "markdown",
   "id": "b2bde8b4-a388-4eb0-94aa-29b32db54ea2",
   "metadata": {},
   "source": [
    "The string and developer representations of the object shows the settings used to instantiate it, as well as the location of the XML directory where Pythia8's data is stored. Events can be generated simply by looping over `gen`, or calling `next()`:"
   ]
  },
  {
   "cell_type": "markdown",
   "id": "be75494e-ed2f-4057-bd53-c845e26b8ece",
   "metadata": {},
   "source": [
    "The string representation of `PythiaEvent` objects shows the length, whereas the developer representation exposes the thinly wrapped pythia8.Event object and address."
   ]
  },
  {
   "cell_type": "code",
   "execution_count": 4,
   "id": "919c5fd6-f99b-4afd-aa01-235f73cb29fe",
   "metadata": {
    "tags": []
   },
   "outputs": [
    {
     "data": {
      "text/plain": [
       "PythiaEvent(_event=<pythia8.Event object at 0x2b87f77917f0>)"
      ]
     },
     "execution_count": 4,
     "metadata": {},
     "output_type": "execute_result"
    }
   ],
   "source": [
    "event = next(gen)\n",
    "event"
   ]
  },
  {
   "cell_type": "code",
   "execution_count": 5,
   "id": "dc7c2cf5-bfa6-467b-8aab-2ddd3a154451",
   "metadata": {
    "tags": []
   },
   "outputs": [
    {
     "name": "stdout",
     "output_type": "stream",
     "text": [
      "PythiaEvent(len=300)\n"
     ]
    }
   ],
   "source": [
    "print(event)"
   ]
  },
  {
   "cell_type": "markdown",
   "id": "d595c22e-19fc-4dcc-8227-1ece1c33f917",
   "metadata": {},
   "source": [
    "`PythiaEvent` objects expose the generated data via numpy arrays, accessed with object attributes. Comprehensive documentation can be seen by either calling `help(event)`, or checking the [API reference online](https://showerpipe.readthedocs.io/en/latest/api/showerpipe.generator.PythiaEvent.html)."
   ]
  },
  {
   "cell_type": "markdown",
   "id": "c98886be-0b87-4468-8d7e-d5592827a33f",
   "metadata": {},
   "source": [
    "Some arrays are structured, such as `.pmu` (momentum), `.color`, and `.edges`. These are just views over the data, the underlying array is contiguous and unstructured."
   ]
  },
  {
   "cell_type": "code",
   "execution_count": 6,
   "id": "9ed445e2-b5e5-41ed-84e9-0ab2cc766a97",
   "metadata": {
    "tags": []
   },
   "outputs": [
    {
     "data": {
      "text/plain": [
       "array([( 0.00000000e+00,  0.00000000e+00,  979.99955084, 980.        ),\n",
       "       ( 0.00000000e+00,  0.00000000e+00, -979.99955084, 980.        ),\n",
       "       ( 0.00000000e+00,  0.00000000e+00,  121.88537547, 121.88537547),\n",
       "       ( 0.00000000e+00,  0.00000000e+00,  -18.0319325 ,  18.0319325 ),\n",
       "       ( 0.00000000e+00,  0.00000000e+00,  103.85344298, 139.91730797),\n",
       "       (-2.84217094e-14, -2.44249065e-15,  121.88537547, 121.88537547),\n",
       "       ( 2.84217094e-14,  2.88657986e-15,  -38.42187168,  38.42187168),\n",
       "       (-1.83832924e+01, -1.79818313e+00,   97.94064938, 136.83882912)],\n",
       "      dtype=[('x', '<f8'), ('y', '<f8'), ('z', '<f8'), ('e', '<f8')])"
      ]
     },
     "execution_count": 6,
     "metadata": {},
     "output_type": "execute_result"
    }
   ],
   "source": [
    "event.pmu[:8]  # momenta of the first 8 particles"
   ]
  },
  {
   "cell_type": "code",
   "execution_count": 7,
   "id": "6e992fa9-a39d-4ef7-bec8-99f63e452b54",
   "metadata": {
    "tags": []
   },
   "outputs": [
    {
     "data": {
      "text/plain": [
       "array([ 2212, -2212,     1,    -1,    23,     1,    -1,    23],\n",
       "      dtype=int32)"
      ]
     },
     "execution_count": 7,
     "metadata": {},
     "output_type": "execute_result"
    }
   ],
   "source": [
    "event.pdg[:8]  # pdg codes of the first 8 particles"
   ]
  },
  {
   "cell_type": "markdown",
   "id": "168bae5e-edac-4d4a-8c13-adab031ba394",
   "metadata": {},
   "source": [
    "The length of these iterators is endless, so calling `len()` results in a `NotImplementedError`. However, LHE files can be used to generate data from hard processes stored on disk. In this case, the iterator has a length equal to the number of events in the LHE file. This can be determined using the `lhe` module."
   ]
  },
  {
   "cell_type": "code",
   "execution_count": 8,
   "id": "721eb220-eba1-48fa-9c02-f04871d1d08c",
   "metadata": {
    "tags": []
   },
   "outputs": [
    {
     "data": {
      "text/plain": [
       "100"
      ]
     },
     "execution_count": 8,
     "metadata": {},
     "output_type": "execute_result"
    }
   ],
   "source": [
    "shp.lhe.count_events(\"tt_bb_100.lhe.gz\")"
   ]
  },
  {
   "cell_type": "markdown",
   "id": "387985de-ec6a-4bc4-99d5-e7d343514259",
   "metadata": {},
   "source": [
    "LHE events can be repeated or tiled using a `LheData` object, for studies which require to see the same event showered and hadronised many times."
   ]
  },
  {
   "cell_type": "code",
   "execution_count": 14,
   "id": "9a10e875-59ba-4c46-8397-e6b75d08e881",
   "metadata": {
    "tags": []
   },
   "outputs": [
    {
     "data": {
      "text/plain": [
       "LheData(num_events=100)"
      ]
     },
     "execution_count": 14,
     "metadata": {},
     "output_type": "execute_result"
    }
   ],
   "source": [
    "lhe_data = shp.lhe.LheData.from_storage(\"tt_bb_100.lhe.gz\")\n",
    "lhe_data"
   ]
  },
  {
   "cell_type": "code",
   "execution_count": 15,
   "id": "9cc60b66-cc4a-4794-9634-41fab447bda4",
   "metadata": {
    "tags": []
   },
   "outputs": [
    {
     "data": {
      "text/plain": [
       "LheData(num_events=200)"
      ]
     },
     "execution_count": 15,
     "metadata": {},
     "output_type": "execute_result"
    }
   ],
   "source": [
    "lhe_data.tile(2)"
   ]
  },
  {
   "cell_type": "code",
   "execution_count": 16,
   "id": "13b5ce1f-6f98-4006-a488-488ea494b128",
   "metadata": {
    "tags": []
   },
   "outputs": [],
   "source": [
    "lhe_data = shp.lhe.load_lhe(\"https://zenodo.org/record/6034610/files/unweighted_events.lhe.gz\")"
   ]
  },
  {
   "cell_type": "code",
   "execution_count": 12,
   "id": "4266d1d5-259a-49cf-aa9b-f3b73804be68",
   "metadata": {
    "tags": []
   },
   "outputs": [
    {
     "data": {
      "text/plain": [
       "[b'<LesHouchesEvents version=\"3.0\">',\n",
       " b'<header>',\n",
       " b'<!--',\n",
       " b'#*********************************************************************',\n",
       " b'#                                                                    *',\n",
       " b'#                        MadGraph5_aMC@NLO                           *',\n",
       " b'#                                                                    *',\n",
       " b'#                           Going Beyond                             *',\n",
       " b'#                                                                    *',\n",
       " b'#                   http://madgraph.hep.uiuc.edu                     *']"
      ]
     },
     "execution_count": 12,
     "metadata": {},
     "output_type": "execute_result"
    }
   ],
   "source": [
    "lhe_data.splitlines()[:10]"
   ]
  },
  {
   "cell_type": "markdown",
   "id": "a6beef38-469b-4a24-ae3e-a930015dd303",
   "metadata": {},
   "source": [
    "## Manipulating the event record with graphicle"
   ]
  },
  {
   "cell_type": "code",
   "execution_count": 58,
   "id": "981e07b6-4022-49e0-8fe2-91f0062b9689",
   "metadata": {
    "tags": []
   },
   "outputs": [],
   "source": [
    "import graphicle as gcl"
   ]
  },
  {
   "cell_type": "markdown",
   "id": "f5bed42a-cffd-46a5-b61b-285f6fb3024a",
   "metadata": {},
   "source": [
    "**graphicle** is a portmanteau of \"graph\" and \"particle\", as it fuses the adjacency of the generation DAG with particle data.\n",
    "Thin wrappers around the array data add semantic meaning and functionality to the attributes in the event record.\n",
    "These data structures include `MomentumArray`, `PdgArray`, `AdjacencyList`, *etc*."
   ]
  },
  {
   "cell_type": "code",
   "execution_count": 59,
   "id": "30e06d09-4bdf-4e24-a940-cbc0510ae947",
   "metadata": {
    "tags": []
   },
   "outputs": [
    {
     "name": "stdout",
     "output_type": "stream",
     "text": [
      "Overwriting pythia-settings.cmnd\n"
     ]
    }
   ],
   "source": [
    "%%file pythia-settings.cmnd\n",
    "PartonLevel:ISR = on\n",
    "PartonLevel:FSR = on\n",
    "PartonLevel:MPI = on\n",
    "HadronLevel:all = on\n",
    "Beams:frameType = 4"
   ]
  },
  {
   "cell_type": "code",
   "execution_count": 60,
   "id": "4f19f457-887c-4707-8b87-b4449ab212e5",
   "metadata": {
    "tags": []
   },
   "outputs": [
    {
     "name": "stdout",
     "output_type": "stream",
     "text": [
      " *-----------------------  SusyLesHouches SUSY/BSM Interface  ------------------------*\n",
      " | Last Change 12 Apr 2017 - P. Skands\n",
      " | Parsing: /tmp/tmpcbtl4995\n",
      " | (SLHA::readFile) line 334 - storing non-SLHA(2) block: yukawa\n",
      " *------------------------------------------------------------------------------------*\n"
     ]
    }
   ],
   "source": [
    "gen = shp.generator.PythiaGenerator(\n",
    "    \"pythia-settings.cmnd\",\n",
    "    lhe_file=\"https://zenodo.org/record/6034610/files/unweighted_events.lhe.gz\",\n",
    "    rng_seed=1\n",
    ")\n",
    "event = next(gen)"
   ]
  },
  {
   "cell_type": "code",
   "execution_count": 61,
   "id": "b93a7279-f8af-49b3-af60-beca16b7570d",
   "metadata": {
    "tags": []
   },
   "outputs": [
    {
     "data": {
      "text/plain": [
       "MomentumArray([[ 0.00000000e+00  0.00000000e+00  6.49999993e+03  6.50000000e+03]\n",
       "               [ 0.00000000e+00  0.00000000e+00 -6.49999993e+03  6.50000000e+03]\n",
       "               [ 0.00000000e+00  0.00000000e+00  2.99108832e+02  2.99108832e+02]\n",
       "               ...\n",
       "               [ 3.11737853e-01 -2.26242178e+00 -6.81890135e+00  7.19118546e+00]\n",
       "               [ 9.37969381e-03 -3.57643723e-01 -7.98177924e-01  8.74691380e-01]\n",
       "               [ 3.07652721e-02 -4.35641329e-02 -4.56023615e-02  7.01705851e-02]],\n",
       "              dtype=[('x', '<f8'), ('y', '<f8'), ('z', '<f8'), ('e', '<f8')])"
      ]
     },
     "execution_count": 61,
     "metadata": {},
     "output_type": "execute_result"
    }
   ],
   "source": [
    "pmu = gcl.MomentumArray(event.pmu)\n",
    "pmu"
   ]
  },
  {
   "cell_type": "code",
   "execution_count": 70,
   "id": "613bc31a-d9e7-4dac-8014-baed8bffb205",
   "metadata": {
    "tags": []
   },
   "outputs": [
    {
     "data": {
      "text/plain": [
       "array([9.38269999e-01, 9.38269999e-01, 0.00000000e+00, ...,\n",
       "       1.59838115e-07, 2.78726032e-08, 3.94727752e-09])"
      ]
     },
     "execution_count": 70,
     "metadata": {},
     "output_type": "execute_result"
    }
   ],
   "source": [
    "pmu.mass"
   ]
  },
  {
   "cell_type": "code",
   "execution_count": 65,
   "id": "4f889eb7-fa5a-4af3-b832-ad589844e4b6",
   "metadata": {
    "tags": []
   },
   "outputs": [
    {
     "data": {
      "text/plain": [
       "MomentumArray([[ 0.00000000e+00  0.00000000e+00  6.49999993e+03  6.50000000e+03]\n",
       "               [ 0.00000000e+00  0.00000000e+00 -6.49999993e+03  6.50000000e+03]\n",
       "               [ 0.00000000e+00  0.00000000e+00  2.99108832e+02  2.99108832e+02]\n",
       "               ...\n",
       "               [ 2.26266931e+00  3.09936128e-01 -6.81890135e+00  7.19118546e+00]\n",
       "               [ 3.57651079e-01  9.09488958e-03 -7.98177924e-01  8.74691380e-01]\n",
       "               [ 4.35886183e-02  3.07305711e-02 -4.56023615e-02  7.01705851e-02]],\n",
       "              dtype=[('x', '<f8'), ('y', '<f8'), ('z', '<f8'), ('e', '<f8')])"
      ]
     },
     "execution_count": 65,
     "metadata": {},
     "output_type": "execute_result"
    }
   ],
   "source": [
    "pmu_rotate = pmu.shift_phi(0.5 * 3.14)\n",
    "pmu_rotate"
   ]
  },
  {
   "cell_type": "code",
   "execution_count": 66,
   "id": "58d34ee5-c9d9-4b53-b046-566a607f0a61",
   "metadata": {
    "tags": []
   },
   "outputs": [
    {
     "data": {
      "text/plain": [
       "PdgArray([2212 2212   21 ...   22   22   22], dtype=int32)"
      ]
     },
     "execution_count": 66,
     "metadata": {},
     "output_type": "execute_result"
    }
   ],
   "source": [
    "pdgs = gcl.PdgArray(event.pdg)\n",
    "pdgs"
   ]
  },
  {
   "cell_type": "code",
   "execution_count": 68,
   "id": "6b4ee342-2f96-4a35-bbf1-e6373ccd4840",
   "metadata": {
    "tags": []
   },
   "outputs": [
    {
     "data": {
      "text/plain": [
       "array(['p', 'p', 'g', ..., 'gamma', 'gamma', 'gamma'], dtype=object)"
      ]
     },
     "execution_count": 68,
     "metadata": {},
     "output_type": "execute_result"
    }
   ],
   "source": [
    "pdgs.name"
   ]
  },
  {
   "cell_type": "code",
   "execution_count": 69,
   "id": "8152a262-db4e-48ee-b306-953499df9d6b",
   "metadata": {
    "tags": []
   },
   "outputs": [
    {
     "data": {
      "text/plain": [
       "array([1., 1., 0., ..., 0., 0., 0.])"
      ]
     },
     "execution_count": 69,
     "metadata": {},
     "output_type": "execute_result"
    }
   ],
   "source": [
    "pdgs.charge"
   ]
  },
  {
   "cell_type": "code",
   "execution_count": 71,
   "id": "91a66241-697c-4c7d-9edd-42a242c900c0",
   "metadata": {
    "tags": []
   },
   "outputs": [
    {
     "data": {
      "text/plain": [
       "AdjacencyList([[   0   -1]\n",
       "               [   0   -2]\n",
       "               [  -6   -3]\n",
       "               ...\n",
       "               [-970  981]\n",
       "               [-971  982]\n",
       "               [-971  983]],\n",
       "              dtype=[('src', '<i4'), ('dst', '<i4')])"
      ]
     },
     "execution_count": 71,
     "metadata": {},
     "output_type": "execute_result"
    }
   ],
   "source": [
    "adj = gcl.AdjacencyList(event.edges)\n",
    "adj"
   ]
  },
  {
   "cell_type": "code",
   "execution_count": 72,
   "id": "53b84656-9ea5-4f69-9b00-e2840d3d9df6",
   "metadata": {
    "tags": []
   },
   "outputs": [
    {
     "name": "stdout",
     "output_type": "stream",
     "text": [
      "MaskArray([False False False ...  True  True  True], dtype=bool)\n"
     ]
    }
   ],
   "source": [
    "print(adj.leaves)"
   ]
  },
  {
   "cell_type": "code",
   "execution_count": 73,
   "id": "239ba9a3-6f5b-4827-90fa-5c1bb34a045f",
   "metadata": {
    "tags": []
   },
   "outputs": [
    {
     "name": "stdout",
     "output_type": "stream",
     "text": [
      "True\n"
     ]
    }
   ],
   "source": [
    "print(np.array_equal(adj.leaves, event.final))"
   ]
  },
  {
   "cell_type": "markdown",
   "id": "233b40ed-5b32-4363-8ce8-c962f30877c3",
   "metadata": {},
   "source": [
    "### Composite data structures\n",
    "\n",
    "These custom types may then be used to form composite data structures, which enables the ability to subscript over the full event.\n",
    "Additionally, methods and routines in other modules combine different attributes from the same data structure to create higher level operations.\n",
    "\n",
    "### Instantiating\n",
    "\n",
    "There are two\\* composite data structures for the event record: `ParticleSet`, and `Graphicle` (which contains `ParticleSet` and `AdjacencyList`).\n",
    "These composites can be instantiated by either passing numpy arrays for each attribute, passing existing constituent objects, or by passing an object which has the same interface as `PythiaEvent`.\n",
    "\n",
    "\\*There is also a composite structure called `MaskGroup`, which will be discussed in the section about querying the event."
   ]
  },
  {
   "cell_type": "code",
   "execution_count": 74,
   "id": "e2f1a71c-d511-459a-bf25-759e40c907b6",
   "metadata": {
    "tags": []
   },
   "outputs": [
    {
     "data": {
      "text/html": [
       "<table>\n",
       "<thead>\n",
       "<tr><th>name  </th><th style=\"text-align: right;\">        px</th><th style=\"text-align: right;\">        py</th><th style=\"text-align: right;\">        pz</th><th style=\"text-align: right;\">    energy</th><th style=\"text-align: right;\">  color</th><th style=\"text-align: right;\">  anticolor</th><th style=\"text-align: right;\">  helicity</th><th style=\"text-align: right;\">  status</th><th>final  </th><th style=\"text-align: right;\">  src</th><th style=\"text-align: right;\">  dst</th></tr>\n",
       "</thead>\n",
       "<tbody>\n",
       "<tr><td>p     </td><td style=\"text-align: right;\">  0.00E+00</td><td style=\"text-align: right;\">  0.00E+00</td><td style=\"text-align: right;\">  6.50E+03</td><td style=\"text-align: right;\">  6.50E+03</td><td style=\"text-align: right;\">      0</td><td style=\"text-align: right;\">          0</td><td style=\"text-align: right;\">         9</td><td style=\"text-align: right;\">     -12</td><td>False  </td><td style=\"text-align: right;\">    0</td><td style=\"text-align: right;\">   -1</td></tr>\n",
       "<tr><td>p     </td><td style=\"text-align: right;\">  0.00E+00</td><td style=\"text-align: right;\">  0.00E+00</td><td style=\"text-align: right;\"> -6.50E+03</td><td style=\"text-align: right;\">  6.50E+03</td><td style=\"text-align: right;\">      0</td><td style=\"text-align: right;\">          0</td><td style=\"text-align: right;\">         9</td><td style=\"text-align: right;\">     -12</td><td>False  </td><td style=\"text-align: right;\">    0</td><td style=\"text-align: right;\">   -2</td></tr>\n",
       "<tr><td>g     </td><td style=\"text-align: right;\">  0.00E+00</td><td style=\"text-align: right;\">  0.00E+00</td><td style=\"text-align: right;\">  2.99E+02</td><td style=\"text-align: right;\">  2.99E+02</td><td style=\"text-align: right;\">    503</td><td style=\"text-align: right;\">        502</td><td style=\"text-align: right;\">         1</td><td style=\"text-align: right;\">     -21</td><td>False  </td><td style=\"text-align: right;\">   -6</td><td style=\"text-align: right;\">   -3</td></tr>\n",
       "<tr><td>g     </td><td style=\"text-align: right;\"> -0.00E+00</td><td style=\"text-align: right;\"> -0.00E+00</td><td style=\"text-align: right;\"> -5.99E+02</td><td style=\"text-align: right;\">  5.99E+02</td><td style=\"text-align: right;\">    501</td><td style=\"text-align: right;\">        503</td><td style=\"text-align: right;\">         1</td><td style=\"text-align: right;\">     -21</td><td>False  </td><td style=\"text-align: right;\">   -7</td><td style=\"text-align: right;\">   -3</td></tr>\n",
       "<tr><td>t     </td><td style=\"text-align: right;\">  2.34E+02</td><td style=\"text-align: right;\"> -2.20E+01</td><td style=\"text-align: right;\"> -4.76E+02</td><td style=\"text-align: right;\">  5.58E+02</td><td style=\"text-align: right;\">    501</td><td style=\"text-align: right;\">          0</td><td style=\"text-align: right;\">         0</td><td style=\"text-align: right;\">     -22</td><td>False  </td><td style=\"text-align: right;\">   -3</td><td style=\"text-align: right;\">   -4</td></tr>\n",
       "<tr><td>...   </td><td style=\"text-align: right;\">...       </td><td style=\"text-align: right;\">...       </td><td style=\"text-align: right;\">...       </td><td style=\"text-align: right;\">...       </td><td style=\"text-align: right;\">    ...</td><td style=\"text-align: right;\">        ...</td><td style=\"text-align: right;\">       ...</td><td style=\"text-align: right;\">     ...</td><td>...    </td><td style=\"text-align: right;\">  ...</td><td style=\"text-align: right;\">  ...</td></tr>\n",
       "<tr><td>gamma </td><td style=\"text-align: right;\">  1.30E-02</td><td style=\"text-align: right;\"> -1.30E+00</td><td style=\"text-align: right;\"> -3.24E+00</td><td style=\"text-align: right;\">  3.49E+00</td><td style=\"text-align: right;\">      0</td><td style=\"text-align: right;\">          0</td><td style=\"text-align: right;\">         9</td><td style=\"text-align: right;\">      91</td><td>True   </td><td style=\"text-align: right;\"> -969</td><td style=\"text-align: right;\">  979</td></tr>\n",
       "<tr><td>gamma </td><td style=\"text-align: right;\">  1.70E-01</td><td style=\"text-align: right;\"> -8.21E-01</td><td style=\"text-align: right;\"> -2.32E+00</td><td style=\"text-align: right;\">  2.47E+00</td><td style=\"text-align: right;\">      0</td><td style=\"text-align: right;\">          0</td><td style=\"text-align: right;\">         9</td><td style=\"text-align: right;\">      91</td><td>True   </td><td style=\"text-align: right;\"> -970</td><td style=\"text-align: right;\">  980</td></tr>\n",
       "<tr><td>gamma </td><td style=\"text-align: right;\">  3.12E-01</td><td style=\"text-align: right;\"> -2.26E+00</td><td style=\"text-align: right;\"> -6.82E+00</td><td style=\"text-align: right;\">  7.19E+00</td><td style=\"text-align: right;\">      0</td><td style=\"text-align: right;\">          0</td><td style=\"text-align: right;\">         9</td><td style=\"text-align: right;\">      91</td><td>True   </td><td style=\"text-align: right;\"> -970</td><td style=\"text-align: right;\">  981</td></tr>\n",
       "<tr><td>gamma </td><td style=\"text-align: right;\">  9.38E-03</td><td style=\"text-align: right;\"> -3.58E-01</td><td style=\"text-align: right;\"> -7.98E-01</td><td style=\"text-align: right;\">  8.75E-01</td><td style=\"text-align: right;\">      0</td><td style=\"text-align: right;\">          0</td><td style=\"text-align: right;\">         9</td><td style=\"text-align: right;\">      91</td><td>True   </td><td style=\"text-align: right;\"> -971</td><td style=\"text-align: right;\">  982</td></tr>\n",
       "<tr><td>gamma </td><td style=\"text-align: right;\">  3.08E-02</td><td style=\"text-align: right;\"> -4.36E-02</td><td style=\"text-align: right;\"> -4.56E-02</td><td style=\"text-align: right;\">  7.02E-02</td><td style=\"text-align: right;\">      0</td><td style=\"text-align: right;\">          0</td><td style=\"text-align: right;\">         9</td><td style=\"text-align: right;\">      91</td><td>True   </td><td style=\"text-align: right;\"> -971</td><td style=\"text-align: right;\">  983</td></tr>\n",
       "</tbody>\n",
       "</table>\n",
       "\n",
       "1065 particles × 12 attributes"
      ],
      "text/plain": [
       "Graphicle(particles=ParticleSet(\n",
       "PdgArray([2212 2212   21 ...   22   22   22], dtype=int32),\n",
       "MomentumArray([[ 0.00000000e+00  0.00000000e+00  6.49999993e+03  6.50000000e+03]\n",
       "               [ 0.00000000e+00  0.00000000e+00 -6.49999993e+03  6.50000000e+03]\n",
       "               [ 0.00000000e+00  0.00000000e+00  2.99108832e+02  2.99108832e+02]\n",
       "               ...\n",
       "               [ 3.11737853e-01 -2.26242178e+00 -6.81890135e+00  7.19118546e+00]\n",
       "               [ 9.37969381e-03 -3.57643723e-01 -7.98177924e-01  8.74691380e-01]\n",
       "               [ 3.07652721e-02 -4.35641329e-02 -4.56023615e-02  7.01705851e-02]],\n",
       "              dtype=[('x', '<f8'), ('y', '<f8'), ('z', '<f8'), ('e', '<f8')]),\n",
       "ColorArray([[  0   0]\n",
       "            [  0   0]\n",
       "            [503 502]\n",
       "            ...\n",
       "            [  0   0]\n",
       "            [  0   0]\n",
       "            [  0   0]],\n",
       "           dtype=[('color', '<i4'), ('anticolor', '<i4')]),\n",
       "HelicityArray([9 9 1 ... 9 9 9], dtype=int16),\n",
       "StatusArray([-12 -12 -21 ...  91  91  91], dtype=int16),\n",
       "MaskArray([False False False ...  True  True  True], dtype=bool)\n",
       "), adj=AdjacencyList([[   0   -1]\n",
       "               [   0   -2]\n",
       "               [  -6   -3]\n",
       "               ...\n",
       "               [-970  981]\n",
       "               [-971  982]\n",
       "               [-971  983]],\n",
       "              dtype=[('src', '<i4'), ('dst', '<i4')]))"
      ]
     },
     "execution_count": 74,
     "metadata": {},
     "output_type": "execute_result"
    }
   ],
   "source": [
    "graph = gcl.Graphicle.from_event(event)\n",
    "graph"
   ]
  },
  {
   "cell_type": "markdown",
   "id": "447f7a4d-3fd5-4b12-af2e-2049f9bfc1f6",
   "metadata": {},
   "source": [
    "The string representation of the composite data structures outputs a table, with columns for each attribute. The PDG, however, is replaced with the human-readable name of the particle.\n",
    "\n",
    "The `src` and `dst` columns refer to the source and destination nodes of each edge that the particles represent."
   ]
  },
  {
   "cell_type": "markdown",
   "id": "3a02b3e5-87dd-45fd-b139-9360a2eb869c",
   "metadata": {},
   "source": [
    "### Querying the event record\n",
    "\n",
    "One key advantage of this composite view is that it is possible to form complex filters over the whole event record.\n",
    "\n",
    "A simple start is to use the `.hard_mask` attribute (actually aliased from `StatusArray.hard_mask`), which gives a boolean mask identifying the hard process."
   ]
  },
  {
   "cell_type": "code",
   "execution_count": 75,
   "id": "281a5459-12e8-48f7-a79b-452c41b67cd1",
   "metadata": {
    "tags": []
   },
   "outputs": [
    {
     "data": {
      "text/html": [
       "<table>\n",
       "<thead>\n",
       "<tr><th>name   </th><th style=\"text-align: right;\">       px</th><th style=\"text-align: right;\">       py</th><th style=\"text-align: right;\">       pz</th><th style=\"text-align: right;\">  energy</th><th style=\"text-align: right;\">  color</th><th style=\"text-align: right;\">  anticolor</th><th style=\"text-align: right;\">  helicity</th><th style=\"text-align: right;\">  status</th><th>final  </th><th style=\"text-align: right;\">  src</th><th style=\"text-align: right;\">  dst</th></tr>\n",
       "</thead>\n",
       "<tbody>\n",
       "<tr><td>g      </td><td style=\"text-align: right;\"> 0.00E+00</td><td style=\"text-align: right;\"> 0.00E+00</td><td style=\"text-align: right;\"> 2.99E+02</td><td style=\"text-align: right;\">2.99E+02</td><td style=\"text-align: right;\">    503</td><td style=\"text-align: right;\">        502</td><td style=\"text-align: right;\">         1</td><td style=\"text-align: right;\">     -21</td><td>False  </td><td style=\"text-align: right;\">   -6</td><td style=\"text-align: right;\">   -3</td></tr>\n",
       "<tr><td>g      </td><td style=\"text-align: right;\">-0.00E+00</td><td style=\"text-align: right;\">-0.00E+00</td><td style=\"text-align: right;\">-5.99E+02</td><td style=\"text-align: right;\">5.99E+02</td><td style=\"text-align: right;\">    501</td><td style=\"text-align: right;\">        503</td><td style=\"text-align: right;\">         1</td><td style=\"text-align: right;\">     -21</td><td>False  </td><td style=\"text-align: right;\">   -7</td><td style=\"text-align: right;\">   -3</td></tr>\n",
       "<tr><td>t      </td><td style=\"text-align: right;\"> 2.34E+02</td><td style=\"text-align: right;\">-2.20E+01</td><td style=\"text-align: right;\">-4.76E+02</td><td style=\"text-align: right;\">5.58E+02</td><td style=\"text-align: right;\">    501</td><td style=\"text-align: right;\">          0</td><td style=\"text-align: right;\">         0</td><td style=\"text-align: right;\">     -22</td><td>False  </td><td style=\"text-align: right;\">   -3</td><td style=\"text-align: right;\">   -4</td></tr>\n",
       "<tr><td>t~     </td><td style=\"text-align: right;\">-2.34E+02</td><td style=\"text-align: right;\"> 2.20E+01</td><td style=\"text-align: right;\"> 1.76E+02</td><td style=\"text-align: right;\">3.40E+02</td><td style=\"text-align: right;\">      0</td><td style=\"text-align: right;\">        502</td><td style=\"text-align: right;\">         0</td><td style=\"text-align: right;\">     -22</td><td>False  </td><td style=\"text-align: right;\">   -3</td><td style=\"text-align: right;\">   -5</td></tr>\n",
       "<tr><td>b      </td><td style=\"text-align: right;\"> 1.43E+01</td><td style=\"text-align: right;\">-5.00E+01</td><td style=\"text-align: right;\">-1.38E+02</td><td style=\"text-align: right;\">1.48E+02</td><td style=\"text-align: right;\">    501</td><td style=\"text-align: right;\">          0</td><td style=\"text-align: right;\">        -1</td><td style=\"text-align: right;\">     -23</td><td>False  </td><td style=\"text-align: right;\"> -257</td><td style=\"text-align: right;\"> -329</td></tr>\n",
       "<tr><td>W+     </td><td style=\"text-align: right;\"> 2.13E+02</td><td style=\"text-align: right;\"> 2.50E+01</td><td style=\"text-align: right;\">-3.42E+02</td><td style=\"text-align: right;\">4.12E+02</td><td style=\"text-align: right;\">      0</td><td style=\"text-align: right;\">          0</td><td style=\"text-align: right;\">         0</td><td style=\"text-align: right;\">     -22</td><td>False  </td><td style=\"text-align: right;\"> -257</td><td style=\"text-align: right;\"> -330</td></tr>\n",
       "<tr><td>b~     </td><td style=\"text-align: right;\">-1.50E+02</td><td style=\"text-align: right;\"> 3.20E+01</td><td style=\"text-align: right;\"> 3.24E+01</td><td style=\"text-align: right;\">1.56E+02</td><td style=\"text-align: right;\">      0</td><td style=\"text-align: right;\">        502</td><td style=\"text-align: right;\">         1</td><td style=\"text-align: right;\">     -23</td><td>False  </td><td style=\"text-align: right;\"> -258</td><td style=\"text-align: right;\"> -345</td></tr>\n",
       "<tr><td>W-     </td><td style=\"text-align: right;\">-8.66E+01</td><td style=\"text-align: right;\">-1.10E+01</td><td style=\"text-align: right;\"> 1.40E+02</td><td style=\"text-align: right;\">1.83E+02</td><td style=\"text-align: right;\">      0</td><td style=\"text-align: right;\">          0</td><td style=\"text-align: right;\">         1</td><td style=\"text-align: right;\">     -22</td><td>False  </td><td style=\"text-align: right;\"> -258</td><td style=\"text-align: right;\"> -346</td></tr>\n",
       "<tr><td>tau+   </td><td style=\"text-align: right;\"> 4.02E+01</td><td style=\"text-align: right;\">-1.04E+01</td><td style=\"text-align: right;\">-2.41E+01</td><td style=\"text-align: right;\">4.80E+01</td><td style=\"text-align: right;\">      0</td><td style=\"text-align: right;\">          0</td><td style=\"text-align: right;\">         9</td><td style=\"text-align: right;\">     -23</td><td>False  </td><td style=\"text-align: right;\"> -333</td><td style=\"text-align: right;\"> -350</td></tr>\n",
       "<tr><td>nu(tau)</td><td style=\"text-align: right;\"> 1.72E+02</td><td style=\"text-align: right;\"> 3.52E+01</td><td style=\"text-align: right;\">-3.18E+02</td><td style=\"text-align: right;\">3.63E+02</td><td style=\"text-align: right;\">      0</td><td style=\"text-align: right;\">          0</td><td style=\"text-align: right;\">         9</td><td style=\"text-align: right;\">     -23</td><td>False  </td><td style=\"text-align: right;\"> -333</td><td style=\"text-align: right;\"> -351</td></tr>\n",
       "<tr><td>s      </td><td style=\"text-align: right;\">-4.85E+01</td><td style=\"text-align: right;\">-4.58E+01</td><td style=\"text-align: right;\"> 7.17E+01</td><td style=\"text-align: right;\">9.80E+01</td><td style=\"text-align: right;\">    504</td><td style=\"text-align: right;\">          0</td><td style=\"text-align: right;\">         9</td><td style=\"text-align: right;\">     -23</td><td>False  </td><td style=\"text-align: right;\"> -347</td><td style=\"text-align: right;\"> -355</td></tr>\n",
       "<tr><td>c~     </td><td style=\"text-align: right;\">-3.81E+01</td><td style=\"text-align: right;\"> 3.48E+01</td><td style=\"text-align: right;\"> 6.81E+01</td><td style=\"text-align: right;\">8.55E+01</td><td style=\"text-align: right;\">      0</td><td style=\"text-align: right;\">        504</td><td style=\"text-align: right;\">         9</td><td style=\"text-align: right;\">     -23</td><td>False  </td><td style=\"text-align: right;\"> -347</td><td style=\"text-align: right;\"> -356</td></tr>\n",
       "</tbody>\n",
       "</table>\n",
       "\n",
       "12 particles × 12 attributes"
      ],
      "text/plain": [
       "Graphicle(particles=ParticleSet(\n",
       "PdgArray([ 21  21   6  -6   5  24  -5 -24 -15  16   3  -4], dtype=int32),\n",
       "MomentumArray([[   0.            0.          299.10883196  299.10883196]\n",
       "               [  -0.           -0.         -599.14080426  599.14080426]\n",
       "               [ 234.13843184  -21.97597443 -475.56339416  558.07308929]\n",
       "               [-234.13843184   21.97597443  175.53142186  340.17654693]\n",
       "               [  14.27313029  -50.04217041 -138.28225614  147.82426537]\n",
       "               [ 212.83998845   24.96284072 -342.42785169  411.88354382]\n",
       "               [-149.55630042   32.03000671   32.38639112  156.40964374]\n",
       "               [ -86.64129232  -10.96082006  139.8639294   183.45568351]\n",
       "               [  40.18776085  -10.42345449  -24.10224835   48.03935876]\n",
       "               [ 172.09629315   35.24375776 -317.60363225  362.94810069]\n",
       "               [ -48.52389873  -45.7805596    71.73606328   97.9629581 ]\n",
       "               [ -38.11739359   34.81973954   68.12786612   85.49272541]],\n",
       "              dtype=[('x', '<f8'), ('y', '<f8'), ('z', '<f8'), ('e', '<f8')]),\n",
       "ColorArray([[503 502]\n",
       "            [501 503]\n",
       "            [501   0]\n",
       "            [  0 502]\n",
       "            [501   0]\n",
       "            [  0   0]\n",
       "            [  0 502]\n",
       "            [  0   0]\n",
       "            [  0   0]\n",
       "            [  0   0]\n",
       "            [504   0]\n",
       "            [  0 504]],\n",
       "           dtype=[('color', '<i4'), ('anticolor', '<i4')]),\n",
       "HelicityArray([ 1  1  0  0 -1  0  1  1  9  9  9  9], dtype=int16),\n",
       "StatusArray([-21 -21 -22 -22 -23 -22 -23 -22 -23 -23 -23 -23], dtype=int16),\n",
       "MaskArray([False False False False False False False False False False False False], dtype=bool)\n",
       "), adj=AdjacencyList([[  -6   -3]\n",
       "               [  -7   -3]\n",
       "               [  -3   -4]\n",
       "               [  -3   -5]\n",
       "               [-257 -329]\n",
       "               [-257 -330]\n",
       "               [-258 -345]\n",
       "               [-258 -346]\n",
       "               [-333 -350]\n",
       "               [-333 -351]\n",
       "               [-347 -355]\n",
       "               [-347 -356]],\n",
       "              dtype=[('src', '<i4'), ('dst', '<i4')]))"
      ]
     },
     "execution_count": 75,
     "metadata": {},
     "output_type": "execute_result"
    }
   ],
   "source": [
    "graph[graph.hard_mask]"
   ]
  },
  {
   "cell_type": "markdown",
   "id": "beaebb1d-4a94-450f-8bcf-b3d3a7cbf0f2",
   "metadata": {},
   "source": [
    "The `.hard_mask` attribute is actually a `MaskGroup`, which is a way of labelling and organising masks in hierarchies. `.hard_mask` is a flat `MaskGroup`, identifying different sections of the hard process, identified by status codes."
   ]
  },
  {
   "cell_type": "code",
   "execution_count": 76,
   "id": "716401ee-add2-43b1-b6cc-d092d0445bbe",
   "metadata": {
    "tags": []
   },
   "outputs": [
    {
     "data": {
      "text/html": [
       "<pre style=\"white-space:pre;overflow-x:auto;line-height:normal;font-family:Menlo,'DejaVu Sans Mono',consolas,'Courier New',monospace\"></pre>\n"
      ],
      "text/plain": []
     },
     "metadata": {},
     "output_type": "display_data"
    },
    {
     "name": "stdout",
     "output_type": "stream",
     "text": [
      "MaskGroup(agg_op=OR)\n",
      "├── incoming\n",
      "├── intermediate\n",
      "├── outgoing\n",
      "└── outgoing_nonperturbative_diffraction\n",
      "\n"
     ]
    }
   ],
   "source": [
    "print(graph.hard_mask)"
   ]
  },
  {
   "cell_type": "markdown",
   "id": "221c0598-f9bf-4353-a6ec-337bcc4cb3e0",
   "metadata": {},
   "source": [
    "To view only outgoing particles from the hard process, you can use string subscripting:"
   ]
  },
  {
   "cell_type": "code",
   "execution_count": 77,
   "id": "2a66bee1-bca1-49ef-937a-b05c0d67a20a",
   "metadata": {
    "tags": []
   },
   "outputs": [
    {
     "data": {
      "text/html": [
       "<table>\n",
       "<thead>\n",
       "<tr><th>name   </th><th style=\"text-align: right;\">       px</th><th style=\"text-align: right;\">       py</th><th style=\"text-align: right;\">       pz</th><th style=\"text-align: right;\">  energy</th><th style=\"text-align: right;\">  color</th><th style=\"text-align: right;\">  anticolor</th><th style=\"text-align: right;\">  helicity</th><th style=\"text-align: right;\">  status</th><th>final  </th><th style=\"text-align: right;\">  src</th><th style=\"text-align: right;\">  dst</th></tr>\n",
       "</thead>\n",
       "<tbody>\n",
       "<tr><td>b      </td><td style=\"text-align: right;\"> 1.43E+01</td><td style=\"text-align: right;\">-5.00E+01</td><td style=\"text-align: right;\">-1.38E+02</td><td style=\"text-align: right;\">1.48E+02</td><td style=\"text-align: right;\">    501</td><td style=\"text-align: right;\">          0</td><td style=\"text-align: right;\">        -1</td><td style=\"text-align: right;\">     -23</td><td>False  </td><td style=\"text-align: right;\"> -257</td><td style=\"text-align: right;\"> -329</td></tr>\n",
       "<tr><td>b~     </td><td style=\"text-align: right;\">-1.50E+02</td><td style=\"text-align: right;\"> 3.20E+01</td><td style=\"text-align: right;\"> 3.24E+01</td><td style=\"text-align: right;\">1.56E+02</td><td style=\"text-align: right;\">      0</td><td style=\"text-align: right;\">        502</td><td style=\"text-align: right;\">         1</td><td style=\"text-align: right;\">     -23</td><td>False  </td><td style=\"text-align: right;\"> -258</td><td style=\"text-align: right;\"> -345</td></tr>\n",
       "<tr><td>tau+   </td><td style=\"text-align: right;\"> 4.02E+01</td><td style=\"text-align: right;\">-1.04E+01</td><td style=\"text-align: right;\">-2.41E+01</td><td style=\"text-align: right;\">4.80E+01</td><td style=\"text-align: right;\">      0</td><td style=\"text-align: right;\">          0</td><td style=\"text-align: right;\">         9</td><td style=\"text-align: right;\">     -23</td><td>False  </td><td style=\"text-align: right;\"> -333</td><td style=\"text-align: right;\"> -350</td></tr>\n",
       "<tr><td>nu(tau)</td><td style=\"text-align: right;\"> 1.72E+02</td><td style=\"text-align: right;\"> 3.52E+01</td><td style=\"text-align: right;\">-3.18E+02</td><td style=\"text-align: right;\">3.63E+02</td><td style=\"text-align: right;\">      0</td><td style=\"text-align: right;\">          0</td><td style=\"text-align: right;\">         9</td><td style=\"text-align: right;\">     -23</td><td>False  </td><td style=\"text-align: right;\"> -333</td><td style=\"text-align: right;\"> -351</td></tr>\n",
       "<tr><td>s      </td><td style=\"text-align: right;\">-4.85E+01</td><td style=\"text-align: right;\">-4.58E+01</td><td style=\"text-align: right;\"> 7.17E+01</td><td style=\"text-align: right;\">9.80E+01</td><td style=\"text-align: right;\">    504</td><td style=\"text-align: right;\">          0</td><td style=\"text-align: right;\">         9</td><td style=\"text-align: right;\">     -23</td><td>False  </td><td style=\"text-align: right;\"> -347</td><td style=\"text-align: right;\"> -355</td></tr>\n",
       "<tr><td>c~     </td><td style=\"text-align: right;\">-3.81E+01</td><td style=\"text-align: right;\"> 3.48E+01</td><td style=\"text-align: right;\"> 6.81E+01</td><td style=\"text-align: right;\">8.55E+01</td><td style=\"text-align: right;\">      0</td><td style=\"text-align: right;\">        504</td><td style=\"text-align: right;\">         9</td><td style=\"text-align: right;\">     -23</td><td>False  </td><td style=\"text-align: right;\"> -347</td><td style=\"text-align: right;\"> -356</td></tr>\n",
       "</tbody>\n",
       "</table>\n",
       "\n",
       "6 particles × 12 attributes"
      ],
      "text/plain": [
       "Graphicle(particles=ParticleSet(\n",
       "PdgArray([  5  -5 -15  16   3  -4], dtype=int32),\n",
       "MomentumArray([[  14.27313029  -50.04217041 -138.28225614  147.82426537]\n",
       "               [-149.55630042   32.03000671   32.38639112  156.40964374]\n",
       "               [  40.18776085  -10.42345449  -24.10224835   48.03935876]\n",
       "               [ 172.09629315   35.24375776 -317.60363225  362.94810069]\n",
       "               [ -48.52389873  -45.7805596    71.73606328   97.9629581 ]\n",
       "               [ -38.11739359   34.81973954   68.12786612   85.49272541]],\n",
       "              dtype=[('x', '<f8'), ('y', '<f8'), ('z', '<f8'), ('e', '<f8')]),\n",
       "ColorArray([[501   0]\n",
       "            [  0 502]\n",
       "            [  0   0]\n",
       "            [  0   0]\n",
       "            [504   0]\n",
       "            [  0 504]],\n",
       "           dtype=[('color', '<i4'), ('anticolor', '<i4')]),\n",
       "HelicityArray([-1  1  9  9  9  9], dtype=int16),\n",
       "StatusArray([-23 -23 -23 -23 -23 -23], dtype=int16),\n",
       "MaskArray([False False False False False False], dtype=bool)\n",
       "), adj=AdjacencyList([[-257 -329]\n",
       "               [-258 -345]\n",
       "               [-333 -350]\n",
       "               [-333 -351]\n",
       "               [-347 -355]\n",
       "               [-347 -356]],\n",
       "              dtype=[('src', '<i4'), ('dst', '<i4')]))"
      ]
     },
     "execution_count": 77,
     "metadata": {},
     "output_type": "execute_result"
    }
   ],
   "source": [
    "graph[graph.hard_mask[\"outgoing\"]]"
   ]
  },
  {
   "cell_type": "markdown",
   "id": "caf84273-b0bc-4ce8-8356-7471015e8645",
   "metadata": {},
   "source": [
    "`MaskGroup` objects with a subset of the original masks can be created by passing multiple keys in a list."
   ]
  },
  {
   "cell_type": "code",
   "execution_count": 78,
   "id": "14d1dbf5-d218-4133-853f-2ceba3228183",
   "metadata": {
    "tags": []
   },
   "outputs": [
    {
     "data": {
      "text/html": [
       "<pre style=\"white-space:pre;overflow-x:auto;line-height:normal;font-family:Menlo,'DejaVu Sans Mono',consolas,'Courier New',monospace\"></pre>\n"
      ],
      "text/plain": []
     },
     "metadata": {},
     "output_type": "display_data"
    },
    {
     "name": "stdout",
     "output_type": "stream",
     "text": [
      "MaskGroup(agg_op=OR)\n",
      "├── outgoing\n",
      "└── intermediate\n",
      "\n"
     ]
    },
    {
     "data": {
      "text/html": [
       "<table>\n",
       "<thead>\n",
       "<tr><th>name   </th><th style=\"text-align: right;\">       px</th><th style=\"text-align: right;\">       py</th><th style=\"text-align: right;\">       pz</th><th style=\"text-align: right;\">  energy</th><th style=\"text-align: right;\">  color</th><th style=\"text-align: right;\">  anticolor</th><th style=\"text-align: right;\">  helicity</th><th style=\"text-align: right;\">  status</th><th>final  </th><th style=\"text-align: right;\">  src</th><th style=\"text-align: right;\">  dst</th></tr>\n",
       "</thead>\n",
       "<tbody>\n",
       "<tr><td>t      </td><td style=\"text-align: right;\"> 2.34E+02</td><td style=\"text-align: right;\">-2.20E+01</td><td style=\"text-align: right;\">-4.76E+02</td><td style=\"text-align: right;\">5.58E+02</td><td style=\"text-align: right;\">    501</td><td style=\"text-align: right;\">          0</td><td style=\"text-align: right;\">         0</td><td style=\"text-align: right;\">     -22</td><td>False  </td><td style=\"text-align: right;\">   -3</td><td style=\"text-align: right;\">   -4</td></tr>\n",
       "<tr><td>t~     </td><td style=\"text-align: right;\">-2.34E+02</td><td style=\"text-align: right;\"> 2.20E+01</td><td style=\"text-align: right;\"> 1.76E+02</td><td style=\"text-align: right;\">3.40E+02</td><td style=\"text-align: right;\">      0</td><td style=\"text-align: right;\">        502</td><td style=\"text-align: right;\">         0</td><td style=\"text-align: right;\">     -22</td><td>False  </td><td style=\"text-align: right;\">   -3</td><td style=\"text-align: right;\">   -5</td></tr>\n",
       "<tr><td>b      </td><td style=\"text-align: right;\"> 1.43E+01</td><td style=\"text-align: right;\">-5.00E+01</td><td style=\"text-align: right;\">-1.38E+02</td><td style=\"text-align: right;\">1.48E+02</td><td style=\"text-align: right;\">    501</td><td style=\"text-align: right;\">          0</td><td style=\"text-align: right;\">        -1</td><td style=\"text-align: right;\">     -23</td><td>False  </td><td style=\"text-align: right;\"> -257</td><td style=\"text-align: right;\"> -329</td></tr>\n",
       "<tr><td>W+     </td><td style=\"text-align: right;\"> 2.13E+02</td><td style=\"text-align: right;\"> 2.50E+01</td><td style=\"text-align: right;\">-3.42E+02</td><td style=\"text-align: right;\">4.12E+02</td><td style=\"text-align: right;\">      0</td><td style=\"text-align: right;\">          0</td><td style=\"text-align: right;\">         0</td><td style=\"text-align: right;\">     -22</td><td>False  </td><td style=\"text-align: right;\"> -257</td><td style=\"text-align: right;\"> -330</td></tr>\n",
       "<tr><td>b~     </td><td style=\"text-align: right;\">-1.50E+02</td><td style=\"text-align: right;\"> 3.20E+01</td><td style=\"text-align: right;\"> 3.24E+01</td><td style=\"text-align: right;\">1.56E+02</td><td style=\"text-align: right;\">      0</td><td style=\"text-align: right;\">        502</td><td style=\"text-align: right;\">         1</td><td style=\"text-align: right;\">     -23</td><td>False  </td><td style=\"text-align: right;\"> -258</td><td style=\"text-align: right;\"> -345</td></tr>\n",
       "<tr><td>W-     </td><td style=\"text-align: right;\">-8.66E+01</td><td style=\"text-align: right;\">-1.10E+01</td><td style=\"text-align: right;\"> 1.40E+02</td><td style=\"text-align: right;\">1.83E+02</td><td style=\"text-align: right;\">      0</td><td style=\"text-align: right;\">          0</td><td style=\"text-align: right;\">         1</td><td style=\"text-align: right;\">     -22</td><td>False  </td><td style=\"text-align: right;\"> -258</td><td style=\"text-align: right;\"> -346</td></tr>\n",
       "<tr><td>tau+   </td><td style=\"text-align: right;\"> 4.02E+01</td><td style=\"text-align: right;\">-1.04E+01</td><td style=\"text-align: right;\">-2.41E+01</td><td style=\"text-align: right;\">4.80E+01</td><td style=\"text-align: right;\">      0</td><td style=\"text-align: right;\">          0</td><td style=\"text-align: right;\">         9</td><td style=\"text-align: right;\">     -23</td><td>False  </td><td style=\"text-align: right;\"> -333</td><td style=\"text-align: right;\"> -350</td></tr>\n",
       "<tr><td>nu(tau)</td><td style=\"text-align: right;\"> 1.72E+02</td><td style=\"text-align: right;\"> 3.52E+01</td><td style=\"text-align: right;\">-3.18E+02</td><td style=\"text-align: right;\">3.63E+02</td><td style=\"text-align: right;\">      0</td><td style=\"text-align: right;\">          0</td><td style=\"text-align: right;\">         9</td><td style=\"text-align: right;\">     -23</td><td>False  </td><td style=\"text-align: right;\"> -333</td><td style=\"text-align: right;\"> -351</td></tr>\n",
       "<tr><td>s      </td><td style=\"text-align: right;\">-4.85E+01</td><td style=\"text-align: right;\">-4.58E+01</td><td style=\"text-align: right;\"> 7.17E+01</td><td style=\"text-align: right;\">9.80E+01</td><td style=\"text-align: right;\">    504</td><td style=\"text-align: right;\">          0</td><td style=\"text-align: right;\">         9</td><td style=\"text-align: right;\">     -23</td><td>False  </td><td style=\"text-align: right;\"> -347</td><td style=\"text-align: right;\"> -355</td></tr>\n",
       "<tr><td>c~     </td><td style=\"text-align: right;\">-3.81E+01</td><td style=\"text-align: right;\"> 3.48E+01</td><td style=\"text-align: right;\"> 6.81E+01</td><td style=\"text-align: right;\">8.55E+01</td><td style=\"text-align: right;\">      0</td><td style=\"text-align: right;\">        504</td><td style=\"text-align: right;\">         9</td><td style=\"text-align: right;\">     -23</td><td>False  </td><td style=\"text-align: right;\"> -347</td><td style=\"text-align: right;\"> -356</td></tr>\n",
       "</tbody>\n",
       "</table>\n",
       "\n",
       "10 particles × 12 attributes"
      ],
      "text/plain": [
       "Graphicle(particles=ParticleSet(\n",
       "PdgArray([  6  -6   5  24  -5 -24 -15  16   3  -4], dtype=int32),\n",
       "MomentumArray([[ 234.13843184  -21.97597443 -475.56339416  558.07308929]\n",
       "               [-234.13843184   21.97597443  175.53142186  340.17654693]\n",
       "               [  14.27313029  -50.04217041 -138.28225614  147.82426537]\n",
       "               [ 212.83998845   24.96284072 -342.42785169  411.88354382]\n",
       "               [-149.55630042   32.03000671   32.38639112  156.40964374]\n",
       "               [ -86.64129232  -10.96082006  139.8639294   183.45568351]\n",
       "               [  40.18776085  -10.42345449  -24.10224835   48.03935876]\n",
       "               [ 172.09629315   35.24375776 -317.60363225  362.94810069]\n",
       "               [ -48.52389873  -45.7805596    71.73606328   97.9629581 ]\n",
       "               [ -38.11739359   34.81973954   68.12786612   85.49272541]],\n",
       "              dtype=[('x', '<f8'), ('y', '<f8'), ('z', '<f8'), ('e', '<f8')]),\n",
       "ColorArray([[501   0]\n",
       "            [  0 502]\n",
       "            [501   0]\n",
       "            [  0   0]\n",
       "            [  0 502]\n",
       "            [  0   0]\n",
       "            [  0   0]\n",
       "            [  0   0]\n",
       "            [504   0]\n",
       "            [  0 504]],\n",
       "           dtype=[('color', '<i4'), ('anticolor', '<i4')]),\n",
       "HelicityArray([ 0  0 -1  0  1  1  9  9  9  9], dtype=int16),\n",
       "StatusArray([-22 -22 -23 -22 -23 -22 -23 -23 -23 -23], dtype=int16),\n",
       "MaskArray([False False False False False False False False False False], dtype=bool)\n",
       "), adj=AdjacencyList([[  -3   -4]\n",
       "               [  -3   -5]\n",
       "               [-257 -329]\n",
       "               [-257 -330]\n",
       "               [-258 -345]\n",
       "               [-258 -346]\n",
       "               [-333 -350]\n",
       "               [-333 -351]\n",
       "               [-347 -355]\n",
       "               [-347 -356]],\n",
       "              dtype=[('src', '<i4'), ('dst', '<i4')]))"
      ]
     },
     "execution_count": 78,
     "metadata": {},
     "output_type": "execute_result"
    }
   ],
   "source": [
    "sub_mask = graph.hard_mask[[\"outgoing\", \"intermediate\"]]\n",
    "print(sub_mask)\n",
    "graph[sub_mask]"
   ]
  },
  {
   "cell_type": "markdown",
   "id": "28b62aa1-98a1-45b8-84eb-1fa3c2b4be4e",
   "metadata": {},
   "source": [
    "Nesting `MaskGroup`s becomes very useful when defining the hierarchy of the shower descending from the hard process.\n",
    "Routines in the `graphicle.select` module form more complex masks over the event record.\n",
    "One such routine is `hierarchy()`, which identifies the partons in the hard process, and then traverses the DAG to the final state, identifying the descendant particles."
   ]
  },
  {
   "cell_type": "code",
   "execution_count": 79,
   "id": "6858034b-f024-453c-92b5-595e0924fd4d",
   "metadata": {
    "tags": []
   },
   "outputs": [
    {
     "data": {
      "text/html": [
       "<pre style=\"white-space:pre;overflow-x:auto;line-height:normal;font-family:Menlo,'DejaVu Sans Mono',consolas,'Courier New',monospace\"></pre>\n"
      ],
      "text/plain": []
     },
     "metadata": {},
     "output_type": "display_data"
    },
    {
     "name": "stdout",
     "output_type": "stream",
     "text": [
      "MaskGroup(agg_op=OR)\n",
      "├── t\n",
      "│   ├── b\n",
      "│   ├── W+\n",
      "│   │   ├── tau+\n",
      "│   │   ├── nu(tau)\n",
      "│   │   └── latent\n",
      "│   └── latent\n",
      "└── t~\n",
      "    ├── b~\n",
      "    ├── W-\n",
      "    │   ├── s\n",
      "    │   ├── c~\n",
      "    │   └── latent\n",
      "    └── latent\n",
      "\n"
     ]
    }
   ],
   "source": [
    "hier = gcl.select.hierarchy(graph)\n",
    "print(hier)"
   ]
  },
  {
   "cell_type": "code",
   "execution_count": 86,
   "id": "7a8bf4de-3dc5-4207-a18a-5e79f3ef1e35",
   "metadata": {
    "tags": []
   },
   "outputs": [
    {
     "data": {
      "text/plain": [
       "7"
      ]
     },
     "execution_count": 86,
     "metadata": {},
     "output_type": "execute_result"
    }
   ],
   "source": [
    "tau_pmu = graph.pmu[hier[\"t\"][\"W+\"][\"tau+\"] & graph.final]\n",
    "len(tau_pmu)"
   ]
  },
  {
   "cell_type": "markdown",
   "id": "f4db5a57-caca-4c6b-a610-6ae7108e4616",
   "metadata": {},
   "source": [
    "graphicle's wrappers are transparent to numpy, so simple functions, such as a sum, can be applied with ease.\n",
    "\n",
    "By applying a mask over the descendants of a parton in the final state, and then summing the momenta, the parton's momentum can be reconstructed."
   ]
  },
  {
   "cell_type": "code",
   "execution_count": 87,
   "id": "fc698861-0289-432d-8891-aa2a5ef42871",
   "metadata": {
    "tags": []
   },
   "outputs": [
    {
     "data": {
      "text/plain": [
       "MomentumArray([[ 40.18776094 -10.42345447 -24.10224852  48.03935895]], dtype=[('x', '<f8'), ('y', '<f8'), ('z', '<f8'), ('e', '<f8')])"
      ]
     },
     "execution_count": 87,
     "metadata": {},
     "output_type": "execute_result"
    }
   ],
   "source": [
    "tau_pmu_agg = np.sum(tau_pmu, axis=0)\n",
    "tau_pmu_agg"
   ]
  },
  {
   "cell_type": "code",
   "execution_count": 88,
   "id": "9dcc267e-79df-4f9f-a778-ef406b7bd699",
   "metadata": {
    "tags": []
   },
   "outputs": [
    {
     "data": {
      "text/plain": [
       "array([1.77682096])"
      ]
     },
     "execution_count": 88,
     "metadata": {},
     "output_type": "execute_result"
    }
   ],
   "source": [
    "tau_pmu_agg.mass"
   ]
  },
  {
   "cell_type": "code",
   "execution_count": 91,
   "id": "68dfbfc7-0c2d-46b2-92ca-c45f0cb0b1a8",
   "metadata": {
    "tags": []
   },
   "outputs": [
    {
     "data": {
      "text/html": [
       "<table>\n",
       "<thead>\n",
       "<tr><th>name  </th><th style=\"text-align: right;\">      px</th><th style=\"text-align: right;\">       py</th><th style=\"text-align: right;\">       pz</th><th style=\"text-align: right;\">  energy</th><th style=\"text-align: right;\">  color</th><th style=\"text-align: right;\">  anticolor</th><th style=\"text-align: right;\">  helicity</th><th style=\"text-align: right;\">  status</th><th>final  </th><th style=\"text-align: right;\">  src</th><th style=\"text-align: right;\">  dst</th></tr>\n",
       "</thead>\n",
       "<tbody>\n",
       "<tr><td>tau+  </td><td style=\"text-align: right;\">4.02E+01</td><td style=\"text-align: right;\">-1.04E+01</td><td style=\"text-align: right;\">-2.41E+01</td><td style=\"text-align: right;\">4.80E+01</td><td style=\"text-align: right;\">      0</td><td style=\"text-align: right;\">          0</td><td style=\"text-align: right;\">         9</td><td style=\"text-align: right;\">     -23</td><td>False  </td><td style=\"text-align: right;\"> -333</td><td style=\"text-align: right;\"> -350</td></tr>\n",
       "</tbody>\n",
       "</table>\n",
       "\n",
       "1 particles × 12 attributes"
      ],
      "text/plain": [
       "Graphicle(particles=ParticleSet(\n",
       "PdgArray([-15], dtype=int32),\n",
       "MomentumArray([[ 40.18776085 -10.42345449 -24.10224835  48.03935876]], dtype=[('x', '<f8'), ('y', '<f8'), ('z', '<f8'), ('e', '<f8')]),\n",
       "ColorArray([[0 0]], dtype=[('color', '<i4'), ('anticolor', '<i4')]),\n",
       "HelicityArray([9], dtype=int16),\n",
       "StatusArray([-23], dtype=int16),\n",
       "MaskArray([False], dtype=bool)\n",
       "), adj=AdjacencyList([[-333 -350]], dtype=[('src', '<i4'), ('dst', '<i4')]))"
      ]
     },
     "execution_count": 91,
     "metadata": {},
     "output_type": "execute_result"
    }
   ],
   "source": [
    "hard_tau_mask = graph.hard_mask & (graph.pdg.name == \"tau+\")\n",
    "graph[hard_tau_mask]"
   ]
  },
  {
   "cell_type": "markdown",
   "id": "fc3935ab-0324-4be0-a872-3b1e14a5deee",
   "metadata": {},
   "source": [
    "The reconstructed mass can be checked against the reference value from the PDG record."
   ]
  },
  {
   "cell_type": "code",
   "execution_count": 92,
   "id": "e8ebdefb-b298-4e34-aca1-c98250b75543",
   "metadata": {
    "tags": []
   },
   "outputs": [
    {
     "data": {
      "text/plain": [
       "array([1.77686])"
      ]
     },
     "execution_count": 92,
     "metadata": {},
     "output_type": "execute_result"
    }
   ],
   "source": [
    "graph.pdg[hard_tau_mask].mass"
   ]
  },
  {
   "cell_type": "markdown",
   "id": "eb64a7b3-0ec2-440c-8969-cb44c258a904",
   "metadata": {},
   "source": [
    "If you go up one level of nesting in the `MaskGroup`, you can reconstruct the parent parton, the `W+`:"
   ]
  },
  {
   "cell_type": "code",
   "execution_count": 95,
   "id": "75d191df-9dd9-4632-b750-37a37f8b235a",
   "metadata": {
    "tags": []
   },
   "outputs": [
    {
     "data": {
      "text/plain": [
       "array([80.41900245])"
      ]
     },
     "execution_count": 95,
     "metadata": {},
     "output_type": "execute_result"
    }
   ],
   "source": [
    "W_plus_pmu = graph.pmu[hier[\"t\"][\"W+\"] & graph.final]\n",
    "np.sum(W_plus_pmu, axis=0).mass"
   ]
  },
  {
   "cell_type": "code",
   "execution_count": null,
   "id": "0ab67551-7be1-42e6-a652-6f5f529f5d5a",
   "metadata": {},
   "outputs": [],
   "source": []
  }
 ],
 "metadata": {
  "kernelspec": {
   "display_name": "Python 3 (ipykernel)",
   "language": "python",
   "name": "python3"
  },
  "language_info": {
   "codemirror_mode": {
    "name": "ipython",
    "version": 3
   },
   "file_extension": ".py",
   "mimetype": "text/x-python",
   "name": "python",
   "nbconvert_exporter": "python",
   "pygments_lexer": "ipython3",
   "version": "3.11.4"
  }
 },
 "nbformat": 4,
 "nbformat_minor": 5
}
