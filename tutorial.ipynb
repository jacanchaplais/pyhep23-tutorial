{
 "cells": [
  {
   "cell_type": "code",
   "execution_count": 105,
   "id": "8573245c-e813-4de9-9801-0b44fe6f4fc7",
   "metadata": {
    "tags": []
   },
   "outputs": [],
   "source": [
    "import math\n",
    "\n",
    "import numpy as np\n",
    "from tqdm import tqdm"
   ]
  },
  {
   "cell_type": "markdown",
   "id": "ced1fdc8-d259-4385-b928-8b3b77a29f97",
   "metadata": {},
   "source": [
    "## Data generation with showerpipe"
   ]
  },
  {
   "cell_type": "code",
   "execution_count": 2,
   "id": "567ca104-e67b-45c2-88e2-aaf2301d239c",
   "metadata": {
    "tags": []
   },
   "outputs": [],
   "source": [
    "import showerpipe as shp"
   ]
  },
  {
   "cell_type": "markdown",
   "id": "14c3050b-fdaa-49c7-b273-bc401aaed16b",
   "metadata": {},
   "source": [
    "- showerpipe wraps pythia8's generator in a standard Python iterator\n",
    "- Need to pass a settings file during initialisation, see below:"
   ]
  },
  {
   "cell_type": "code",
   "execution_count": 3,
   "id": "01cb6635-c69b-4d5f-93c3-e750581f7c71",
   "metadata": {
    "tags": []
   },
   "outputs": [
    {
     "name": "stdout",
     "output_type": "stream",
     "text": [
      "Overwriting pythia-settings.cmnd\n"
     ]
    }
   ],
   "source": [
    "%%file pythia-settings.cmnd\n",
    "Beams:idB = -2212\n",
    "Beams:eCM = 1960.\n",
    "WeakSingleBoson:ffbar2gmZ = on\n",
    "PhaseSpace:mHatMin = 80.\n",
    "PhaseSpace:mHatMax = 120"
   ]
  },
  {
   "cell_type": "code",
   "execution_count": 4,
   "id": "ee34af1f-c020-41df-8210-f9cb84a3a7de",
   "metadata": {
    "tags": []
   },
   "outputs": [
    {
     "data": {
      "text/html": [
       "<pre style=\"white-space:pre;overflow-x:auto;line-height:normal;font-family:Menlo,'DejaVu Sans Mono',consolas,'Courier New',monospace\"></pre>\n"
      ],
      "text/plain": []
     },
     "metadata": {},
     "output_type": "display_data"
    },
    {
     "data": {
      "text/plain": [
       "PythiaGenerator(xml_dir='/scratch/jlc1n20/mambaforge/envs/dgl/share/Pythia8/xmldoc')\n",
       "├── Print\n",
       "│   └── quiet = on\n",
       "├── Random\n",
       "│   ├── setSeed = on\n",
       "│   └── seed = -1\n",
       "├── Beams\n",
       "│   ├── idB = -2212\n",
       "│   └── eCM = 1960.\n",
       "├── WeakSingleBoson\n",
       "│   └── ffbar2gmZ = on\n",
       "└── PhaseSpace\n",
       "    ├── mHatMin = 80.\n",
       "    └── mHatMax = 120"
      ]
     },
     "execution_count": 4,
     "metadata": {},
     "output_type": "execute_result"
    }
   ],
   "source": [
    "gen = shp.generator.PythiaGenerator(\"pythia-settings.cmnd\")\n",
    "gen"
   ]
  },
  {
   "cell_type": "markdown",
   "id": "b2bde8b4-a388-4eb0-94aa-29b32db54ea2",
   "metadata": {},
   "source": [
    "- `PythiaGenerator`\n",
    "    - repr and string shows settings and location of Pythia8's XML data directory\n",
    "    - Events generated simply by looping over `gen`, or calling `next()`\n",
    "- `PythiaEvent`\n",
    "    - repr shows underlying pythia8 instance, string shows number of particles\n",
    "    - Properties, *eg.* `.pdg`, `.pmu` (momentum), `.edges`, expose record via numpy arrays\n",
    "\n",
    "Comprehensive documentation can be seen by either calling `help(event)`, or checking the [API reference online](https://showerpipe.readthedocs.io/en/latest/api/showerpipe.generator.PythiaEvent.html)."
   ]
  },
  {
   "cell_type": "code",
   "execution_count": 5,
   "id": "919c5fd6-f99b-4afd-aa01-235f73cb29fe",
   "metadata": {
    "tags": []
   },
   "outputs": [
    {
     "name": "stdout",
     "output_type": "stream",
     "text": [
      "PythiaEvent(_event=<pythia8.Event object at 0x2b8dd64aab30>)\n",
      "PythiaEvent(len=300)\n"
     ]
    }
   ],
   "source": [
    "event = next(gen)\n",
    "\n",
    "print(repr(event))\n",
    "print(event)"
   ]
  },
  {
   "cell_type": "markdown",
   "id": "c98886be-0b87-4468-8d7e-d5592827a33f",
   "metadata": {},
   "source": [
    "- Some arrays are structured, such as `.pmu`, `.color`, and `.edges`"
   ]
  },
  {
   "cell_type": "code",
   "execution_count": 6,
   "id": "9ed445e2-b5e5-41ed-84e9-0ab2cc766a97",
   "metadata": {
    "tags": []
   },
   "outputs": [
    {
     "data": {
      "text/plain": [
       "array([(0., 0.,  979.99955084, 980.        ),\n",
       "       (0., 0., -979.99955084, 980.        ),\n",
       "       (0., 0.,  121.88537547, 121.88537547),\n",
       "       (0., 0.,  -18.0319325 ,  18.0319325 ),\n",
       "       (0., 0.,  103.85344298, 139.91730797)],\n",
       "      dtype=[('x', '<f8'), ('y', '<f8'), ('z', '<f8'), ('e', '<f8')])"
      ]
     },
     "execution_count": 6,
     "metadata": {},
     "output_type": "execute_result"
    }
   ],
   "source": [
    "event.pmu[:5]  # momenta of the first 8 particles"
   ]
  },
  {
   "cell_type": "code",
   "execution_count": 7,
   "id": "6e992fa9-a39d-4ef7-bec8-99f63e452b54",
   "metadata": {
    "tags": []
   },
   "outputs": [
    {
     "data": {
      "text/plain": [
       "array([ 2212, -2212,     1,    -1,    23], dtype=int32)"
      ]
     },
     "execution_count": 7,
     "metadata": {},
     "output_type": "execute_result"
    }
   ],
   "source": [
    "event.pdg[:5]  # pdg codes of the first 8 particles"
   ]
  },
  {
   "cell_type": "markdown",
   "id": "168bae5e-edac-4d4a-8c13-adab031ba394",
   "metadata": {},
   "source": [
    "- Length of these iterators is endless, calling `len()` results in a `NotImplementedError`\n",
    "- LHE files can be used to generate data from hard processes stored on disk\n",
    "- `PythiaGenerator` then has length equal to number of events in LHE file\n",
    "- Example shown in next section about `graphicle`"
   ]
  },
  {
   "cell_type": "markdown",
   "id": "a6beef38-469b-4a24-ae3e-a930015dd303",
   "metadata": {},
   "source": [
    "## Manipulating the event record with graphicle"
   ]
  },
  {
   "cell_type": "code",
   "execution_count": 8,
   "id": "981e07b6-4022-49e0-8fe2-91f0062b9689",
   "metadata": {
    "tags": []
   },
   "outputs": [],
   "source": [
    "import graphicle as gcl"
   ]
  },
  {
   "cell_type": "markdown",
   "id": "f5bed42a-cffd-46a5-b61b-285f6fb3024a",
   "metadata": {},
   "source": [
    "- **graphicle** is a portmanteau of \"graph\" and \"particle\"\n",
    "- Thin wrappers around the array data add semantic meaning and functionality\n",
    "- These data structures include `MomentumArray`, `PdgArray`, `AdjacencyList`, *etc.*\n",
    "\n",
    "New `PythiaGenerator` instantiated with LHE file and relevant new settings:"
   ]
  },
  {
   "cell_type": "code",
   "execution_count": 9,
   "id": "30e06d09-4bdf-4e24-a940-cbc0510ae947",
   "metadata": {
    "tags": []
   },
   "outputs": [
    {
     "name": "stdout",
     "output_type": "stream",
     "text": [
      "Overwriting pythia-settings.cmnd\n"
     ]
    }
   ],
   "source": [
    "%%file pythia-settings.cmnd\n",
    "PartonLevel:ISR = on\n",
    "PartonLevel:FSR = on\n",
    "PartonLevel:MPI = on\n",
    "HadronLevel:all = on\n",
    "Beams:frameType = 4"
   ]
  },
  {
   "cell_type": "code",
   "execution_count": 177,
   "id": "4f19f457-887c-4707-8b87-b4449ab212e5",
   "metadata": {
    "tags": []
   },
   "outputs": [
    {
     "name": "stdout",
     "output_type": "stream",
     "text": [
      " *-----------------------  SusyLesHouches SUSY/BSM Interface  ------------------------*\n",
      " | Last Change 12 Apr 2017 - P. Skands\n",
      " | Parsing: /tmp/tmpd9ju2u2i\n",
      " | (SLHA::readFile) line 361 - storing non-SLHA(2) block: yukawa\n",
      " *------------------------------------------------------------------------------------*\n"
     ]
    }
   ],
   "source": [
    "gen = shp.generator.PythiaGenerator(\n",
    "    \"pythia-settings.cmnd\",\n",
    "    lhe_file=\"gb_tw_10k.lhe.gz\",\n",
    "    rng_seed=10,\n",
    ")\n",
    "event = next(gen)"
   ]
  },
  {
   "cell_type": "code",
   "execution_count": 178,
   "id": "b93a7279-f8af-49b3-af60-beca16b7570d",
   "metadata": {
    "tags": []
   },
   "outputs": [
    {
     "data": {
      "text/plain": [
       "MomentumArray([[ 0.00000000e+00  0.00000000e+00  6.49999993e+03  6.50000000e+03]\n",
       "               [ 0.00000000e+00  0.00000000e+00 -6.49999993e+03  6.50000000e+03]\n",
       "               [-0.00000000e+00  0.00000000e+00  1.28773249e+02  1.28773249e+02]\n",
       "               ...\n",
       "               [-8.74716207e-02  1.69443178e+00  1.06808811e+01  1.08157039e+01]\n",
       "               [-8.19014141e-01 -2.34581957e+00 -3.31415578e-01  2.51057159e+00]\n",
       "               [-4.19819174e-02 -1.53076941e+00  2.80497708e-02  1.53794799e+00]],\n",
       "              dtype=[('x', '<f8'), ('y', '<f8'), ('z', '<f8'), ('e', '<f8')])"
      ]
     },
     "execution_count": 178,
     "metadata": {},
     "output_type": "execute_result"
    }
   ],
   "source": [
    "pmu = gcl.MomentumArray(event.pmu)\n",
    "pmu"
   ]
  },
  {
   "cell_type": "code",
   "execution_count": 179,
   "id": "613bc31a-d9e7-4dac-8014-baed8bffb205",
   "metadata": {
    "tags": []
   },
   "outputs": [
    {
     "data": {
      "text/plain": [
       "array([ 9.38269999e-01,  9.38269999e-01,  0.00000000e+00,  0.00000000e+00,\n",
       "        8.19758520e+01,  1.73212374e+02,  7.45793091e-06, -3.30618453e-06,\n",
       "        8.19758520e+01,  1.73212374e+02])"
      ]
     },
     "execution_count": 179,
     "metadata": {},
     "output_type": "execute_result"
    }
   ],
   "source": [
    "pmu.mass[:10]"
   ]
  },
  {
   "cell_type": "code",
   "execution_count": 180,
   "id": "4f889eb7-fa5a-4af3-b832-ad589844e4b6",
   "metadata": {
    "tags": []
   },
   "outputs": [
    {
     "data": {
      "text/plain": [
       "MomentumArray([[ 0.00000000e+00  0.00000000e+00  6.49999993e+03  6.50000000e+03]\n",
       "               [ 0.00000000e+00  0.00000000e+00 -6.49999993e+03  6.50000000e+03]\n",
       "               [-0.00000000e+00  0.00000000e+00  1.28773249e+02  1.28773249e+02]\n",
       "               ...\n",
       "               [-1.69450090e+00 -8.61222717e-02  1.06808811e+01  1.08157039e+01]\n",
       "               [ 2.34516663e+00 -8.20881920e-01 -3.31415578e-01  2.51057159e+00]\n",
       "               [ 1.53073549e+00 -4.32008967e-02  2.80497708e-02  1.53794799e+00]],\n",
       "              dtype=[('x', '<f8'), ('y', '<f8'), ('z', '<f8'), ('e', '<f8')])"
      ]
     },
     "execution_count": 180,
     "metadata": {},
     "output_type": "execute_result"
    }
   ],
   "source": [
    "pmu_rotate = pmu.shift_phi(0.5 * 3.14)\n",
    "pmu_rotate"
   ]
  },
  {
   "cell_type": "code",
   "execution_count": 181,
   "id": "6b4ee342-2f96-4a35-bbf1-e6373ccd4840",
   "metadata": {
    "tags": []
   },
   "outputs": [
    {
     "name": "stdout",
     "output_type": "stream",
     "text": [
      "PdgArray([2212 2212    5   21  -24    6], dtype=int32)\n",
      "name: ['p' 'p' 'b' 'g' 'W-' 't']\n",
      "charge: [ 1.          1.         -0.33333333  0.         -1.          0.66666667]\n"
     ]
    }
   ],
   "source": [
    "pdgs = gcl.PdgArray(event.pdg)\n",
    "names = pdgs.name\n",
    "charges = pdgs.charge\n",
    "print(pdgs[:6])\n",
    "print(f\"name: {names[:6]}\")\n",
    "print(f\"charge: {charges[:6]}\")"
   ]
  },
  {
   "cell_type": "code",
   "execution_count": 182,
   "id": "91a66241-697c-4c7d-9edd-42a242c900c0",
   "metadata": {
    "tags": []
   },
   "outputs": [
    {
     "data": {
      "text/plain": [
       "AdjacencyList([[   0   -1]\n",
       "               [   0   -2]\n",
       "               [  -6   -3]\n",
       "               ...\n",
       "               [-554  561]\n",
       "               [-559  562]\n",
       "               [-559  563]],\n",
       "              dtype=[('src', '<i4'), ('dst', '<i4')])"
      ]
     },
     "execution_count": 182,
     "metadata": {},
     "output_type": "execute_result"
    }
   ],
   "source": [
    "adj = gcl.AdjacencyList(event.edges)\n",
    "adj"
   ]
  },
  {
   "cell_type": "code",
   "execution_count": 183,
   "id": "239ba9a3-6f5b-4827-90fa-5c1bb34a045f",
   "metadata": {
    "tags": []
   },
   "outputs": [
    {
     "name": "stdout",
     "output_type": "stream",
     "text": [
      "True\n"
     ]
    }
   ],
   "source": [
    "print(np.array_equal(adj.leaves, event.final))"
   ]
  },
  {
   "cell_type": "markdown",
   "id": "f1759a68-422a-4333-bd9d-6e4b4dfc98ca",
   "metadata": {},
   "source": [
    "### Composite data structures\n",
    "\n",
    "- graphicle's types used to form composite data structures\n",
    "- Enables the ability to subscript over the full event\n",
    "- Methods and routines in modules combine and cross reference data record"
   ]
  },
  {
   "cell_type": "markdown",
   "id": "b5086f0b-0533-46da-a23f-0aef64972eb8",
   "metadata": {},
   "source": [
    "### Instantiating\n",
    "\n",
    "- There are two\\* composite data structures for the event record:\n",
    "  1. `ParticleSet`\n",
    "  2. `Graphicle` (which contains `ParticleSet` and `AdjacencyList`).\n",
    "- Can be instantiated by passing:\n",
    "  * numpy arrays for each attribute\n",
    "  * existing constituent objects\n",
    "  * an object which has the same interface as `PythiaEvent`.\n",
    "\n",
    "\\*There is also a composite structure called `MaskGroup`, which will be discussed in the section about querying the event."
   ]
  },
  {
   "cell_type": "code",
   "execution_count": 184,
   "id": "e2f1a71c-d511-459a-bf25-759e40c907b6",
   "metadata": {
    "tags": []
   },
   "outputs": [
    {
     "data": {
      "text/html": [
       "<table>\n",
       "<thead>\n",
       "<tr><th>name     </th><th style=\"text-align: right;\">        px</th><th style=\"text-align: right;\">        py</th><th style=\"text-align: right;\">        pz</th><th style=\"text-align: right;\">    energy</th><th style=\"text-align: right;\">  color</th><th style=\"text-align: right;\">  anticolor</th><th style=\"text-align: right;\">  helicity</th><th style=\"text-align: right;\">  status</th><th>final  </th><th style=\"text-align: right;\">  src</th><th style=\"text-align: right;\">  dst</th></tr>\n",
       "</thead>\n",
       "<tbody>\n",
       "<tr><td>p        </td><td style=\"text-align: right;\">  0.00E+00</td><td style=\"text-align: right;\">  0.00E+00</td><td style=\"text-align: right;\">  6.50E+03</td><td style=\"text-align: right;\">  6.50E+03</td><td style=\"text-align: right;\">      0</td><td style=\"text-align: right;\">          0</td><td style=\"text-align: right;\">         9</td><td style=\"text-align: right;\">     -12</td><td>False  </td><td style=\"text-align: right;\">    0</td><td style=\"text-align: right;\">   -1</td></tr>\n",
       "<tr><td>p        </td><td style=\"text-align: right;\">  0.00E+00</td><td style=\"text-align: right;\">  0.00E+00</td><td style=\"text-align: right;\"> -6.50E+03</td><td style=\"text-align: right;\">  6.50E+03</td><td style=\"text-align: right;\">      0</td><td style=\"text-align: right;\">          0</td><td style=\"text-align: right;\">         9</td><td style=\"text-align: right;\">     -12</td><td>False  </td><td style=\"text-align: right;\">    0</td><td style=\"text-align: right;\">   -2</td></tr>\n",
       "<tr><td>b        </td><td style=\"text-align: right;\"> -0.00E+00</td><td style=\"text-align: right;\">  0.00E+00</td><td style=\"text-align: right;\">  1.29E+02</td><td style=\"text-align: right;\">  1.29E+02</td><td style=\"text-align: right;\">    503</td><td style=\"text-align: right;\">          0</td><td style=\"text-align: right;\">        -1</td><td style=\"text-align: right;\">     -21</td><td>False  </td><td style=\"text-align: right;\">   -6</td><td style=\"text-align: right;\">   -3</td></tr>\n",
       "<tr><td>g        </td><td style=\"text-align: right;\">  0.00E+00</td><td style=\"text-align: right;\"> -0.00E+00</td><td style=\"text-align: right;\"> -1.92E+02</td><td style=\"text-align: right;\">  1.92E+02</td><td style=\"text-align: right;\">    502</td><td style=\"text-align: right;\">        503</td><td style=\"text-align: right;\">        -1</td><td style=\"text-align: right;\">     -21</td><td>False  </td><td style=\"text-align: right;\">   -7</td><td style=\"text-align: right;\">   -3</td></tr>\n",
       "<tr><td>W-       </td><td style=\"text-align: right;\">  3.23E+01</td><td style=\"text-align: right;\">  1.76E+01</td><td style=\"text-align: right;\">  5.74E+01</td><td style=\"text-align: right;\">  1.07E+02</td><td style=\"text-align: right;\">      0</td><td style=\"text-align: right;\">          0</td><td style=\"text-align: right;\">         0</td><td style=\"text-align: right;\">     -22</td><td>False  </td><td style=\"text-align: right;\">   -3</td><td style=\"text-align: right;\">   -4</td></tr>\n",
       "<tr><td>...      </td><td style=\"text-align: right;\">...       </td><td style=\"text-align: right;\">...       </td><td style=\"text-align: right;\">...       </td><td style=\"text-align: right;\">...       </td><td style=\"text-align: right;\">    ...</td><td style=\"text-align: right;\">        ...</td><td style=\"text-align: right;\">       ...</td><td style=\"text-align: right;\">     ...</td><td>...    </td><td style=\"text-align: right;\">  ...</td><td style=\"text-align: right;\">  ...</td></tr>\n",
       "<tr><td>rho(770)0</td><td style=\"text-align: right;\"> -8.61E-01</td><td style=\"text-align: right;\"> -3.88E+00</td><td style=\"text-align: right;\"> -3.03E-01</td><td style=\"text-align: right;\">  4.05E+00</td><td style=\"text-align: right;\">      0</td><td style=\"text-align: right;\">          0</td><td style=\"text-align: right;\">         9</td><td style=\"text-align: right;\">     -91</td><td>False  </td><td style=\"text-align: right;\"> -549</td><td style=\"text-align: right;\"> -559</td></tr>\n",
       "<tr><td>K+       </td><td style=\"text-align: right;\">  1.32E-01</td><td style=\"text-align: right;\">  3.52E+00</td><td style=\"text-align: right;\">  2.30E+01</td><td style=\"text-align: right;\">  2.33E+01</td><td style=\"text-align: right;\">      0</td><td style=\"text-align: right;\">          0</td><td style=\"text-align: right;\">         9</td><td style=\"text-align: right;\">      91</td><td>True   </td><td style=\"text-align: right;\"> -554</td><td style=\"text-align: right;\">  560</td></tr>\n",
       "<tr><td>pi-      </td><td style=\"text-align: right;\"> -8.75E-02</td><td style=\"text-align: right;\">  1.69E+00</td><td style=\"text-align: right;\">  1.07E+01</td><td style=\"text-align: right;\">  1.08E+01</td><td style=\"text-align: right;\">      0</td><td style=\"text-align: right;\">          0</td><td style=\"text-align: right;\">         9</td><td style=\"text-align: right;\">      91</td><td>True   </td><td style=\"text-align: right;\"> -554</td><td style=\"text-align: right;\">  561</td></tr>\n",
       "<tr><td>pi+      </td><td style=\"text-align: right;\"> -8.19E-01</td><td style=\"text-align: right;\"> -2.35E+00</td><td style=\"text-align: right;\"> -3.31E-01</td><td style=\"text-align: right;\">  2.51E+00</td><td style=\"text-align: right;\">      0</td><td style=\"text-align: right;\">          0</td><td style=\"text-align: right;\">         9</td><td style=\"text-align: right;\">      91</td><td>True   </td><td style=\"text-align: right;\"> -559</td><td style=\"text-align: right;\">  562</td></tr>\n",
       "<tr><td>pi-      </td><td style=\"text-align: right;\"> -4.20E-02</td><td style=\"text-align: right;\"> -1.53E+00</td><td style=\"text-align: right;\">  2.80E-02</td><td style=\"text-align: right;\">  1.54E+00</td><td style=\"text-align: right;\">      0</td><td style=\"text-align: right;\">          0</td><td style=\"text-align: right;\">         9</td><td style=\"text-align: right;\">      91</td><td>True   </td><td style=\"text-align: right;\"> -559</td><td style=\"text-align: right;\">  563</td></tr>\n",
       "</tbody>\n",
       "</table>\n",
       "\n",
       "605 particles × 12 attributes"
      ],
      "text/plain": [
       "Graphicle(particles=ParticleSet(\n",
       "PdgArray([  2212   2212      5     21    -24      6     21     21    -24      6\n",
       "              -5     -1     21    -24      6     -5     -1     -1     21    -24\n",
       "               6     -5     -1     21     -1     21     21     -1      2    -24\n",
       "               6     -5     -1     21     21      2      3     -3     21     21\n",
       "              21      2     21     21      2     -3     21     21     21     21\n",
       "              21     -1     21      3     -4      4     -1     -1     21      4\n",
       "              21     21     21     21     21     21     21     21     21     -1\n",
       "               1     21     21     21     -3     21     21      1     21     21\n",
       "              21     -1     21     21     21     21      2     21     21      4\n",
       "               3     21     -4     21     21     -3     -1      2    -24      6\n",
       "              -5     -1     -1      3      2     -3     21     21     21     21\n",
       "              -4      4     21     21     21     21      1     21     21     21\n",
       "              21     21     21     21     21      2   2101      1   2103     11\n",
       "             -12     24      5      5     21     24      5     21     21     21\n",
       "              21      5     21     21     21     21     21     21     21     21\n",
       "              21     21     21      5     21     21     21     21     21     21\n",
       "              21     21     21      2     -1     -1     21      2     21     21\n",
       "               2     21     21     -1     21     21     -1     21     21      2\n",
       "              21     21     21     21     21     21     21     21     -1      1\n",
       "            2101    221   -213   2212      4     21     21     21     -1    431\n",
       "            -311   -211    211   -213    211      3     21     -4   -311   -211\n",
       "             213   -211    211   -213   -423      2     21     21     21     21\n",
       "              21     -1    211    223    313   -311   -211    321   -321    211\n",
       "             313   -323   2212   -311  -3122      2     -5    213    111   -211\n",
       "             111    211    113   -211    223    211    513      2     21     21\n",
       "              21     21     21     21     -1    111    113    211    311   -313\n",
       "             221   -211    111   2212  -3214   -321    213   -211    211   -211\n",
       "             111    211      1     21     21     21     21     21     21     -3\n",
       "             111    223   -213    211    221   -211    213    223    221    111\n",
       "             111   -211    213    311   -321    321      5     21     21     21\n",
       "              21     21     21     21     21     21   2103   -521    221    211\n",
       "             311   -311    221   2112  -2112   -211    113    323   3122  -2212\n",
       "             111    221    213   2114  -2114    113   -211    321   -323    111\n",
       "             323   3114    213   -211    111    310   -211    111    310    211\n",
       "             111   -211    111    311    111    310    311    111   -321    111\n",
       "             130    211    111    211   -211    211   -211    310   -311    111\n",
       "           -3122    111    211    111   -211    111    211    111    211    111\n",
       "             130    130    130    211   -211    311    211    211    111   2112\n",
       "             111  -2112    111    211   -211   -321    111    311    211   3122\n",
       "            -211    211    111    310    310    310    130    310    211   -211\n",
       "              22    333    213   -421     22    111     22  -2112    111     22\n",
       "              22     22     22    211   -211    111    511     22     22     22\n",
       "              22     22     22     22     22     22     22     22    211   -211\n",
       "             111    111    111    111    211   -211    111     22     22     22\n",
       "              22     22     22   -311    421   -211   -423    111    111     22\n",
       "              22     22     22   2212   -211     22     22    211   -211    111\n",
       "              22     22     22     22    211   -211     22     22    211   -211\n",
       "              22     22     22     22     22     22    211   -211     22     22\n",
       "              22     22     22     22    111    111     22     22  -2212    211\n",
       "              22     22     22     22     22     22     22     22     22     22\n",
       "              22     22     22     22     22     22     22     22   2112    111\n",
       "              22     22    211   -211    211   -211    211   -211    211   -211\n",
       "             130    310    211    111    321   -211    111    111     22     22\n",
       "              22     22     22     22   -411    111    111    223    113    211\n",
       "              22     22     22     22     22     22     22     22     22     22\n",
       "             130   -321    211    111   -421    111     22     22     22     22\n",
       "              22     22     22     22     22     22     22     22    211   -211\n",
       "              22     22     22     22     22     22 -20213   -311     22     22\n",
       "              22     11    -11    211   -211    111    211   -211     22     22\n",
       "          -20213    321     22     22   -321    313    130     22     22   -211\n",
       "             113    321   -211    211   -211],\n",
       "         dtype=int32),\n",
       "MomentumArray([[ 0.00000000e+00  0.00000000e+00  6.49999993e+03  6.50000000e+03]\n",
       "               [ 0.00000000e+00  0.00000000e+00 -6.49999993e+03  6.50000000e+03]\n",
       "               [-0.00000000e+00  0.00000000e+00  1.28773249e+02  1.28773249e+02]\n",
       "               ...\n",
       "               [-8.74716207e-02  1.69443178e+00  1.06808811e+01  1.08157039e+01]\n",
       "               [-8.19014141e-01 -2.34581957e+00 -3.31415578e-01  2.51057159e+00]\n",
       "               [-4.19819174e-02 -1.53076941e+00  2.80497708e-02  1.53794799e+00]],\n",
       "              dtype=[('x', '<f8'), ('y', '<f8'), ('z', '<f8'), ('e', '<f8')]),\n",
       "ColorArray([[  0   0]\n",
       "            [  0   0]\n",
       "            [503   0]\n",
       "            ...\n",
       "            [  0   0]\n",
       "            [  0   0]\n",
       "            [  0   0]],\n",
       "           dtype=[('color', '<i4'), ('anticolor', '<i4')]),\n",
       "HelicityArray([ 9  9 -1 -1  0  0  9 -1  0  0  9  9 -1  0  0  9  9  9  9  0  0  9  9  9\n",
       "                9  9  9  9  9  0  0  9  9  9  9  9  9  9  9  9  9  9  9  9  9  9  9  9\n",
       "                9  9  9  9  9  9  9  9  9  9  9  9  9  9  9  9  9  9  9  9  9  9  9  9\n",
       "                9  9  9  9  9  9  9  9  9  9  9  9  9  9  9  9  9  9  9  9  9  9  9  9\n",
       "                9  9  0  0  9  9  9  9  9  9  9  9  9  9  9  9  9  9  9  9  9  9  9  9\n",
       "                9  9  9  9  9  9  9  9  9 -1  1  0 -1  9  9  9  9  9  9  9  9  9  9  9\n",
       "                9  9  9  9  9  9  9  9  9  9  9  9  9  9  9  9  9  9  9 -1  1  9  9  9\n",
       "                9  9  9  9  9  9  9  9  9  9  9  9  9  9  9  9  9  9  9  9  9  9  9  9\n",
       "                9  9  9  9  9  9  9  9  9  9  9  9  9  9  9  9  9  9  9  9  9  9  9  9\n",
       "                9  9  9  9  9  9  9  9  9  9  9  9  9  9  9  9  9  9  9  9  9  9  9  9\n",
       "                9  9  9  9  9  9  9  9  9  9  9  9  9  9  9  9  9  9  9  9  9  9  9  9\n",
       "                9  9  9  9  9  9  9  9  9  9  9  9  9  9  9  9  9  9  9  9  9  9  9  9\n",
       "                9  9  9  9  9  9  9  9  9  9  9  9  9  9  9  9  9  9  9  9  9  9  9  9\n",
       "                9  9  9  9  9  9  9  9  9  9  9  9  9  9  9  9  9  9  9  9  9  9  9  9\n",
       "                9  9  9  9  9  9  9  9  9  9  9  9  9  9  9  9  9  9  9  9  9  9  9  9\n",
       "                9  9  9  9  9  9  9  9  9  9  9  9  9  9  9  9  9  9  9  9  9  9  9  9\n",
       "                9  9  9  9  9  9  9  9  9  9  9  9  9  9  9  9  9  9  9  9  9  9  9  9\n",
       "                9  9  9  9  9  9  9  9  9  9  9  9  9  9  9  9  9  9  9  9  9  9  9  9\n",
       "                9  9  9  9  9  9  9  9  9  9  9  9  9  9  9  9  9  9  9  9  9  9  9  9\n",
       "                9  9  9  9  9  9  9  9  9  9  9  9  9  9  9  9  9  9  9  9  9  9  9  9\n",
       "                9  9  9  9  9  9  9  9  9  9  9  9  9  9  9  9  9  9  9  9  9  9  9  9\n",
       "                9  9  9  9  9  9  9  9  9  9  9  9  9  9  9  9  9  9  9  9  9  9  9  9\n",
       "                9  9  9  9  9  9  9  9  9  9  9  9  9  9  9  9  9  9  9  9  9  9  9  9\n",
       "                9  9  9  9  9  9  9  9  9  9  9  9  9  9  9  9  9  9  9  9  9  9  9  9\n",
       "                9  9  9  9  9  9  9  9  9  9  9  9  9  9  9  9  9  9  9  9  9  9  9  9\n",
       "                9  9  9  9  9],\n",
       "              dtype=int16),\n",
       "StatusArray([-12 -12 -21 -21 -22 -22 -41 -42 -44 -44 -43 -41 -42 -44 -44 -44 -43 -42\n",
       "             -41 -44 -44 -44 -44 -43 -51 -51 -52 -42 -41 -44 -44 -44 -44 -44 -44 -43\n",
       "             -51 -51 -52 -51 -51 -52 -51 -51 -52 -51 -51 -52 -51 -51 -52 -51 -51 -52\n",
       "             -51 -51 -52 -51 -51 -52 -51 -51 -52 -51 -51 -52 -51 -51 -52 -51 -51 -52\n",
       "             -51 -51 -52 -51 -51 -52 -51 -51 -52 -51 -51 -52 -51 -51 -52 -51 -51 -52\n",
       "             -51 -51 -52 -51 -51 -52 -61 -61 -62 -62 -62 -62 -62 -62 -62 -62 -62 -62\n",
       "             -62 -62 -62 -62 -62 -62 -62 -62 -62 -62 -62 -62 -62 -62 -62 -62 -62 -63\n",
       "             -63 -63 -63  23  23 -22 -23 -51 -51 -52 -51 -51 -52 -51 -51 -52 -51 -51\n",
       "             -52 -51 -51 -52 -51 -51 -52 -51 -51 -52 -51 -51 -52 -51 -51 -52 -51 -51\n",
       "             -52 -23 -23 -51 -51 -52 -51 -51 -52 -51 -51 -52 -51 -51 -52 -51 -51 -52\n",
       "             -51 -51 -52 -51 -51 -52 -73 -73 -73 -71 -71 -83 -83  84 -71 -71 -71 -71\n",
       "             -71 -83 -83  83  84 -84  84 -71 -71 -71 -83  83 -83  83  84 -84 -84 -71\n",
       "             -71 -71 -71 -71 -71 -71  83 -83 -83 -83  83  83  83  84 -84 -84  84 -84\n",
       "             -84 -71 -71 -83 -83  83 -83  83 -84  84 -84  84 -84 -71 -71 -71 -71 -71\n",
       "             -71 -71 -71 -83 -83  83 -83 -83 -83  83 -83  84 -84  84 -84  84  84  84\n",
       "             -84  84 -71 -71 -71 -71 -71 -71 -71 -71 -83 -83 -83  83 -83  83 -83 -83\n",
       "             -83 -83 -83  83 -84 -84  84  84 -71 -71 -71 -71 -71 -71 -71 -71 -71 -71\n",
       "             -71 -83 -83  83 -83 -83 -83  83  83  83 -83 -83 -83  84 -84 -84 -84 -84\n",
       "             -84 -84  84  84 -84 -84 -84 -84 -84  91 -91 -91  91 -91 -91  91 -91  91\n",
       "             -91 -91 -91 -91 -91 -91  91 -91  91  91 -91  91  91  91  91 -91 -91 -91\n",
       "             -91 -91  91 -91  91 -91  91 -91  91 -91  91  91  91  91  91 -91  91  91\n",
       "             -91  91 -91  91 -91  91  91  91 -91 -91  91 -91  91  91 -91 -91 -91 -91\n",
       "              91 -91  91  91  91 -91 -91 -91  91 -91  91  91 -91  91  91  91  91  91\n",
       "              91 -91 -91  91  91  91  91  91  91  91  91  91  91  91  91  91 -91 -91\n",
       "             -91 -91  91  91 -91  91  91  91  91  91  91 -91 -91  91 -91 -91 -91  91\n",
       "              91  91  91  91  91  91  91  91  91 -91  91  91  91  91  91  91  91  91\n",
       "              91  91  91  91  91  91  91  91  91  91  91  91  91  91  91  91 -91 -91\n",
       "              91  91  91  91  91  91  91  91  91  91  91  91  91  91  91  91  91  91\n",
       "              91  91  91  91  91 -91  91  91  91  91  91  91  91  91  91  91  91 -91\n",
       "              91 -91  91  91 -91 -91  91  91  91  91  91  91 -91 -91 -91 -91 -91  91\n",
       "              91  91  91  91  91  91  91  91  91  91  91  91  91 -91 -91 -91  91  91\n",
       "              91  91  91  91  91  91  91  91  91  91  91  91  91  91  91  91  91  91\n",
       "             -91 -91  91  91  91  91  91  91  91 -91  91  91  91  91 -91  91  91  91\n",
       "              91 -91  91  91  91  91 -91  91  91  91  91],\n",
       "            dtype=int16),\n",
       "MaskArray([False False False False False False False False False False False False\n",
       "           False False False False False False False False False False False False\n",
       "           False False False False False False False False False False False False\n",
       "           False False False False False False False False False False False False\n",
       "           False False False False False False False False False False False False\n",
       "           False False False False False False False False False False False False\n",
       "           False False False False False False False False False False False False\n",
       "           False False False False False False False False False False False False\n",
       "           False False False False False False False False False False False False\n",
       "           False False False False False False False False False False False False\n",
       "           False False False False False False False False False  True  True False\n",
       "           False False False False False False False False False False False False\n",
       "           False False False False False False False False False False False False\n",
       "           False False False False False False False False False False False False\n",
       "           False False False False False False False False False False False False\n",
       "           False False False False False False False False False False False False\n",
       "           False  True False False False False False False False  True  True False\n",
       "            True False False False False  True False  True  True False False False\n",
       "           False False False False False False  True False False False  True  True\n",
       "            True  True False False  True False False False False False False  True\n",
       "           False  True False  True False  True False False False False False False\n",
       "           False False False False False  True False False False  True False  True\n",
       "           False  True False  True  True  True False  True False False False False\n",
       "           False False False False False False False  True False  True False False\n",
       "           False False False  True False False  True  True False False False False\n",
       "           False False False False False False False False False  True False False\n",
       "           False  True  True  True False False False  True False False False False\n",
       "           False False  True  True False False False False False  True False False\n",
       "            True False False  True False  True False False False False False False\n",
       "            True False  True  True False  True  True  True  True False False False\n",
       "           False False  True False  True False  True False  True False  True  True\n",
       "            True  True  True False  True  True False  True False  True False  True\n",
       "            True  True False False  True False  True  True False False False False\n",
       "            True False  True  True  True False False False  True False  True  True\n",
       "           False  True  True  True  True  True  True False False  True  True  True\n",
       "            True  True  True  True  True  True  True  True  True  True False False\n",
       "           False False  True  True False  True  True  True  True  True  True False\n",
       "           False  True False False False  True  True  True  True  True  True  True\n",
       "            True  True  True False  True  True  True  True  True  True  True  True\n",
       "            True  True  True  True  True  True  True  True  True  True  True  True\n",
       "            True  True  True  True False False  True  True  True  True  True  True\n",
       "            True  True  True  True  True  True  True  True  True  True  True  True\n",
       "            True  True  True  True  True False  True  True  True  True  True  True\n",
       "            True  True  True  True  True False  True False  True  True False False\n",
       "            True  True  True  True  True  True False False False False False  True\n",
       "            True  True  True  True  True  True  True  True  True  True  True  True\n",
       "            True False False False  True  True  True  True  True  True  True  True\n",
       "            True  True  True  True  True  True  True  True  True  True  True  True\n",
       "           False False  True  True  True  True  True  True  True False  True  True\n",
       "            True  True False  True  True  True  True False  True  True  True  True\n",
       "           False  True  True  True  True],\n",
       "          dtype=bool)\n",
       "), adj=AdjacencyList([[   0   -1]\n",
       "               [   0   -2]\n",
       "               [  -6   -3]\n",
       "               ...\n",
       "               [-554  561]\n",
       "               [-559  562]\n",
       "               [-559  563]],\n",
       "              dtype=[('src', '<i4'), ('dst', '<i4')]))"
      ]
     },
     "execution_count": 184,
     "metadata": {},
     "output_type": "execute_result"
    }
   ],
   "source": [
    "graph = gcl.Graphicle.from_event(event)\n",
    "graph"
   ]
  },
  {
   "cell_type": "markdown",
   "id": "3a02b3e5-87dd-45fd-b139-9360a2eb869c",
   "metadata": {},
   "source": [
    "### Querying the event record\n",
    "\n",
    "- Possible to form complex filters over the whole event record\n",
    "\n",
    "A simple start is to use the `.hard_mask` attribute (actually aliased from `StatusArray.hard_mask`), which gives a boolean mask identifying the hard process."
   ]
  },
  {
   "cell_type": "code",
   "execution_count": 185,
   "id": "281a5459-12e8-48f7-a79b-452c41b67cd1",
   "metadata": {
    "tags": []
   },
   "outputs": [
    {
     "data": {
      "text/html": [
       "<table>\n",
       "<thead>\n",
       "<tr><th>name  </th><th style=\"text-align: right;\">       px</th><th style=\"text-align: right;\">       py</th><th style=\"text-align: right;\">       pz</th><th style=\"text-align: right;\">  energy</th><th style=\"text-align: right;\">  color</th><th style=\"text-align: right;\">  anticolor</th><th style=\"text-align: right;\">  helicity</th><th style=\"text-align: right;\">  status</th><th>final  </th><th style=\"text-align: right;\">  src</th><th style=\"text-align: right;\">  dst</th></tr>\n",
       "</thead>\n",
       "<tbody>\n",
       "<tr><td>b     </td><td style=\"text-align: right;\">-0.00E+00</td><td style=\"text-align: right;\"> 0.00E+00</td><td style=\"text-align: right;\"> 1.29E+02</td><td style=\"text-align: right;\">1.29E+02</td><td style=\"text-align: right;\">    503</td><td style=\"text-align: right;\">          0</td><td style=\"text-align: right;\">        -1</td><td style=\"text-align: right;\">     -21</td><td>False  </td><td style=\"text-align: right;\">   -6</td><td style=\"text-align: right;\">   -3</td></tr>\n",
       "<tr><td>g     </td><td style=\"text-align: right;\"> 0.00E+00</td><td style=\"text-align: right;\">-0.00E+00</td><td style=\"text-align: right;\">-1.92E+02</td><td style=\"text-align: right;\">1.92E+02</td><td style=\"text-align: right;\">    502</td><td style=\"text-align: right;\">        503</td><td style=\"text-align: right;\">        -1</td><td style=\"text-align: right;\">     -21</td><td>False  </td><td style=\"text-align: right;\">   -7</td><td style=\"text-align: right;\">   -3</td></tr>\n",
       "<tr><td>W-    </td><td style=\"text-align: right;\"> 3.23E+01</td><td style=\"text-align: right;\"> 1.76E+01</td><td style=\"text-align: right;\"> 5.74E+01</td><td style=\"text-align: right;\">1.07E+02</td><td style=\"text-align: right;\">      0</td><td style=\"text-align: right;\">          0</td><td style=\"text-align: right;\">         0</td><td style=\"text-align: right;\">     -22</td><td>False  </td><td style=\"text-align: right;\">   -3</td><td style=\"text-align: right;\">   -4</td></tr>\n",
       "<tr><td>t     </td><td style=\"text-align: right;\">-3.23E+01</td><td style=\"text-align: right;\">-1.76E+01</td><td style=\"text-align: right;\">-1.21E+02</td><td style=\"text-align: right;\">2.14E+02</td><td style=\"text-align: right;\">    502</td><td style=\"text-align: right;\">          0</td><td style=\"text-align: right;\">         0</td><td style=\"text-align: right;\">     -22</td><td>False  </td><td style=\"text-align: right;\">   -3</td><td style=\"text-align: right;\">   -5</td></tr>\n",
       "<tr><td>e-    </td><td style=\"text-align: right;\"> 5.05E+01</td><td style=\"text-align: right;\"> 1.78E+01</td><td style=\"text-align: right;\"> 2.71E+01</td><td style=\"text-align: right;\">6.00E+01</td><td style=\"text-align: right;\">      0</td><td style=\"text-align: right;\">          0</td><td style=\"text-align: right;\">        -1</td><td style=\"text-align: right;\">      23</td><td>True   </td><td style=\"text-align: right;\">  -98</td><td style=\"text-align: right;\">  128</td></tr>\n",
       "<tr><td>nu(e)~</td><td style=\"text-align: right;\">-2.27E+01</td><td style=\"text-align: right;\">-2.04E+01</td><td style=\"text-align: right;\"> 3.57E+01</td><td style=\"text-align: right;\">4.70E+01</td><td style=\"text-align: right;\">      0</td><td style=\"text-align: right;\">          0</td><td style=\"text-align: right;\">         1</td><td style=\"text-align: right;\">      23</td><td>True   </td><td style=\"text-align: right;\">  -98</td><td style=\"text-align: right;\">  129</td></tr>\n",
       "<tr><td>W+    </td><td style=\"text-align: right;\">-1.00E+01</td><td style=\"text-align: right;\"> 4.89E+01</td><td style=\"text-align: right;\">-5.59E+01</td><td style=\"text-align: right;\">1.05E+02</td><td style=\"text-align: right;\">      0</td><td style=\"text-align: right;\">          0</td><td style=\"text-align: right;\">         0</td><td style=\"text-align: right;\">     -22</td><td>False  </td><td style=\"text-align: right;\">  -99</td><td style=\"text-align: right;\"> -130</td></tr>\n",
       "<tr><td>b     </td><td style=\"text-align: right;\">-1.40E+01</td><td style=\"text-align: right;\">-8.97E+01</td><td style=\"text-align: right;\">-6.39E+01</td><td style=\"text-align: right;\">1.11E+02</td><td style=\"text-align: right;\">    502</td><td style=\"text-align: right;\">          0</td><td style=\"text-align: right;\">        -1</td><td style=\"text-align: right;\">     -23</td><td>False  </td><td style=\"text-align: right;\">  -99</td><td style=\"text-align: right;\"> -131</td></tr>\n",
       "<tr><td>u     </td><td style=\"text-align: right;\">-4.16E+01</td><td style=\"text-align: right;\"> 2.86E+01</td><td style=\"text-align: right;\">-3.39E+01</td><td style=\"text-align: right;\">6.08E+01</td><td style=\"text-align: right;\">    501</td><td style=\"text-align: right;\">          0</td><td style=\"text-align: right;\">        -1</td><td style=\"text-align: right;\">     -23</td><td>False  </td><td style=\"text-align: right;\"> -134</td><td style=\"text-align: right;\"> -161</td></tr>\n",
       "<tr><td>d~    </td><td style=\"text-align: right;\"> 3.18E+01</td><td style=\"text-align: right;\"> 1.49E+01</td><td style=\"text-align: right;\">-2.04E+01</td><td style=\"text-align: right;\">4.07E+01</td><td style=\"text-align: right;\">      0</td><td style=\"text-align: right;\">        501</td><td style=\"text-align: right;\">         1</td><td style=\"text-align: right;\">     -23</td><td>False  </td><td style=\"text-align: right;\"> -134</td><td style=\"text-align: right;\"> -162</td></tr>\n",
       "</tbody>\n",
       "</table>\n",
       "\n",
       "10 particles × 12 attributes"
      ],
      "text/plain": [
       "Graphicle(particles=ParticleSet(\n",
       "PdgArray([  5  21 -24   6  11 -12  24   5   2  -1], dtype=int32),\n",
       "MomentumArray([[  -0.            0.          128.7732485   128.7732485 ]\n",
       "               [   0.           -0.         -192.2976548   192.2976548 ]\n",
       "               [  32.3441351    17.60944198   57.40265959  106.63649073]\n",
       "               [ -32.3441351   -17.60944198 -120.92706588  214.43441257]\n",
       "               [  50.5088914    17.77404304   27.07457927   60.00081299]\n",
       "               [ -22.67311374  -20.43706007   35.69286549   46.96513769]\n",
       "               [ -10.02036858   48.89372258  -55.89246082  104.76100535]\n",
       "               [ -14.01508811  -89.66628744  -63.86529916  111.07354427]\n",
       "               [ -41.63436849   28.58497979  -33.86444365   60.80561038]\n",
       "               [  31.83829866   14.9352591   -20.38950209   40.65059682]],\n",
       "              dtype=[('x', '<f8'), ('y', '<f8'), ('z', '<f8'), ('e', '<f8')]),\n",
       "ColorArray([[503   0]\n",
       "            [502 503]\n",
       "            [  0   0]\n",
       "            [502   0]\n",
       "            [  0   0]\n",
       "            [  0   0]\n",
       "            [  0   0]\n",
       "            [502   0]\n",
       "            [501   0]\n",
       "            [  0 501]],\n",
       "           dtype=[('color', '<i4'), ('anticolor', '<i4')]),\n",
       "HelicityArray([-1 -1  0  0 -1  1  0 -1 -1  1], dtype=int16),\n",
       "StatusArray([-21 -21 -22 -22  23  23 -22 -23 -23 -23], dtype=int16),\n",
       "MaskArray([False False False False  True  True False False False False], dtype=bool)\n",
       "), adj=AdjacencyList([[  -6   -3]\n",
       "               [  -7   -3]\n",
       "               [  -3   -4]\n",
       "               [  -3   -5]\n",
       "               [ -98  128]\n",
       "               [ -98  129]\n",
       "               [ -99 -130]\n",
       "               [ -99 -131]\n",
       "               [-134 -161]\n",
       "               [-134 -162]],\n",
       "              dtype=[('src', '<i4'), ('dst', '<i4')]))"
      ]
     },
     "execution_count": 185,
     "metadata": {},
     "output_type": "execute_result"
    }
   ],
   "source": [
    "graph[graph.hard_mask]"
   ]
  },
  {
   "cell_type": "markdown",
   "id": "beaebb1d-4a94-450f-8bcf-b3d3a7cbf0f2",
   "metadata": {},
   "source": [
    "- `.hard_mask` attribute is a `MaskGroup`\n",
    "- Enables labelling and organising masks in hierarchies\n",
    "- `.hard_mask` is a flat `MaskGroup`, identifying different sections of the hard process\n",
    "- Nesting structure of `MaskGroup` instances seen by printing"
   ]
  },
  {
   "cell_type": "code",
   "execution_count": 186,
   "id": "716401ee-add2-43b1-b6cc-d092d0445bbe",
   "metadata": {
    "tags": []
   },
   "outputs": [
    {
     "data": {
      "text/html": [
       "<pre style=\"white-space:pre;overflow-x:auto;line-height:normal;font-family:Menlo,'DejaVu Sans Mono',consolas,'Courier New',monospace\"></pre>\n"
      ],
      "text/plain": []
     },
     "metadata": {},
     "output_type": "display_data"
    },
    {
     "name": "stdout",
     "output_type": "stream",
     "text": [
      "MaskGroup(agg_op=OR)\n",
      "├── incoming\n",
      "├── intermediate\n",
      "├── outgoing\n",
      "└── outgoing_nonperturbative_diffraction\n",
      "\n"
     ]
    }
   ],
   "source": [
    "print(graph.hard_mask)"
   ]
  },
  {
   "cell_type": "markdown",
   "id": "221c0598-f9bf-4353-a6ec-337bcc4cb3e0",
   "metadata": {},
   "source": [
    "- `MaskGroup` can be subscripted using strings..."
   ]
  },
  {
   "cell_type": "code",
   "execution_count": 187,
   "id": "2a66bee1-bca1-49ef-937a-b05c0d67a20a",
   "metadata": {
    "tags": []
   },
   "outputs": [
    {
     "data": {
      "text/html": [
       "<table>\n",
       "<thead>\n",
       "<tr><th>name  </th><th style=\"text-align: right;\">       px</th><th style=\"text-align: right;\">       py</th><th style=\"text-align: right;\">       pz</th><th style=\"text-align: right;\">  energy</th><th style=\"text-align: right;\">  color</th><th style=\"text-align: right;\">  anticolor</th><th style=\"text-align: right;\">  helicity</th><th style=\"text-align: right;\">  status</th><th>final  </th><th style=\"text-align: right;\">  src</th><th style=\"text-align: right;\">  dst</th></tr>\n",
       "</thead>\n",
       "<tbody>\n",
       "<tr><td>e-    </td><td style=\"text-align: right;\"> 5.05E+01</td><td style=\"text-align: right;\"> 1.78E+01</td><td style=\"text-align: right;\"> 2.71E+01</td><td style=\"text-align: right;\">6.00E+01</td><td style=\"text-align: right;\">      0</td><td style=\"text-align: right;\">          0</td><td style=\"text-align: right;\">        -1</td><td style=\"text-align: right;\">      23</td><td>True   </td><td style=\"text-align: right;\">  -98</td><td style=\"text-align: right;\">  128</td></tr>\n",
       "<tr><td>nu(e)~</td><td style=\"text-align: right;\">-2.27E+01</td><td style=\"text-align: right;\">-2.04E+01</td><td style=\"text-align: right;\"> 3.57E+01</td><td style=\"text-align: right;\">4.70E+01</td><td style=\"text-align: right;\">      0</td><td style=\"text-align: right;\">          0</td><td style=\"text-align: right;\">         1</td><td style=\"text-align: right;\">      23</td><td>True   </td><td style=\"text-align: right;\">  -98</td><td style=\"text-align: right;\">  129</td></tr>\n",
       "<tr><td>b     </td><td style=\"text-align: right;\">-1.40E+01</td><td style=\"text-align: right;\">-8.97E+01</td><td style=\"text-align: right;\">-6.39E+01</td><td style=\"text-align: right;\">1.11E+02</td><td style=\"text-align: right;\">    502</td><td style=\"text-align: right;\">          0</td><td style=\"text-align: right;\">        -1</td><td style=\"text-align: right;\">     -23</td><td>False  </td><td style=\"text-align: right;\">  -99</td><td style=\"text-align: right;\"> -131</td></tr>\n",
       "<tr><td>u     </td><td style=\"text-align: right;\">-4.16E+01</td><td style=\"text-align: right;\"> 2.86E+01</td><td style=\"text-align: right;\">-3.39E+01</td><td style=\"text-align: right;\">6.08E+01</td><td style=\"text-align: right;\">    501</td><td style=\"text-align: right;\">          0</td><td style=\"text-align: right;\">        -1</td><td style=\"text-align: right;\">     -23</td><td>False  </td><td style=\"text-align: right;\"> -134</td><td style=\"text-align: right;\"> -161</td></tr>\n",
       "<tr><td>d~    </td><td style=\"text-align: right;\"> 3.18E+01</td><td style=\"text-align: right;\"> 1.49E+01</td><td style=\"text-align: right;\">-2.04E+01</td><td style=\"text-align: right;\">4.07E+01</td><td style=\"text-align: right;\">      0</td><td style=\"text-align: right;\">        501</td><td style=\"text-align: right;\">         1</td><td style=\"text-align: right;\">     -23</td><td>False  </td><td style=\"text-align: right;\"> -134</td><td style=\"text-align: right;\"> -162</td></tr>\n",
       "</tbody>\n",
       "</table>\n",
       "\n",
       "5 particles × 12 attributes"
      ],
      "text/plain": [
       "Graphicle(particles=ParticleSet(\n",
       "PdgArray([ 11 -12   5   2  -1], dtype=int32),\n",
       "MomentumArray([[ 50.5088914   17.77404304  27.07457927  60.00081299]\n",
       "               [-22.67311374 -20.43706007  35.69286549  46.96513769]\n",
       "               [-14.01508811 -89.66628744 -63.86529916 111.07354427]\n",
       "               [-41.63436849  28.58497979 -33.86444365  60.80561038]\n",
       "               [ 31.83829866  14.9352591  -20.38950209  40.65059682]],\n",
       "              dtype=[('x', '<f8'), ('y', '<f8'), ('z', '<f8'), ('e', '<f8')]),\n",
       "ColorArray([[  0   0]\n",
       "            [  0   0]\n",
       "            [502   0]\n",
       "            [501   0]\n",
       "            [  0 501]],\n",
       "           dtype=[('color', '<i4'), ('anticolor', '<i4')]),\n",
       "HelicityArray([-1  1 -1 -1  1], dtype=int16),\n",
       "StatusArray([ 23  23 -23 -23 -23], dtype=int16),\n",
       "MaskArray([ True  True False False False], dtype=bool)\n",
       "), adj=AdjacencyList([[ -98  128]\n",
       "               [ -98  129]\n",
       "               [ -99 -131]\n",
       "               [-134 -161]\n",
       "               [-134 -162]],\n",
       "              dtype=[('src', '<i4'), ('dst', '<i4')]))"
      ]
     },
     "execution_count": 187,
     "metadata": {},
     "output_type": "execute_result"
    }
   ],
   "source": [
    "graph[graph.hard_mask[\"outgoing\"]]"
   ]
  },
  {
   "cell_type": "markdown",
   "id": "caf84273-b0bc-4ce8-8356-7471015e8645",
   "metadata": {},
   "source": [
    "- ... or lists to form subsets of the original `MaskGroup`"
   ]
  },
  {
   "cell_type": "code",
   "execution_count": 188,
   "id": "14d1dbf5-d218-4133-853f-2ceba3228183",
   "metadata": {
    "tags": []
   },
   "outputs": [
    {
     "data": {
      "text/html": [
       "<pre style=\"white-space:pre;overflow-x:auto;line-height:normal;font-family:Menlo,'DejaVu Sans Mono',consolas,'Courier New',monospace\"></pre>\n"
      ],
      "text/plain": []
     },
     "metadata": {},
     "output_type": "display_data"
    },
    {
     "name": "stdout",
     "output_type": "stream",
     "text": [
      "MaskGroup(agg_op=OR)\n",
      "├── outgoing\n",
      "└── intermediate\n",
      "\n"
     ]
    },
    {
     "data": {
      "text/html": [
       "<table>\n",
       "<thead>\n",
       "<tr><th>name  </th><th style=\"text-align: right;\">       px</th><th style=\"text-align: right;\">       py</th><th style=\"text-align: right;\">       pz</th><th style=\"text-align: right;\">  energy</th><th style=\"text-align: right;\">  color</th><th style=\"text-align: right;\">  anticolor</th><th style=\"text-align: right;\">  helicity</th><th style=\"text-align: right;\">  status</th><th>final  </th><th style=\"text-align: right;\">  src</th><th style=\"text-align: right;\">  dst</th></tr>\n",
       "</thead>\n",
       "<tbody>\n",
       "<tr><td>W-    </td><td style=\"text-align: right;\"> 3.23E+01</td><td style=\"text-align: right;\"> 1.76E+01</td><td style=\"text-align: right;\"> 5.74E+01</td><td style=\"text-align: right;\">1.07E+02</td><td style=\"text-align: right;\">      0</td><td style=\"text-align: right;\">          0</td><td style=\"text-align: right;\">         0</td><td style=\"text-align: right;\">     -22</td><td>False  </td><td style=\"text-align: right;\">   -3</td><td style=\"text-align: right;\">   -4</td></tr>\n",
       "<tr><td>t     </td><td style=\"text-align: right;\">-3.23E+01</td><td style=\"text-align: right;\">-1.76E+01</td><td style=\"text-align: right;\">-1.21E+02</td><td style=\"text-align: right;\">2.14E+02</td><td style=\"text-align: right;\">    502</td><td style=\"text-align: right;\">          0</td><td style=\"text-align: right;\">         0</td><td style=\"text-align: right;\">     -22</td><td>False  </td><td style=\"text-align: right;\">   -3</td><td style=\"text-align: right;\">   -5</td></tr>\n",
       "<tr><td>e-    </td><td style=\"text-align: right;\"> 5.05E+01</td><td style=\"text-align: right;\"> 1.78E+01</td><td style=\"text-align: right;\"> 2.71E+01</td><td style=\"text-align: right;\">6.00E+01</td><td style=\"text-align: right;\">      0</td><td style=\"text-align: right;\">          0</td><td style=\"text-align: right;\">        -1</td><td style=\"text-align: right;\">      23</td><td>True   </td><td style=\"text-align: right;\">  -98</td><td style=\"text-align: right;\">  128</td></tr>\n",
       "<tr><td>nu(e)~</td><td style=\"text-align: right;\">-2.27E+01</td><td style=\"text-align: right;\">-2.04E+01</td><td style=\"text-align: right;\"> 3.57E+01</td><td style=\"text-align: right;\">4.70E+01</td><td style=\"text-align: right;\">      0</td><td style=\"text-align: right;\">          0</td><td style=\"text-align: right;\">         1</td><td style=\"text-align: right;\">      23</td><td>True   </td><td style=\"text-align: right;\">  -98</td><td style=\"text-align: right;\">  129</td></tr>\n",
       "<tr><td>W+    </td><td style=\"text-align: right;\">-1.00E+01</td><td style=\"text-align: right;\"> 4.89E+01</td><td style=\"text-align: right;\">-5.59E+01</td><td style=\"text-align: right;\">1.05E+02</td><td style=\"text-align: right;\">      0</td><td style=\"text-align: right;\">          0</td><td style=\"text-align: right;\">         0</td><td style=\"text-align: right;\">     -22</td><td>False  </td><td style=\"text-align: right;\">  -99</td><td style=\"text-align: right;\"> -130</td></tr>\n",
       "<tr><td>b     </td><td style=\"text-align: right;\">-1.40E+01</td><td style=\"text-align: right;\">-8.97E+01</td><td style=\"text-align: right;\">-6.39E+01</td><td style=\"text-align: right;\">1.11E+02</td><td style=\"text-align: right;\">    502</td><td style=\"text-align: right;\">          0</td><td style=\"text-align: right;\">        -1</td><td style=\"text-align: right;\">     -23</td><td>False  </td><td style=\"text-align: right;\">  -99</td><td style=\"text-align: right;\"> -131</td></tr>\n",
       "<tr><td>u     </td><td style=\"text-align: right;\">-4.16E+01</td><td style=\"text-align: right;\"> 2.86E+01</td><td style=\"text-align: right;\">-3.39E+01</td><td style=\"text-align: right;\">6.08E+01</td><td style=\"text-align: right;\">    501</td><td style=\"text-align: right;\">          0</td><td style=\"text-align: right;\">        -1</td><td style=\"text-align: right;\">     -23</td><td>False  </td><td style=\"text-align: right;\"> -134</td><td style=\"text-align: right;\"> -161</td></tr>\n",
       "<tr><td>d~    </td><td style=\"text-align: right;\"> 3.18E+01</td><td style=\"text-align: right;\"> 1.49E+01</td><td style=\"text-align: right;\">-2.04E+01</td><td style=\"text-align: right;\">4.07E+01</td><td style=\"text-align: right;\">      0</td><td style=\"text-align: right;\">        501</td><td style=\"text-align: right;\">         1</td><td style=\"text-align: right;\">     -23</td><td>False  </td><td style=\"text-align: right;\"> -134</td><td style=\"text-align: right;\"> -162</td></tr>\n",
       "</tbody>\n",
       "</table>\n",
       "\n",
       "8 particles × 12 attributes"
      ],
      "text/plain": [
       "Graphicle(particles=ParticleSet(\n",
       "PdgArray([-24   6  11 -12  24   5   2  -1], dtype=int32),\n",
       "MomentumArray([[  32.3441351    17.60944198   57.40265959  106.63649073]\n",
       "               [ -32.3441351   -17.60944198 -120.92706588  214.43441257]\n",
       "               [  50.5088914    17.77404304   27.07457927   60.00081299]\n",
       "               [ -22.67311374  -20.43706007   35.69286549   46.96513769]\n",
       "               [ -10.02036858   48.89372258  -55.89246082  104.76100535]\n",
       "               [ -14.01508811  -89.66628744  -63.86529916  111.07354427]\n",
       "               [ -41.63436849   28.58497979  -33.86444365   60.80561038]\n",
       "               [  31.83829866   14.9352591   -20.38950209   40.65059682]],\n",
       "              dtype=[('x', '<f8'), ('y', '<f8'), ('z', '<f8'), ('e', '<f8')]),\n",
       "ColorArray([[  0   0]\n",
       "            [502   0]\n",
       "            [  0   0]\n",
       "            [  0   0]\n",
       "            [  0   0]\n",
       "            [502   0]\n",
       "            [501   0]\n",
       "            [  0 501]],\n",
       "           dtype=[('color', '<i4'), ('anticolor', '<i4')]),\n",
       "HelicityArray([ 0  0 -1  1  0 -1 -1  1], dtype=int16),\n",
       "StatusArray([-22 -22  23  23 -22 -23 -23 -23], dtype=int16),\n",
       "MaskArray([False False  True  True False False False False], dtype=bool)\n",
       "), adj=AdjacencyList([[  -3   -4]\n",
       "               [  -3   -5]\n",
       "               [ -98  128]\n",
       "               [ -98  129]\n",
       "               [ -99 -130]\n",
       "               [ -99 -131]\n",
       "               [-134 -161]\n",
       "               [-134 -162]],\n",
       "              dtype=[('src', '<i4'), ('dst', '<i4')]))"
      ]
     },
     "execution_count": 188,
     "metadata": {},
     "output_type": "execute_result"
    }
   ],
   "source": [
    "sub_mask = graph.hard_mask[[\"outgoing\", \"intermediate\"]]\n",
    "print(sub_mask)\n",
    "graph[sub_mask]"
   ]
  },
  {
   "cell_type": "markdown",
   "id": "28b62aa1-98a1-45b8-84eb-1fa3c2b4be4e",
   "metadata": {},
   "source": [
    "- Nesting `MaskGroup`s is very useful for descendant hierarchy of hard process\n",
    "- Routines in the `graphicle.select` module form more complex masks over the event record\n",
    "- *eg.* `hierarchy()` traverses DAG to find descendants of partons in the hard process"
   ]
  },
  {
   "cell_type": "code",
   "execution_count": 189,
   "id": "6858034b-f024-453c-92b5-595e0924fd4d",
   "metadata": {
    "tags": []
   },
   "outputs": [
    {
     "data": {
      "text/html": [
       "<pre style=\"white-space:pre;overflow-x:auto;line-height:normal;font-family:Menlo,'DejaVu Sans Mono',consolas,'Courier New',monospace\"></pre>\n"
      ],
      "text/plain": []
     },
     "metadata": {},
     "output_type": "display_data"
    },
    {
     "name": "stdout",
     "output_type": "stream",
     "text": [
      "MaskGroup(agg_op=OR)\n",
      "├── W-\n",
      "│   ├── e-\n",
      "│   ├── nu(e)~\n",
      "│   └── latent\n",
      "└── t\n",
      "    ├── W+\n",
      "    │   ├── u\n",
      "    │   ├── d~\n",
      "    │   └── latent\n",
      "    ├── b\n",
      "    └── latent\n",
      "\n"
     ]
    }
   ],
   "source": [
    "hier = gcl.select.hierarchy(graph)\n",
    "print(hier)"
   ]
  },
  {
   "cell_type": "code",
   "execution_count": 190,
   "id": "7a8bf4de-3dc5-4207-a18a-5e79f3ef1e35",
   "metadata": {
    "tags": []
   },
   "outputs": [
    {
     "name": "stdout",
     "output_type": "stream",
     "text": [
      "Number of electron descendants in final state: 1\n"
     ]
    },
    {
     "data": {
      "text/html": [
       "<table>\n",
       "<thead>\n",
       "<tr><th>name  </th><th style=\"text-align: right;\">      px</th><th style=\"text-align: right;\">      py</th><th style=\"text-align: right;\">      pz</th><th style=\"text-align: right;\">  energy</th><th style=\"text-align: right;\">  color</th><th style=\"text-align: right;\">  anticolor</th><th style=\"text-align: right;\">  helicity</th><th style=\"text-align: right;\">  status</th><th>final  </th><th style=\"text-align: right;\">  src</th><th style=\"text-align: right;\">  dst</th></tr>\n",
       "</thead>\n",
       "<tbody>\n",
       "<tr><td>e-    </td><td style=\"text-align: right;\">5.05E+01</td><td style=\"text-align: right;\">1.78E+01</td><td style=\"text-align: right;\">2.71E+01</td><td style=\"text-align: right;\">6.00E+01</td><td style=\"text-align: right;\">      0</td><td style=\"text-align: right;\">          0</td><td style=\"text-align: right;\">        -1</td><td style=\"text-align: right;\">      23</td><td>True   </td><td style=\"text-align: right;\">  -98</td><td style=\"text-align: right;\">  128</td></tr>\n",
       "</tbody>\n",
       "</table>\n",
       "\n",
       "1 particles × 12 attributes"
      ],
      "text/plain": [
       "Graphicle(particles=ParticleSet(\n",
       "PdgArray([11], dtype=int32),\n",
       "MomentumArray([[50.5088914  17.77404304 27.07457927 60.00081299]], dtype=[('x', '<f8'), ('y', '<f8'), ('z', '<f8'), ('e', '<f8')]),\n",
       "ColorArray([[0 0]], dtype=[('color', '<i4'), ('anticolor', '<i4')]),\n",
       "HelicityArray([-1], dtype=int16),\n",
       "StatusArray([23], dtype=int16),\n",
       "MaskArray([ True], dtype=bool)\n",
       "), adj=AdjacencyList([[-98 128]], dtype=[('src', '<i4'), ('dst', '<i4')]))"
      ]
     },
     "execution_count": 190,
     "metadata": {},
     "output_type": "execute_result"
    }
   ],
   "source": [
    "electron_final = hier[\"W-\"][\"e-\"] & graph.final\n",
    "electron_pmu = graph.pmu[electron_final]\n",
    "print(f\"Number of electron descendants in final state: {len(electron_pmu)}\")\n",
    "graph[electron_final]"
   ]
  },
  {
   "cell_type": "markdown",
   "id": "f4db5a57-caca-4c6b-a610-6ae7108e4616",
   "metadata": {},
   "source": [
    "- graphicle's wrappers are transparent to numpy\n",
    "- simple functions, such as a sum, can be applied with ease\n",
    "- Masking over descendants of a parton in final state, then summing, gives momentum reconstruction"
   ]
  },
  {
   "cell_type": "code",
   "execution_count": 191,
   "id": "fc698861-0289-432d-8891-aa2a5ef42871",
   "metadata": {
    "tags": []
   },
   "outputs": [
    {
     "name": "stdout",
     "output_type": "stream",
     "text": [
      "MomentumArray([[50.5088914  17.77404304 27.07457927 60.00081299]], dtype=[('x', '<f8'), ('y', '<f8'), ('z', '<f8'), ('e', '<f8')])\n"
     ]
    }
   ],
   "source": [
    "electron_pmu_agg = np.sum(electron_pmu, axis=0)\n",
    "print(electron_pmu_agg)"
   ]
  },
  {
   "cell_type": "code",
   "execution_count": 192,
   "id": "9dcc267e-79df-4f9f-a778-ef406b7bd699",
   "metadata": {
    "tags": []
   },
   "outputs": [
    {
     "name": "stdout",
     "output_type": "stream",
     "text": [
      "[0.000511]\n"
     ]
    }
   ],
   "source": [
    "print(electron_pmu_agg.mass)"
   ]
  },
  {
   "cell_type": "code",
   "execution_count": 193,
   "id": "68dfbfc7-0c2d-46b2-92ca-c45f0cb0b1a8",
   "metadata": {
    "tags": []
   },
   "outputs": [
    {
     "data": {
      "text/html": [
       "<table>\n",
       "<thead>\n",
       "<tr><th>name  </th><th style=\"text-align: right;\">      px</th><th style=\"text-align: right;\">      py</th><th style=\"text-align: right;\">      pz</th><th style=\"text-align: right;\">  energy</th><th style=\"text-align: right;\">  color</th><th style=\"text-align: right;\">  anticolor</th><th style=\"text-align: right;\">  helicity</th><th style=\"text-align: right;\">  status</th><th>final  </th><th style=\"text-align: right;\">  src</th><th style=\"text-align: right;\">  dst</th></tr>\n",
       "</thead>\n",
       "<tbody>\n",
       "<tr><td>e-    </td><td style=\"text-align: right;\">5.05E+01</td><td style=\"text-align: right;\">1.78E+01</td><td style=\"text-align: right;\">2.71E+01</td><td style=\"text-align: right;\">6.00E+01</td><td style=\"text-align: right;\">      0</td><td style=\"text-align: right;\">          0</td><td style=\"text-align: right;\">        -1</td><td style=\"text-align: right;\">      23</td><td>True   </td><td style=\"text-align: right;\">  -98</td><td style=\"text-align: right;\">  128</td></tr>\n",
       "</tbody>\n",
       "</table>\n",
       "\n",
       "1 particles × 12 attributes"
      ],
      "text/plain": [
       "Graphicle(particles=ParticleSet(\n",
       "PdgArray([11], dtype=int32),\n",
       "MomentumArray([[50.5088914  17.77404304 27.07457927 60.00081299]], dtype=[('x', '<f8'), ('y', '<f8'), ('z', '<f8'), ('e', '<f8')]),\n",
       "ColorArray([[0 0]], dtype=[('color', '<i4'), ('anticolor', '<i4')]),\n",
       "HelicityArray([-1], dtype=int16),\n",
       "StatusArray([23], dtype=int16),\n",
       "MaskArray([ True], dtype=bool)\n",
       "), adj=AdjacencyList([[-98 128]], dtype=[('src', '<i4'), ('dst', '<i4')]))"
      ]
     },
     "execution_count": 193,
     "metadata": {},
     "output_type": "execute_result"
    }
   ],
   "source": [
    "hard_electron_mask = graph.hard_mask & (graph.pdg.name == \"e-\")\n",
    "graph[hard_electron_mask]"
   ]
  },
  {
   "cell_type": "code",
   "execution_count": 194,
   "id": "97917a55-bab6-4929-9d9d-7b4d6aaf1e2d",
   "metadata": {
    "tags": []
   },
   "outputs": [
    {
     "data": {
      "text/plain": [
       "array([0.000511])"
      ]
     },
     "execution_count": 194,
     "metadata": {},
     "output_type": "execute_result"
    }
   ],
   "source": [
    "graph[hard_electron_mask].pmu.mass"
   ]
  },
  {
   "cell_type": "markdown",
   "id": "fc3935ab-0324-4be0-a872-3b1e14a5deee",
   "metadata": {},
   "source": [
    "- Reconstructed mass can be checked against the reference value from PDG record"
   ]
  },
  {
   "cell_type": "code",
   "execution_count": 195,
   "id": "e8ebdefb-b298-4e34-aca1-c98250b75543",
   "metadata": {
    "tags": []
   },
   "outputs": [
    {
     "data": {
      "text/plain": [
       "array([0.000511])"
      ]
     },
     "execution_count": 195,
     "metadata": {},
     "output_type": "execute_result"
    }
   ],
   "source": [
    "graph.pdg[hard_electron_mask].mass"
   ]
  },
  {
   "cell_type": "markdown",
   "id": "eb64a7b3-0ec2-440c-8969-cb44c258a904",
   "metadata": {},
   "source": [
    "- Up one level of nesting in the `MaskGroup`, reconstruct the parent parton, `W+`:"
   ]
  },
  {
   "cell_type": "code",
   "execution_count": 196,
   "id": "75d191df-9dd9-4632-b750-37a37f8b235a",
   "metadata": {
    "tags": []
   },
   "outputs": [
    {
     "data": {
      "text/plain": [
       "array([81.97585196])"
      ]
     },
     "execution_count": 196,
     "metadata": {},
     "output_type": "execute_result"
    }
   ],
   "source": [
    "W_plus_final = hier[\"W-\"] & graph.final\n",
    "W_plus_pmu = graph.pmu[W_plus_final]\n",
    "np.sum(W_plus_pmu, axis=0).mass"
   ]
  },
  {
   "cell_type": "markdown",
   "id": "32c7b850-abaa-40ef-b9f1-4f8a8d2246a9",
   "metadata": {},
   "source": [
    "## Colliderscope"
   ]
  },
  {
   "cell_type": "code",
   "execution_count": 197,
   "id": "f9bbd86d-3730-4256-b773-671784f7a0b3",
   "metadata": {
    "tags": []
   },
   "outputs": [],
   "source": [
    "import colliderscope as csp"
   ]
  },
  {
   "cell_type": "markdown",
   "id": "fe629d2e-780f-4263-89d8-585b265be70e",
   "metadata": {},
   "source": [
    "- With colliderscope, you can view the event record as a network, using `shower_dag()`"
   ]
  },
  {
   "cell_type": "code",
   "execution_count": 198,
   "id": "f62bc6f0-08eb-4f57-8dd3-91c12c49659f",
   "metadata": {
    "tags": []
   },
   "outputs": [
    {
     "data": {
      "text/html": [
       "\n",
       "        <iframe\n",
       "            width=\"100%\"\n",
       "            height=\"750px\"\n",
       "            src=\"generation-dag.html\"\n",
       "            frameborder=\"0\"\n",
       "            allowfullscreen\n",
       "            \n",
       "        ></iframe>\n",
       "        "
      ],
      "text/plain": [
       "<IPython.lib.display.IFrame at 0x2b8e136dd0d0>"
      ]
     },
     "execution_count": 198,
     "metadata": {},
     "output_type": "execute_result"
    }
   ],
   "source": [
    "csp.shower_dag(\n",
    "    output=\"generation-dag.html\",\n",
    "    edges=graph.adj,\n",
    "    pdgs=graph.pdg,\n",
    "    masks=hier.flatten(\"leaves\"),\n",
    "    notebook=True,\n",
    ")"
   ]
  },
  {
   "cell_type": "markdown",
   "id": "a24eee6c-7cd5-4de4-ab92-f126ff801e33",
   "metadata": {},
   "source": [
    "- It is also possible to view the final state particles on an interactive scatter plot, using `eta_phi_scatter()`"
   ]
  },
  {
   "cell_type": "code",
   "execution_count": 199,
   "id": "4def7c4d-3e3e-449b-9a39-aa201b82bd3f",
   "metadata": {
    "tags": []
   },
   "outputs": [
    {
     "data": {
      "application/vnd.plotly.v1+json": {
       "config": {
        "plotlyServerURL": "https://plot.ly"
       },
       "data": [
        {
         "customdata": [
          [
           1.1,
           53.54497844452425,
           "e-"
          ]
         ],
         "hovertemplate": "group=e-<br>eta=%{x}<br>phi=%{y}<br>size=%{customdata[0]}<br>pt=%{customdata[1]}<br>name=%{customdata[2]}<extra></extra>",
         "legendgroup": "e-",
         "marker": {
          "color": "#636efa",
          "size": [
           1.1
          ],
          "sizemode": "area",
          "sizeref": 0.0027500000000000003,
          "symbol": "circle"
         },
         "mode": "markers",
         "name": "e-",
         "orientation": "v",
         "showlegend": true,
         "type": "scatter",
         "x": [
          0.4862523018363326
         ],
         "xaxis": "x",
         "y": [
          0.10770519028130712
         ],
         "yaxis": "y"
        },
        {
         "customdata": [
          [
           0.979190721297493,
           30.52447396418846,
           "nu(e)~"
          ]
         ],
         "hovertemplate": "group=nu(e)~<br>eta=%{x}<br>phi=%{y}<br>size=%{customdata[0]}<br>pt=%{customdata[1]}<br>name=%{customdata[2]}<extra></extra>",
         "legendgroup": "nu(e)~",
         "marker": {
          "color": "#EF553B",
          "size": [
           0.979190721297493
          ],
          "sizemode": "area",
          "sizeref": 0.0027500000000000003,
          "symbol": "diamond"
         },
         "mode": "markers",
         "name": "nu(e)~",
         "orientation": "v",
         "showlegend": true,
         "type": "scatter",
         "x": [
          0.9961828648948144
         ],
         "xaxis": "x",
         "y": [
          -0.7664954271655119
         ],
         "yaxis": "y"
        },
        {
         "customdata": [
          [
           0.3378343613192196,
           1.5449634026649237,
           "pi-"
          ],
          [
           0.6917391245975478,
           8.015133149196389,
           "pi+"
          ],
          [
           0.7060559828921186,
           8.567123739037998,
           "pi+"
          ],
          [
           0.16531090224393064,
           0.692420090396582,
           "pi-"
          ],
          [
           0.16556934115876998,
           0.6932530413915726,
           "pi+"
          ],
          [
           0.10906319068292826,
           0.5330066249035759,
           "pi+"
          ],
          [
           0.19581639401490178,
           0.797994315681643,
           "K-"
          ],
          [
           0.34894048180841253,
           1.6268812440583773,
           "pi+"
          ],
          [
           0.19238370813096056,
           0.7853527242837635,
           "p"
          ],
          [
           0.4439526085366774,
           2.5310954134038006,
           "pi-"
          ],
          [
           0.47171191944510227,
           2.8799871815145375,
           "pi+"
          ],
          [
           0.12076926632849243,
           0.5628366252794906,
           "pi-"
          ],
          [
           0.6712748265554715,
           7.28730240739585,
           "K-"
          ],
          [
           0.5268772556655357,
           3.7225529933592494,
           "K+"
          ],
          [
           0.19717280573670254,
           0.803045497760887,
           "K-"
          ],
          [
           0.10981552148609629,
           0.5348752941251964,
           "K(L)0"
          ],
          [
           0.24733593768436946,
           1.0141087971837461,
           "pi+"
          ],
          [
           0.556207169135805,
           4.2667383339730955,
           "pi+"
          ],
          [
           0.12595263093172188,
           0.5765729766382633,
           "pi+"
          ],
          [
           0.30339384505698386,
           1.316249268108538,
           "K(L)0"
          ],
          [
           0.433854341933422,
           2.414943777935532,
           "gamma"
          ],
          [
           0.31652057905445874,
           1.3991298979371902,
           "n~"
          ],
          [
           0.14986667944533444,
           0.6444181317231767,
           "gamma"
          ],
          [
           0.22009158482060542,
           0.893393688761123,
           "pi+"
          ],
          [
           0.14628879394505961,
           0.6337812139466381,
           "gamma"
          ],
          [
           0.3027862426113971,
           1.3125341311697174,
           "gamma"
          ],
          [
           0.46618843454433767,
           2.8069293245433076,
           "gamma"
          ],
          [
           0.25978267208690553,
           1.0745599347820656,
           "pi+"
          ],
          [
           0.3648455572224145,
           1.7518173370382815,
           "pi-"
          ],
          [
           0.1,
           0.5110016175418509,
           "pi-"
          ],
          [
           0.10815308811784045,
           0.5307547994405984,
           "gamma"
          ],
          [
           0.2524350629208374,
           1.038451683855542,
           "gamma"
          ],
          [
           0.6097834814728995,
           5.474393919166868,
           "gamma"
          ],
          [
           0.21142548247280976,
           0.8580938396441056,
           "pi+"
          ],
          [
           0.5250185907534098,
           3.6905053123246594,
           "pi-"
          ],
          [
           0.10088472664995585,
           0.5131090622555152,
           "gamma"
          ],
          [
           0.4467211177214492,
           2.563903800920634,
           "gamma"
          ],
          [
           0.14754561129247734,
           0.6374975289039543,
           "gamma"
          ],
          [
           0.21810334735129597,
           0.8851687047572717,
           "gamma"
          ],
          [
           0.2954855325281448,
           1.2687060381144002,
           "pi-"
          ],
          [
           0.5206768936911136,
           3.6167152680532304,
           "K(L)0"
          ],
          [
           0.362176592209718,
           1.7302016405186782,
           "pi+"
          ],
          [
           0.13547611177595967,
           0.6026907671158835,
           "K+"
          ],
          [
           0.16326028475491045,
           0.685846307899228,
           "pi-"
          ],
          [
           0.5690696055386252,
           4.529830427053789,
           "pi+"
          ],
          [
           0.3359283734479439,
           1.5313255744518492,
           "pi+"
          ],
          [
           0.3527246273401847,
           1.6557735784361576,
           "pi-"
          ],
          [
           0.19898383479317877,
           0.8098395214437735,
           "gamma"
          ],
          [
           0.1647035497692877,
           0.6904665252947768,
           "gamma"
          ],
          [
           0.3802341678002137,
           1.8818212818829008,
           "gamma"
          ],
          [
           0.5083000801435641,
           3.414361390555624,
           "e+"
          ],
          [
           0.21795445384849,
           0.8845558152353528,
           "pi+"
          ],
          [
           0.5580322714931752,
           4.303118020997269,
           "pi-"
          ],
          [
           0.6543707056950244,
           6.73620749787057,
           "pi+"
          ],
          [
           0.4254773693699352,
           2.322646178216987,
           "pi-"
          ],
          [
           0.5728784228362107,
           4.610806373129556,
           "K-"
          ],
          [
           0.6772818653412629,
           7.493811963247801,
           "K(L)0"
          ],
          [
           0.399683656785804,
           2.0600231920458105,
           "gamma"
          ],
          [
           0.5151183985031164,
           3.524394471538255,
           "K+"
          ],
          [
           0.3579719029611964,
           1.6966880482302207,
           "pi-"
          ]
         ],
         "hovertemplate": "group=background<br>eta=%{x}<br>phi=%{y}<br>size=%{customdata[0]}<br>pt=%{customdata[1]}<br>name=%{customdata[2]}<extra></extra>",
         "legendgroup": "background",
         "marker": {
          "color": "#00cc96",
          "size": [
           0.3378343613192196,
           0.6917391245975478,
           0.7060559828921186,
           0.16531090224393064,
           0.16556934115876998,
           0.10906319068292826,
           0.19581639401490178,
           0.34894048180841253,
           0.19238370813096056,
           0.4439526085366774,
           0.47171191944510227,
           0.12076926632849243,
           0.6712748265554715,
           0.5268772556655357,
           0.19717280573670254,
           0.10981552148609629,
           0.24733593768436946,
           0.556207169135805,
           0.12595263093172188,
           0.30339384505698386,
           0.433854341933422,
           0.31652057905445874,
           0.14986667944533444,
           0.22009158482060542,
           0.14628879394505961,
           0.3027862426113971,
           0.46618843454433767,
           0.25978267208690553,
           0.3648455572224145,
           0.1,
           0.10815308811784045,
           0.2524350629208374,
           0.6097834814728995,
           0.21142548247280976,
           0.5250185907534098,
           0.10088472664995585,
           0.4467211177214492,
           0.14754561129247734,
           0.21810334735129597,
           0.2954855325281448,
           0.5206768936911136,
           0.362176592209718,
           0.13547611177595967,
           0.16326028475491045,
           0.5690696055386252,
           0.3359283734479439,
           0.3527246273401847,
           0.19898383479317877,
           0.1647035497692877,
           0.3802341678002137,
           0.5083000801435641,
           0.21795445384849,
           0.5580322714931752,
           0.6543707056950244,
           0.4254773693699352,
           0.5728784228362107,
           0.6772818653412629,
           0.399683656785804,
           0.5151183985031164,
           0.3579719029611964
          ],
          "sizemode": "area",
          "sizeref": 0.0027500000000000003,
          "symbol": "square"
         },
         "mode": "markers",
         "name": "background",
         "orientation": "v",
         "showlegend": true,
         "type": "scatter",
         "x": [
          4.913106901507506,
          5.042478416175923,
          4.984915629540886,
          2.539632679321197,
          4.145260136764523,
          -5.619305459513291,
          -5.4361462431755605,
          -4.345847317603327,
          -4.304604739691842,
          2.2902767948353127,
          2.875908550328268,
          1.7280995842847793,
          2.8937262547975893,
          2.7981963561824768,
          -3.9052268903555447,
          -3.936934970676424,
          6.764800956727413,
          2.6767317709977263,
          3.414124495333823,
          2.317281898701054,
          -5.61790366366139,
          -4.001618565978518,
          4.61278115629391,
          2.8072635854907073,
          2.5538757759235806,
          -3.3928849570531976,
          -3.4218292365407263,
          -3.356480206983469,
          -3.587464209441854,
          0.4943505127686822,
          1.8581645931802093,
          4.93008736846823,
          4.981008732014593,
          1.3326962736164372,
          1.3196181793590631,
          4.231754715895324,
          -5.421371448176401,
          -3.6092725195827913,
          -3.5786935403501876,
          -5.510874429786395,
          4.805839120572989,
          4.918991965960353,
          3.8001725369340535,
          4.52331563422516,
          2.5812803256558867,
          5.003756903500252,
          4.749722017113706,
          4.728613650565378,
          2.314193327160967,
          2.3258850968150298,
          2.4856974317839766,
          2.3844878585827143,
          2.52678307073607,
          2.474373378053454,
          2.3529724223416064,
          2.5902857911953667,
          2.4990016200774874,
          2.435205715242989,
          2.5747461492523707,
          2.539174047197274
         ],
         "xaxis": "x",
         "y": [
          -0.2871234686654199,
          -0.4458362958767901,
          -0.47910619460970866,
          -0.24668742856679024,
          -0.7903391858210451,
          0.9422091231248335,
          -0.8879203356725754,
          0.3703995980895394,
          0.3648177109421073,
          0.49966832398839456,
          0.4991267231578656,
          -0.798642381532835,
          0.5034351143132543,
          0.45841130710201083,
          0.3778563711616149,
          0.5059398140873687,
          -0.6873880664937642,
          0.5072242779570904,
          0.8051149832698782,
          0.27586881456145523,
          0.896267795362425,
          0.4430801497725505,
          0.6090594842956021,
          0.5756800206144677,
          0.5084819119048491,
          0.739764711353157,
          0.7193607649122553,
          0.7585443318378017,
          0.7122960776603834,
          -0.10251272388492842,
          -0.7720530751146325,
          -0.4134166075408167,
          -0.4055459137610185,
          0.0690879506437121,
          0.0068148936053858645,
          -0.5386061133304031,
          0.9986457279547284,
          0.3607389226233639,
          0.4171746477716564,
          -0.9955627583442614,
          -0.421134762610866,
          -0.32144974604032023,
          -0.5459256919826617,
          -0.4409680660146255,
          0.4989365723047766,
          -0.4333384160982327,
          -0.41980367157688436,
          -0.4717170388428777,
          0.5147604087793604,
          0.5522908217479656,
          0.5158251844483832,
          0.46814718702980146,
          0.5330422661205368,
          0.5367034094731307,
          0.5039874459480117,
          0.49524624753383756,
          0.5000573718836863,
          0.5117239881143435,
          0.48805368162252977,
          0.5164175319234822
         ],
         "yaxis": "y"
        },
        {
         "customdata": [
          [
           0.5726248051144056,
           4.6053697264471865,
           "pi+"
          ],
          [
           0.2129181010162105,
           0.8640727638738088,
           "pi-"
          ],
          [
           0.37210980532204374,
           1.8120273768270507,
           "p"
          ],
          [
           0.38637369064130067,
           1.9363418507028511,
           "K-"
          ],
          [
           0.6636389089331408,
           7.032989592579692,
           "pi-"
          ],
          [
           0.37019675824392695,
           1.7959731210099255,
           "pi+"
          ],
          [
           0.3533336909879784,
           1.6604715438114943,
           "pi-"
          ],
          [
           0.55106999822669,
           4.165982117959156,
           "pi+"
          ],
          [
           0.47398252979032796,
           2.9105687413639245,
           "pi+"
          ],
          [
           0.7395508177443679,
           10.011624130498207,
           "pi-"
          ],
          [
           0.25015879694871246,
           1.0275135619726379,
           "pi+"
          ],
          [
           0.7146495150362859,
           8.91654328854881,
           "gamma"
          ],
          [
           0.7345806955979555,
           9.782805434689294,
           "gamma"
          ],
          [
           0.4171397061031744,
           2.2342846643206724,
           "gamma"
          ],
          [
           0.24881805917350155,
           1.0211249198155623,
           "gamma"
          ],
          [
           0.5085271909014835,
           3.417970561260029,
           "gamma"
          ],
          [
           0.5488296476682372,
           4.122790143768002,
           "gamma"
          ],
          [
           0.1784405082339702,
           0.7360297302114125,
           "gamma"
          ],
          [
           0.4188838478630774,
           2.2524864548663652,
           "p~"
          ],
          [
           0.10493543859741714,
           0.5228695177426335,
           "pi+"
          ],
          [
           0.21614787457374846,
           0.8771531275832558,
           "gamma"
          ],
          [
           0.1158909254817008,
           0.5502076894216946,
           "gamma"
          ],
          [
           0.5239539701198738,
           3.672273219326622,
           "gamma"
          ],
          [
           0.4469652566477029,
           2.5668173087574435,
           "pi+"
          ],
          [
           0.4360774636786945,
           2.440048110725631,
           "gamma"
          ],
          [
           0.2519639086816206,
           1.03617813472479,
           "gamma"
          ],
          [
           0.2663525808714443,
           1.1079082779818985,
           "gamma"
          ]
         ],
         "hovertemplate": "group=d~<br>eta=%{x}<br>phi=%{y}<br>size=%{customdata[0]}<br>pt=%{customdata[1]}<br>name=%{customdata[2]}<extra></extra>",
         "legendgroup": "d~",
         "marker": {
          "color": "#ab63fa",
          "size": [
           0.5726248051144056,
           0.2129181010162105,
           0.37210980532204374,
           0.38637369064130067,
           0.6636389089331408,
           0.37019675824392695,
           0.3533336909879784,
           0.55106999822669,
           0.47398252979032796,
           0.7395508177443679,
           0.25015879694871246,
           0.7146495150362859,
           0.7345806955979555,
           0.4171397061031744,
           0.24881805917350155,
           0.5085271909014835,
           0.5488296476682372,
           0.1784405082339702,
           0.4188838478630774,
           0.10493543859741714,
           0.21614787457374846,
           0.1158909254817008,
           0.5239539701198738,
           0.4469652566477029,
           0.4360774636786945,
           0.2519639086816206,
           0.2663525808714443
          ],
          "sizemode": "area",
          "sizeref": 0.0027500000000000003,
          "symbol": "x"
         },
         "mode": "markers",
         "name": "d~",
         "orientation": "v",
         "showlegend": true,
         "type": "scatter",
         "x": [
          -0.6533095890132042,
          -1.1262500291921065,
          -0.1386660292096985,
          -0.27825377278442387,
          -0.6115134306178535,
          -0.5675294339032516,
          -0.4724183341223156,
          -0.6132538707805893,
          -0.65604804448243,
          -0.5904883800459315,
          -0.42706003216930216,
          -0.635280822156374,
          -0.6276716854933378,
          -0.8426967523544957,
          -0.5088731198460121,
          -0.5858616974893054,
          -0.5647296069399198,
          -0.2716004112073737,
          -0.576746665224019,
          -0.7242336648021629,
          -0.526861683764917,
          -0.5679519986669797,
          -0.6098302614196353,
          -0.6846214203232692,
          -0.6331051159327574,
          -0.7030063160936321,
          -0.49175109515946647
         ],
         "xaxis": "x",
         "y": [
          0.8335391426141601,
          0.7338648323144586,
          0.4007320917978417,
          0.1979553291373865,
          0.14478773810076095,
          0.149658445721518,
          0.0629932316266989,
          0.15364967702524415,
          0.7722204076486586,
          0.8106420571264411,
          0.20359120809376696,
          0.8157725178429485,
          0.8118613968979501,
          0.8250602914003387,
          0.7810597336612866,
          0.13552085677152081,
          0.1447815444756255,
          0.8075225683033009,
          0.1866661180868027,
          0.14258261387659976,
          0.1386616361539027,
          0.1992007742476481,
          0.10593342486329664,
          0.8244840500163667,
          0.7912715294899618,
          0.7759447327971379,
          0.8343607799004154
         ],
         "yaxis": "y"
        },
        {
         "customdata": [
          [
           0.1825980801776182,
           0.7504035586610968,
           "pi+"
          ],
          [
           0.49232530603749214,
           3.169828070563244,
           "n"
          ],
          [
           0.2895202493898815,
           1.2339835388378946,
           "n~"
          ],
          [
           0.21055851181430413,
           0.8546400609698446,
           "pi-"
          ],
          [
           0.7993998836054387,
           13.225661194736233,
           "p~"
          ],
          [
           0.27915089375761964,
           1.1758723917203284,
           "K(L)0"
          ],
          [
           0.15451258167856602,
           0.6584970767933014,
           "K(L)0"
          ],
          [
           0.24220162110866092,
           0.9901744332861547,
           "pi+"
          ],
          [
           0.4212090159808707,
           2.2769826269031537,
           "pi-"
          ],
          [
           0.32016302425882254,
           1.4230391760428955,
           "pi+"
          ],
          [
           0.6021015239985481,
           5.282216688634288,
           "n"
          ],
          [
           0.29566603903274996,
           1.2697718167463874,
           "n~"
          ],
          [
           0.13377174976003825,
           0.5979312087292632,
           "pi+"
          ],
          [
           0.6442011272510365,
           6.424952081499629,
           "K(L)0"
          ],
          [
           0.2811722776498722,
           1.186981604527049,
           "pi-"
          ],
          [
           0.30634061198183316,
           1.3344167524889046,
           "gamma"
          ],
          [
           0.19675628308768106,
           0.801491004347982,
           "gamma"
          ],
          [
           0.2726465839823394,
           1.1408263918904118,
           "gamma"
          ],
          [
           0.7344910835464897,
           9.778728158679499,
           "p"
          ],
          [
           0.47562134876446893,
           2.932842634955713,
           "pi-"
          ],
          [
           0.18087725951533226,
           0.7444204875165091,
           "pi+"
          ],
          [
           0.2330020121006948,
           0.9486931632306617,
           "pi-"
          ],
          [
           0.23763265393573535,
           0.9693509498806494,
           "gamma"
          ],
          [
           0.4207747554256638,
           2.2723874493050826,
           "gamma"
          ],
          [
           0.12226248373619564,
           0.5667598703078267,
           "n"
          ],
          [
           0.35692140977889253,
           1.6884169093807546,
           "K(L)0"
          ],
          [
           0.29747766323254654,
           1.280518040658084,
           "K-"
          ],
          [
           0.6289581079399845,
           5.985142222255962,
           "pi+"
          ],
          [
           0.29148951836081033,
           1.2453398156709674,
           "gamma"
          ],
          [
           0.3109160498866982,
           1.363123567720527,
           "gamma"
          ],
          [
           0.1432445800800331,
           0.6248692414454199,
           "gamma"
          ],
          [
           0.5207068423918775,
           3.617219178490127,
           "K+"
          ],
          [
           0.3405935988067287,
           1.564921920785998,
           "pi-"
          ],
          [
           0.43997428800203875,
           2.4846838084506873,
           "pi+"
          ],
          [
           0.33593109781459213,
           1.5313449818196754,
           "pi-"
          ]
         ],
         "hovertemplate": "group=b<br>eta=%{x}<br>phi=%{y}<br>size=%{customdata[0]}<br>pt=%{customdata[1]}<br>name=%{customdata[2]}<extra></extra>",
         "legendgroup": "b",
         "marker": {
          "color": "#FFA15A",
          "size": [
           0.1825980801776182,
           0.49232530603749214,
           0.2895202493898815,
           0.21055851181430413,
           0.7993998836054387,
           0.27915089375761964,
           0.15451258167856602,
           0.24220162110866092,
           0.4212090159808707,
           0.32016302425882254,
           0.6021015239985481,
           0.29566603903274996,
           0.13377174976003825,
           0.6442011272510365,
           0.2811722776498722,
           0.30634061198183316,
           0.19675628308768106,
           0.2726465839823394,
           0.7344910835464897,
           0.47562134876446893,
           0.18087725951533226,
           0.2330020121006948,
           0.23763265393573535,
           0.4207747554256638,
           0.12226248373619564,
           0.35692140977889253,
           0.29747766323254654,
           0.6289581079399845,
           0.29148951836081033,
           0.3109160498866982,
           0.1432445800800331,
           0.5207068423918775,
           0.3405935988067287,
           0.43997428800203875,
           0.33593109781459213
          ],
          "sizemode": "area",
          "sizeref": 0.0027500000000000003,
          "symbol": "cross"
         },
         "mode": "markers",
         "name": "b",
         "orientation": "v",
         "showlegend": true,
         "type": "scatter",
         "x": [
          -0.12200942952851954,
          -0.6018038483132429,
          -0.8942139647878112,
          -0.5627865991344135,
          -0.8697361933559726,
          0.1919823167478875,
          -0.8119423446764203,
          -1.0300436398426214,
          -1.0767158982257834,
          -0.8476867792010985,
          -0.9528583239946616,
          -1.9767819955339014,
          -3.880728902642588,
          -1.0195281512761725,
          -0.3218459183314275,
          -0.39065244800217314,
          -0.18851980564628176,
          -0.753768626775971,
          -0.9809483012453731,
          -0.9994918951990085,
          -0.9443506273597461,
          -1.1439321258381578,
          -0.8054199216970422,
          -0.7547714475092713,
          -8.331164761382313,
          -0.2696432757728299,
          -0.4087878664842612,
          -0.010624564393947359,
          -0.1472598233805607,
          -0.9849956860127183,
          -1.0951988786968334,
          -0.11725402677190329,
          -0.31444214188639313,
          -0.13299102776753868,
          0.018316057378044297
         ],
         "xaxis": "x",
         "y": [
          -0.6015442701755671,
          -0.5719183080618073,
          -0.5685856139125681,
          -0.5830730687549025,
          -0.5700137611104764,
          -0.6089903278854982,
          -0.46870889881098243,
          -0.6302889768080241,
          -0.48361573462899843,
          -0.6013544802802557,
          -0.5584465621925526,
          -0.6010239865058327,
          -0.12031798982476777,
          -0.5620492160188543,
          -0.5625861845820115,
          -0.6620654144814547,
          -0.5500401112381719,
          -0.5538852584482807,
          -0.5677470561391389,
          -0.5642867492995441,
          -0.5325698689760296,
          -0.521700108208914,
          -0.6446771746347835,
          -0.62062796235702,
          0.9697044953919982,
          -0.518826583108503,
          -0.5120407803313082,
          -0.5085282188011232,
          -0.5610596887812929,
          -0.4889236841798168,
          -0.5195216179966801,
          -0.5009167358647044,
          -0.5052763110718521,
          -0.6069223443984827,
          -0.50872757870773
         ],
         "yaxis": "y"
        }
       ],
       "layout": {
        "autosize": true,
        "legend": {
         "itemsizing": "constant",
         "title": {
          "text": "group"
         },
         "tracegroupgap": 0
        },
        "margin": {
         "t": 60
        },
        "template": {
         "data": {
          "bar": [
           {
            "error_x": {
             "color": "#2a3f5f"
            },
            "error_y": {
             "color": "#2a3f5f"
            },
            "marker": {
             "line": {
              "color": "#E5ECF6",
              "width": 0.5
             },
             "pattern": {
              "fillmode": "overlay",
              "size": 10,
              "solidity": 0.2
             }
            },
            "type": "bar"
           }
          ],
          "barpolar": [
           {
            "marker": {
             "line": {
              "color": "#E5ECF6",
              "width": 0.5
             },
             "pattern": {
              "fillmode": "overlay",
              "size": 10,
              "solidity": 0.2
             }
            },
            "type": "barpolar"
           }
          ],
          "carpet": [
           {
            "aaxis": {
             "endlinecolor": "#2a3f5f",
             "gridcolor": "white",
             "linecolor": "white",
             "minorgridcolor": "white",
             "startlinecolor": "#2a3f5f"
            },
            "baxis": {
             "endlinecolor": "#2a3f5f",
             "gridcolor": "white",
             "linecolor": "white",
             "minorgridcolor": "white",
             "startlinecolor": "#2a3f5f"
            },
            "type": "carpet"
           }
          ],
          "choropleth": [
           {
            "colorbar": {
             "outlinewidth": 0,
             "ticks": ""
            },
            "type": "choropleth"
           }
          ],
          "contour": [
           {
            "colorbar": {
             "outlinewidth": 0,
             "ticks": ""
            },
            "colorscale": [
             [
              0,
              "#0d0887"
             ],
             [
              0.1111111111111111,
              "#46039f"
             ],
             [
              0.2222222222222222,
              "#7201a8"
             ],
             [
              0.3333333333333333,
              "#9c179e"
             ],
             [
              0.4444444444444444,
              "#bd3786"
             ],
             [
              0.5555555555555556,
              "#d8576b"
             ],
             [
              0.6666666666666666,
              "#ed7953"
             ],
             [
              0.7777777777777778,
              "#fb9f3a"
             ],
             [
              0.8888888888888888,
              "#fdca26"
             ],
             [
              1,
              "#f0f921"
             ]
            ],
            "type": "contour"
           }
          ],
          "contourcarpet": [
           {
            "colorbar": {
             "outlinewidth": 0,
             "ticks": ""
            },
            "type": "contourcarpet"
           }
          ],
          "heatmap": [
           {
            "colorbar": {
             "outlinewidth": 0,
             "ticks": ""
            },
            "colorscale": [
             [
              0,
              "#0d0887"
             ],
             [
              0.1111111111111111,
              "#46039f"
             ],
             [
              0.2222222222222222,
              "#7201a8"
             ],
             [
              0.3333333333333333,
              "#9c179e"
             ],
             [
              0.4444444444444444,
              "#bd3786"
             ],
             [
              0.5555555555555556,
              "#d8576b"
             ],
             [
              0.6666666666666666,
              "#ed7953"
             ],
             [
              0.7777777777777778,
              "#fb9f3a"
             ],
             [
              0.8888888888888888,
              "#fdca26"
             ],
             [
              1,
              "#f0f921"
             ]
            ],
            "type": "heatmap"
           }
          ],
          "heatmapgl": [
           {
            "colorbar": {
             "outlinewidth": 0,
             "ticks": ""
            },
            "colorscale": [
             [
              0,
              "#0d0887"
             ],
             [
              0.1111111111111111,
              "#46039f"
             ],
             [
              0.2222222222222222,
              "#7201a8"
             ],
             [
              0.3333333333333333,
              "#9c179e"
             ],
             [
              0.4444444444444444,
              "#bd3786"
             ],
             [
              0.5555555555555556,
              "#d8576b"
             ],
             [
              0.6666666666666666,
              "#ed7953"
             ],
             [
              0.7777777777777778,
              "#fb9f3a"
             ],
             [
              0.8888888888888888,
              "#fdca26"
             ],
             [
              1,
              "#f0f921"
             ]
            ],
            "type": "heatmapgl"
           }
          ],
          "histogram": [
           {
            "marker": {
             "pattern": {
              "fillmode": "overlay",
              "size": 10,
              "solidity": 0.2
             }
            },
            "type": "histogram"
           }
          ],
          "histogram2d": [
           {
            "colorbar": {
             "outlinewidth": 0,
             "ticks": ""
            },
            "colorscale": [
             [
              0,
              "#0d0887"
             ],
             [
              0.1111111111111111,
              "#46039f"
             ],
             [
              0.2222222222222222,
              "#7201a8"
             ],
             [
              0.3333333333333333,
              "#9c179e"
             ],
             [
              0.4444444444444444,
              "#bd3786"
             ],
             [
              0.5555555555555556,
              "#d8576b"
             ],
             [
              0.6666666666666666,
              "#ed7953"
             ],
             [
              0.7777777777777778,
              "#fb9f3a"
             ],
             [
              0.8888888888888888,
              "#fdca26"
             ],
             [
              1,
              "#f0f921"
             ]
            ],
            "type": "histogram2d"
           }
          ],
          "histogram2dcontour": [
           {
            "colorbar": {
             "outlinewidth": 0,
             "ticks": ""
            },
            "colorscale": [
             [
              0,
              "#0d0887"
             ],
             [
              0.1111111111111111,
              "#46039f"
             ],
             [
              0.2222222222222222,
              "#7201a8"
             ],
             [
              0.3333333333333333,
              "#9c179e"
             ],
             [
              0.4444444444444444,
              "#bd3786"
             ],
             [
              0.5555555555555556,
              "#d8576b"
             ],
             [
              0.6666666666666666,
              "#ed7953"
             ],
             [
              0.7777777777777778,
              "#fb9f3a"
             ],
             [
              0.8888888888888888,
              "#fdca26"
             ],
             [
              1,
              "#f0f921"
             ]
            ],
            "type": "histogram2dcontour"
           }
          ],
          "mesh3d": [
           {
            "colorbar": {
             "outlinewidth": 0,
             "ticks": ""
            },
            "type": "mesh3d"
           }
          ],
          "parcoords": [
           {
            "line": {
             "colorbar": {
              "outlinewidth": 0,
              "ticks": ""
             }
            },
            "type": "parcoords"
           }
          ],
          "pie": [
           {
            "automargin": true,
            "type": "pie"
           }
          ],
          "scatter": [
           {
            "fillpattern": {
             "fillmode": "overlay",
             "size": 10,
             "solidity": 0.2
            },
            "type": "scatter"
           }
          ],
          "scatter3d": [
           {
            "line": {
             "colorbar": {
              "outlinewidth": 0,
              "ticks": ""
             }
            },
            "marker": {
             "colorbar": {
              "outlinewidth": 0,
              "ticks": ""
             }
            },
            "type": "scatter3d"
           }
          ],
          "scattercarpet": [
           {
            "marker": {
             "colorbar": {
              "outlinewidth": 0,
              "ticks": ""
             }
            },
            "type": "scattercarpet"
           }
          ],
          "scattergeo": [
           {
            "marker": {
             "colorbar": {
              "outlinewidth": 0,
              "ticks": ""
             }
            },
            "type": "scattergeo"
           }
          ],
          "scattergl": [
           {
            "marker": {
             "colorbar": {
              "outlinewidth": 0,
              "ticks": ""
             }
            },
            "type": "scattergl"
           }
          ],
          "scattermapbox": [
           {
            "marker": {
             "colorbar": {
              "outlinewidth": 0,
              "ticks": ""
             }
            },
            "type": "scattermapbox"
           }
          ],
          "scatterpolar": [
           {
            "marker": {
             "colorbar": {
              "outlinewidth": 0,
              "ticks": ""
             }
            },
            "type": "scatterpolar"
           }
          ],
          "scatterpolargl": [
           {
            "marker": {
             "colorbar": {
              "outlinewidth": 0,
              "ticks": ""
             }
            },
            "type": "scatterpolargl"
           }
          ],
          "scatterternary": [
           {
            "marker": {
             "colorbar": {
              "outlinewidth": 0,
              "ticks": ""
             }
            },
            "type": "scatterternary"
           }
          ],
          "surface": [
           {
            "colorbar": {
             "outlinewidth": 0,
             "ticks": ""
            },
            "colorscale": [
             [
              0,
              "#0d0887"
             ],
             [
              0.1111111111111111,
              "#46039f"
             ],
             [
              0.2222222222222222,
              "#7201a8"
             ],
             [
              0.3333333333333333,
              "#9c179e"
             ],
             [
              0.4444444444444444,
              "#bd3786"
             ],
             [
              0.5555555555555556,
              "#d8576b"
             ],
             [
              0.6666666666666666,
              "#ed7953"
             ],
             [
              0.7777777777777778,
              "#fb9f3a"
             ],
             [
              0.8888888888888888,
              "#fdca26"
             ],
             [
              1,
              "#f0f921"
             ]
            ],
            "type": "surface"
           }
          ],
          "table": [
           {
            "cells": {
             "fill": {
              "color": "#EBF0F8"
             },
             "line": {
              "color": "white"
             }
            },
            "header": {
             "fill": {
              "color": "#C8D4E3"
             },
             "line": {
              "color": "white"
             }
            },
            "type": "table"
           }
          ]
         },
         "layout": {
          "annotationdefaults": {
           "arrowcolor": "#2a3f5f",
           "arrowhead": 0,
           "arrowwidth": 1
          },
          "autotypenumbers": "strict",
          "coloraxis": {
           "colorbar": {
            "outlinewidth": 0,
            "ticks": ""
           }
          },
          "colorscale": {
           "diverging": [
            [
             0,
             "#8e0152"
            ],
            [
             0.1,
             "#c51b7d"
            ],
            [
             0.2,
             "#de77ae"
            ],
            [
             0.3,
             "#f1b6da"
            ],
            [
             0.4,
             "#fde0ef"
            ],
            [
             0.5,
             "#f7f7f7"
            ],
            [
             0.6,
             "#e6f5d0"
            ],
            [
             0.7,
             "#b8e186"
            ],
            [
             0.8,
             "#7fbc41"
            ],
            [
             0.9,
             "#4d9221"
            ],
            [
             1,
             "#276419"
            ]
           ],
           "sequential": [
            [
             0,
             "#0d0887"
            ],
            [
             0.1111111111111111,
             "#46039f"
            ],
            [
             0.2222222222222222,
             "#7201a8"
            ],
            [
             0.3333333333333333,
             "#9c179e"
            ],
            [
             0.4444444444444444,
             "#bd3786"
            ],
            [
             0.5555555555555556,
             "#d8576b"
            ],
            [
             0.6666666666666666,
             "#ed7953"
            ],
            [
             0.7777777777777778,
             "#fb9f3a"
            ],
            [
             0.8888888888888888,
             "#fdca26"
            ],
            [
             1,
             "#f0f921"
            ]
           ],
           "sequentialminus": [
            [
             0,
             "#0d0887"
            ],
            [
             0.1111111111111111,
             "#46039f"
            ],
            [
             0.2222222222222222,
             "#7201a8"
            ],
            [
             0.3333333333333333,
             "#9c179e"
            ],
            [
             0.4444444444444444,
             "#bd3786"
            ],
            [
             0.5555555555555556,
             "#d8576b"
            ],
            [
             0.6666666666666666,
             "#ed7953"
            ],
            [
             0.7777777777777778,
             "#fb9f3a"
            ],
            [
             0.8888888888888888,
             "#fdca26"
            ],
            [
             1,
             "#f0f921"
            ]
           ]
          },
          "colorway": [
           "#636efa",
           "#EF553B",
           "#00cc96",
           "#ab63fa",
           "#FFA15A",
           "#19d3f3",
           "#FF6692",
           "#B6E880",
           "#FF97FF",
           "#FECB52"
          ],
          "font": {
           "color": "#2a3f5f"
          },
          "geo": {
           "bgcolor": "white",
           "lakecolor": "white",
           "landcolor": "#E5ECF6",
           "showlakes": true,
           "showland": true,
           "subunitcolor": "white"
          },
          "hoverlabel": {
           "align": "left"
          },
          "hovermode": "closest",
          "mapbox": {
           "style": "light"
          },
          "paper_bgcolor": "white",
          "plot_bgcolor": "#E5ECF6",
          "polar": {
           "angularaxis": {
            "gridcolor": "white",
            "linecolor": "white",
            "ticks": ""
           },
           "bgcolor": "#E5ECF6",
           "radialaxis": {
            "gridcolor": "white",
            "linecolor": "white",
            "ticks": ""
           }
          },
          "scene": {
           "xaxis": {
            "backgroundcolor": "#E5ECF6",
            "gridcolor": "white",
            "gridwidth": 2,
            "linecolor": "white",
            "showbackground": true,
            "ticks": "",
            "zerolinecolor": "white"
           },
           "yaxis": {
            "backgroundcolor": "#E5ECF6",
            "gridcolor": "white",
            "gridwidth": 2,
            "linecolor": "white",
            "showbackground": true,
            "ticks": "",
            "zerolinecolor": "white"
           },
           "zaxis": {
            "backgroundcolor": "#E5ECF6",
            "gridcolor": "white",
            "gridwidth": 2,
            "linecolor": "white",
            "showbackground": true,
            "ticks": "",
            "zerolinecolor": "white"
           }
          },
          "shapedefaults": {
           "line": {
            "color": "#2a3f5f"
           }
          },
          "ternary": {
           "aaxis": {
            "gridcolor": "white",
            "linecolor": "white",
            "ticks": ""
           },
           "baxis": {
            "gridcolor": "white",
            "linecolor": "white",
            "ticks": ""
           },
           "bgcolor": "#E5ECF6",
           "caxis": {
            "gridcolor": "white",
            "linecolor": "white",
            "ticks": ""
           }
          },
          "title": {
           "x": 0.05
          },
          "xaxis": {
           "automargin": true,
           "gridcolor": "white",
           "linecolor": "white",
           "ticks": "",
           "title": {
            "standoff": 15
           },
           "zerolinecolor": "white",
           "zerolinewidth": 2
          },
          "yaxis": {
           "automargin": true,
           "gridcolor": "white",
           "linecolor": "white",
           "ticks": "",
           "title": {
            "standoff": 15
           },
           "zerolinecolor": "white",
           "zerolinewidth": 2
          }
         }
        },
        "xaxis": {
         "anchor": "y",
         "autorange": true,
         "domain": [
          0,
          1
         ],
         "range": [
          -9.301857156225152,
          7.784637621050124
         ],
         "title": {
          "text": "$\\eta\\;\\; (\\text{rad})$"
         },
         "type": "linear"
        },
        "yaxis": {
         "anchor": "x",
         "autorange": true,
         "domain": [
          0,
          1
         ],
         "range": [
          -1.2085420279391024,
          1.2324983611901819
         ],
         "title": {
          "text": "$\\phi\\;\\; (\\pi \\text{ rad})$"
         },
         "type": "linear"
        }
       }
      },
      "image/png": "[encoded data removed]",
      "text/html": [
       "<div>                            <div id=\"262b8b9b-bdae-4221-aacd-dbe7a32b240a\" class=\"plotly-graph-div\" style=\"height:525px; width:100%;\"></div>            <script type=\"text/javascript\">                require([\"plotly\"], function(Plotly) {                    window.PLOTLYENV=window.PLOTLYENV || {};                                    if (document.getElementById(\"262b8b9b-bdae-4221-aacd-dbe7a32b240a\")) {                    Plotly.newPlot(                        \"262b8b9b-bdae-4221-aacd-dbe7a32b240a\",                        [{\"customdata\":[[1.1,53.54497844452425,\"e-\"]],\"hovertemplate\":\"group=e-\\u003cbr\\u003eeta=%{x}\\u003cbr\\u003ephi=%{y}\\u003cbr\\u003esize=%{customdata[0]}\\u003cbr\\u003ept=%{customdata[1]}\\u003cbr\\u003ename=%{customdata[2]}\\u003cextra\\u003e\\u003c\\u002fextra\\u003e\",\"legendgroup\":\"e-\",\"marker\":{\"color\":\"#636efa\",\"size\":[1.1],\"sizemode\":\"area\",\"sizeref\":0.0027500000000000003,\"symbol\":\"circle\"},\"mode\":\"markers\",\"name\":\"e-\",\"orientation\":\"v\",\"showlegend\":true,\"x\":[0.4862523018363326],\"xaxis\":\"x\",\"y\":[0.10770519028130712],\"yaxis\":\"y\",\"type\":\"scatter\"},{\"customdata\":[[0.979190721297493,30.52447396418846,\"nu(e)~\"]],\"hovertemplate\":\"group=nu(e)~\\u003cbr\\u003eeta=%{x}\\u003cbr\\u003ephi=%{y}\\u003cbr\\u003esize=%{customdata[0]}\\u003cbr\\u003ept=%{customdata[1]}\\u003cbr\\u003ename=%{customdata[2]}\\u003cextra\\u003e\\u003c\\u002fextra\\u003e\",\"legendgroup\":\"nu(e)~\",\"marker\":{\"color\":\"#EF553B\",\"size\":[0.979190721297493],\"sizemode\":\"area\",\"sizeref\":0.0027500000000000003,\"symbol\":\"diamond\"},\"mode\":\"markers\",\"name\":\"nu(e)~\",\"orientation\":\"v\",\"showlegend\":true,\"x\":[0.9961828648948144],\"xaxis\":\"x\",\"y\":[-0.7664954271655119],\"yaxis\":\"y\",\"type\":\"scatter\"},{\"customdata\":[[0.3378343613192196,1.5449634026649237,\"pi-\"],[0.6917391245975478,8.015133149196389,\"pi+\"],[0.7060559828921186,8.567123739037998,\"pi+\"],[0.16531090224393064,0.692420090396582,\"pi-\"],[0.16556934115876998,0.6932530413915726,\"pi+\"],[0.10906319068292826,0.5330066249035759,\"pi+\"],[0.19581639401490178,0.797994315681643,\"K-\"],[0.34894048180841253,1.6268812440583773,\"pi+\"],[0.19238370813096056,0.7853527242837635,\"p\"],[0.4439526085366774,2.5310954134038006,\"pi-\"],[0.47171191944510227,2.8799871815145375,\"pi+\"],[0.12076926632849243,0.5628366252794906,\"pi-\"],[0.6712748265554715,7.28730240739585,\"K-\"],[0.5268772556655357,3.7225529933592494,\"K+\"],[0.19717280573670254,0.803045497760887,\"K-\"],[0.10981552148609629,0.5348752941251964,\"K(L)0\"],[0.24733593768436946,1.0141087971837461,\"pi+\"],[0.556207169135805,4.2667383339730955,\"pi+\"],[0.12595263093172188,0.5765729766382633,\"pi+\"],[0.30339384505698386,1.316249268108538,\"K(L)0\"],[0.433854341933422,2.414943777935532,\"gamma\"],[0.31652057905445874,1.3991298979371902,\"n~\"],[0.14986667944533444,0.6444181317231767,\"gamma\"],[0.22009158482060542,0.893393688761123,\"pi+\"],[0.14628879394505961,0.6337812139466381,\"gamma\"],[0.3027862426113971,1.3125341311697174,\"gamma\"],[0.46618843454433767,2.8069293245433076,\"gamma\"],[0.25978267208690553,1.0745599347820656,\"pi+\"],[0.3648455572224145,1.7518173370382815,\"pi-\"],[0.1,0.5110016175418509,\"pi-\"],[0.10815308811784045,0.5307547994405984,\"gamma\"],[0.2524350629208374,1.038451683855542,\"gamma\"],[0.6097834814728995,5.474393919166868,\"gamma\"],[0.21142548247280976,0.8580938396441056,\"pi+\"],[0.5250185907534098,3.6905053123246594,\"pi-\"],[0.10088472664995585,0.5131090622555152,\"gamma\"],[0.4467211177214492,2.563903800920634,\"gamma\"],[0.14754561129247734,0.6374975289039543,\"gamma\"],[0.21810334735129597,0.8851687047572717,\"gamma\"],[0.2954855325281448,1.2687060381144002,\"pi-\"],[0.5206768936911136,3.6167152680532304,\"K(L)0\"],[0.362176592209718,1.7302016405186782,\"pi+\"],[0.13547611177595967,0.6026907671158835,\"K+\"],[0.16326028475491045,0.685846307899228,\"pi-\"],[0.5690696055386252,4.529830427053789,\"pi+\"],[0.3359283734479439,1.5313255744518492,\"pi+\"],[0.3527246273401847,1.6557735784361576,\"pi-\"],[0.19898383479317877,0.8098395214437735,\"gamma\"],[0.1647035497692877,0.6904665252947768,\"gamma\"],[0.3802341678002137,1.8818212818829008,\"gamma\"],[0.5083000801435641,3.414361390555624,\"e+\"],[0.21795445384849,0.8845558152353528,\"pi+\"],[0.5580322714931752,4.303118020997269,\"pi-\"],[0.6543707056950244,6.73620749787057,\"pi+\"],[0.4254773693699352,2.322646178216987,\"pi-\"],[0.5728784228362107,4.610806373129556,\"K-\"],[0.6772818653412629,7.493811963247801,\"K(L)0\"],[0.399683656785804,2.0600231920458105,\"gamma\"],[0.5151183985031164,3.524394471538255,\"K+\"],[0.3579719029611964,1.6966880482302207,\"pi-\"]],\"hovertemplate\":\"group=background\\u003cbr\\u003eeta=%{x}\\u003cbr\\u003ephi=%{y}\\u003cbr\\u003esize=%{customdata[0]}\\u003cbr\\u003ept=%{customdata[1]}\\u003cbr\\u003ename=%{customdata[2]}\\u003cextra\\u003e\\u003c\\u002fextra\\u003e\",\"legendgroup\":\"background\",\"marker\":{\"color\":\"#00cc96\",\"size\":[0.3378343613192196,0.6917391245975478,0.7060559828921186,0.16531090224393064,0.16556934115876998,0.10906319068292826,0.19581639401490178,0.34894048180841253,0.19238370813096056,0.4439526085366774,0.47171191944510227,0.12076926632849243,0.6712748265554715,0.5268772556655357,0.19717280573670254,0.10981552148609629,0.24733593768436946,0.556207169135805,0.12595263093172188,0.30339384505698386,0.433854341933422,0.31652057905445874,0.14986667944533444,0.22009158482060542,0.14628879394505961,0.3027862426113971,0.46618843454433767,0.25978267208690553,0.3648455572224145,0.1,0.10815308811784045,0.2524350629208374,0.6097834814728995,0.21142548247280976,0.5250185907534098,0.10088472664995585,0.4467211177214492,0.14754561129247734,0.21810334735129597,0.2954855325281448,0.5206768936911136,0.362176592209718,0.13547611177595967,0.16326028475491045,0.5690696055386252,0.3359283734479439,0.3527246273401847,0.19898383479317877,0.1647035497692877,0.3802341678002137,0.5083000801435641,0.21795445384849,0.5580322714931752,0.6543707056950244,0.4254773693699352,0.5728784228362107,0.6772818653412629,0.399683656785804,0.5151183985031164,0.3579719029611964],\"sizemode\":\"area\",\"sizeref\":0.0027500000000000003,\"symbol\":\"square\"},\"mode\":\"markers\",\"name\":\"background\",\"orientation\":\"v\",\"showlegend\":true,\"x\":[4.913106901507506,5.042478416175923,4.984915629540886,2.539632679321197,4.145260136764523,-5.619305459513291,-5.4361462431755605,-4.345847317603327,-4.304604739691842,2.2902767948353127,2.875908550328268,1.7280995842847793,2.8937262547975893,2.7981963561824768,-3.9052268903555447,-3.936934970676424,6.764800956727413,2.6767317709977263,3.414124495333823,2.317281898701054,-5.61790366366139,-4.001618565978518,4.61278115629391,2.8072635854907073,2.5538757759235806,-3.3928849570531976,-3.4218292365407263,-3.356480206983469,-3.587464209441854,0.4943505127686822,1.8581645931802093,4.93008736846823,4.981008732014593,1.3326962736164372,1.3196181793590631,4.231754715895324,-5.421371448176401,-3.6092725195827913,-3.5786935403501876,-5.510874429786395,4.805839120572989,4.918991965960353,3.8001725369340535,4.52331563422516,2.5812803256558867,5.003756903500252,4.749722017113706,4.728613650565378,2.314193327160967,2.3258850968150298,2.4856974317839766,2.3844878585827143,2.52678307073607,2.474373378053454,2.3529724223416064,2.5902857911953667,2.4990016200774874,2.435205715242989,2.5747461492523707,2.539174047197274],\"xaxis\":\"x\",\"y\":[-0.2871234686654199,-0.4458362958767901,-0.47910619460970866,-0.24668742856679024,-0.7903391858210451,0.9422091231248335,-0.8879203356725754,0.3703995980895394,0.3648177109421073,0.49966832398839456,0.4991267231578656,-0.798642381532835,0.5034351143132543,0.45841130710201083,0.3778563711616149,0.5059398140873687,-0.6873880664937642,0.5072242779570904,0.8051149832698782,0.27586881456145523,0.896267795362425,0.4430801497725505,0.6090594842956021,0.5756800206144677,0.5084819119048491,0.739764711353157,0.7193607649122553,0.7585443318378017,0.7122960776603834,-0.10251272388492842,-0.7720530751146325,-0.4134166075408167,-0.4055459137610185,0.0690879506437121,0.0068148936053858645,-0.5386061133304031,0.9986457279547284,0.3607389226233639,0.4171746477716564,-0.9955627583442614,-0.421134762610866,-0.32144974604032023,-0.5459256919826617,-0.4409680660146255,0.4989365723047766,-0.4333384160982327,-0.41980367157688436,-0.4717170388428777,0.5147604087793604,0.5522908217479656,0.5158251844483832,0.46814718702980146,0.5330422661205368,0.5367034094731307,0.5039874459480117,0.49524624753383756,0.5000573718836863,0.5117239881143435,0.48805368162252977,0.5164175319234822],\"yaxis\":\"y\",\"type\":\"scatter\"},{\"customdata\":[[0.5726248051144056,4.6053697264471865,\"pi+\"],[0.2129181010162105,0.8640727638738088,\"pi-\"],[0.37210980532204374,1.8120273768270507,\"p\"],[0.38637369064130067,1.9363418507028511,\"K-\"],[0.6636389089331408,7.032989592579692,\"pi-\"],[0.37019675824392695,1.7959731210099255,\"pi+\"],[0.3533336909879784,1.6604715438114943,\"pi-\"],[0.55106999822669,4.165982117959156,\"pi+\"],[0.47398252979032796,2.9105687413639245,\"pi+\"],[0.7395508177443679,10.011624130498207,\"pi-\"],[0.25015879694871246,1.0275135619726379,\"pi+\"],[0.7146495150362859,8.91654328854881,\"gamma\"],[0.7345806955979555,9.782805434689294,\"gamma\"],[0.4171397061031744,2.2342846643206724,\"gamma\"],[0.24881805917350155,1.0211249198155623,\"gamma\"],[0.5085271909014835,3.417970561260029,\"gamma\"],[0.5488296476682372,4.122790143768002,\"gamma\"],[0.1784405082339702,0.7360297302114125,\"gamma\"],[0.4188838478630774,2.2524864548663652,\"p~\"],[0.10493543859741714,0.5228695177426335,\"pi+\"],[0.21614787457374846,0.8771531275832558,\"gamma\"],[0.1158909254817008,0.5502076894216946,\"gamma\"],[0.5239539701198738,3.672273219326622,\"gamma\"],[0.4469652566477029,2.5668173087574435,\"pi+\"],[0.4360774636786945,2.440048110725631,\"gamma\"],[0.2519639086816206,1.03617813472479,\"gamma\"],[0.2663525808714443,1.1079082779818985,\"gamma\"]],\"hovertemplate\":\"group=d~\\u003cbr\\u003eeta=%{x}\\u003cbr\\u003ephi=%{y}\\u003cbr\\u003esize=%{customdata[0]}\\u003cbr\\u003ept=%{customdata[1]}\\u003cbr\\u003ename=%{customdata[2]}\\u003cextra\\u003e\\u003c\\u002fextra\\u003e\",\"legendgroup\":\"d~\",\"marker\":{\"color\":\"#ab63fa\",\"size\":[0.5726248051144056,0.2129181010162105,0.37210980532204374,0.38637369064130067,0.6636389089331408,0.37019675824392695,0.3533336909879784,0.55106999822669,0.47398252979032796,0.7395508177443679,0.25015879694871246,0.7146495150362859,0.7345806955979555,0.4171397061031744,0.24881805917350155,0.5085271909014835,0.5488296476682372,0.1784405082339702,0.4188838478630774,0.10493543859741714,0.21614787457374846,0.1158909254817008,0.5239539701198738,0.4469652566477029,0.4360774636786945,0.2519639086816206,0.2663525808714443],\"sizemode\":\"area\",\"sizeref\":0.0027500000000000003,\"symbol\":\"x\"},\"mode\":\"markers\",\"name\":\"d~\",\"orientation\":\"v\",\"showlegend\":true,\"x\":[-0.6533095890132042,-1.1262500291921065,-0.1386660292096985,-0.27825377278442387,-0.6115134306178535,-0.5675294339032516,-0.4724183341223156,-0.6132538707805893,-0.65604804448243,-0.5904883800459315,-0.42706003216930216,-0.635280822156374,-0.6276716854933378,-0.8426967523544957,-0.5088731198460121,-0.5858616974893054,-0.5647296069399198,-0.2716004112073737,-0.576746665224019,-0.7242336648021629,-0.526861683764917,-0.5679519986669797,-0.6098302614196353,-0.6846214203232692,-0.6331051159327574,-0.7030063160936321,-0.49175109515946647],\"xaxis\":\"x\",\"y\":[0.8335391426141601,0.7338648323144586,0.4007320917978417,0.1979553291373865,0.14478773810076095,0.149658445721518,0.0629932316266989,0.15364967702524415,0.7722204076486586,0.8106420571264411,0.20359120809376696,0.8157725178429485,0.8118613968979501,0.8250602914003387,0.7810597336612866,0.13552085677152081,0.1447815444756255,0.8075225683033009,0.1866661180868027,0.14258261387659976,0.1386616361539027,0.1992007742476481,0.10593342486329664,0.8244840500163667,0.7912715294899618,0.7759447327971379,0.8343607799004154],\"yaxis\":\"y\",\"type\":\"scatter\"},{\"customdata\":[[0.1825980801776182,0.7504035586610968,\"pi+\"],[0.49232530603749214,3.169828070563244,\"n\"],[0.2895202493898815,1.2339835388378946,\"n~\"],[0.21055851181430413,0.8546400609698446,\"pi-\"],[0.7993998836054387,13.225661194736233,\"p~\"],[0.27915089375761964,1.1758723917203284,\"K(L)0\"],[0.15451258167856602,0.6584970767933014,\"K(L)0\"],[0.24220162110866092,0.9901744332861547,\"pi+\"],[0.4212090159808707,2.2769826269031537,\"pi-\"],[0.32016302425882254,1.4230391760428955,\"pi+\"],[0.6021015239985481,5.282216688634288,\"n\"],[0.29566603903274996,1.2697718167463874,\"n~\"],[0.13377174976003825,0.5979312087292632,\"pi+\"],[0.6442011272510365,6.424952081499629,\"K(L)0\"],[0.2811722776498722,1.186981604527049,\"pi-\"],[0.30634061198183316,1.3344167524889046,\"gamma\"],[0.19675628308768106,0.801491004347982,\"gamma\"],[0.2726465839823394,1.1408263918904118,\"gamma\"],[0.7344910835464897,9.778728158679499,\"p\"],[0.47562134876446893,2.932842634955713,\"pi-\"],[0.18087725951533226,0.7444204875165091,\"pi+\"],[0.2330020121006948,0.9486931632306617,\"pi-\"],[0.23763265393573535,0.9693509498806494,\"gamma\"],[0.4207747554256638,2.2723874493050826,\"gamma\"],[0.12226248373619564,0.5667598703078267,\"n\"],[0.35692140977889253,1.6884169093807546,\"K(L)0\"],[0.29747766323254654,1.280518040658084,\"K-\"],[0.6289581079399845,5.985142222255962,\"pi+\"],[0.29148951836081033,1.2453398156709674,\"gamma\"],[0.3109160498866982,1.363123567720527,\"gamma\"],[0.1432445800800331,0.6248692414454199,\"gamma\"],[0.5207068423918775,3.617219178490127,\"K+\"],[0.3405935988067287,1.564921920785998,\"pi-\"],[0.43997428800203875,2.4846838084506873,\"pi+\"],[0.33593109781459213,1.5313449818196754,\"pi-\"]],\"hovertemplate\":\"group=b\\u003cbr\\u003eeta=%{x}\\u003cbr\\u003ephi=%{y}\\u003cbr\\u003esize=%{customdata[0]}\\u003cbr\\u003ept=%{customdata[1]}\\u003cbr\\u003ename=%{customdata[2]}\\u003cextra\\u003e\\u003c\\u002fextra\\u003e\",\"legendgroup\":\"b\",\"marker\":{\"color\":\"#FFA15A\",\"size\":[0.1825980801776182,0.49232530603749214,0.2895202493898815,0.21055851181430413,0.7993998836054387,0.27915089375761964,0.15451258167856602,0.24220162110866092,0.4212090159808707,0.32016302425882254,0.6021015239985481,0.29566603903274996,0.13377174976003825,0.6442011272510365,0.2811722776498722,0.30634061198183316,0.19675628308768106,0.2726465839823394,0.7344910835464897,0.47562134876446893,0.18087725951533226,0.2330020121006948,0.23763265393573535,0.4207747554256638,0.12226248373619564,0.35692140977889253,0.29747766323254654,0.6289581079399845,0.29148951836081033,0.3109160498866982,0.1432445800800331,0.5207068423918775,0.3405935988067287,0.43997428800203875,0.33593109781459213],\"sizemode\":\"area\",\"sizeref\":0.0027500000000000003,\"symbol\":\"cross\"},\"mode\":\"markers\",\"name\":\"b\",\"orientation\":\"v\",\"showlegend\":true,\"x\":[-0.12200942952851954,-0.6018038483132429,-0.8942139647878112,-0.5627865991344135,-0.8697361933559726,0.1919823167478875,-0.8119423446764203,-1.0300436398426214,-1.0767158982257834,-0.8476867792010985,-0.9528583239946616,-1.9767819955339014,-3.880728902642588,-1.0195281512761725,-0.3218459183314275,-0.39065244800217314,-0.18851980564628176,-0.753768626775971,-0.9809483012453731,-0.9994918951990085,-0.9443506273597461,-1.1439321258381578,-0.8054199216970422,-0.7547714475092713,-8.331164761382313,-0.2696432757728299,-0.4087878664842612,-0.010624564393947359,-0.1472598233805607,-0.9849956860127183,-1.0951988786968334,-0.11725402677190329,-0.31444214188639313,-0.13299102776753868,0.018316057378044297],\"xaxis\":\"x\",\"y\":[-0.6015442701755671,-0.5719183080618073,-0.5685856139125681,-0.5830730687549025,-0.5700137611104764,-0.6089903278854982,-0.46870889881098243,-0.6302889768080241,-0.48361573462899843,-0.6013544802802557,-0.5584465621925526,-0.6010239865058327,-0.12031798982476777,-0.5620492160188543,-0.5625861845820115,-0.6620654144814547,-0.5500401112381719,-0.5538852584482807,-0.5677470561391389,-0.5642867492995441,-0.5325698689760296,-0.521700108208914,-0.6446771746347835,-0.62062796235702,0.9697044953919982,-0.518826583108503,-0.5120407803313082,-0.5085282188011232,-0.5610596887812929,-0.4889236841798168,-0.5195216179966801,-0.5009167358647044,-0.5052763110718521,-0.6069223443984827,-0.50872757870773],\"yaxis\":\"y\",\"type\":\"scatter\"}],                        {\"template\":{\"data\":{\"histogram2dcontour\":[{\"type\":\"histogram2dcontour\",\"colorbar\":{\"outlinewidth\":0,\"ticks\":\"\"},\"colorscale\":[[0.0,\"#0d0887\"],[0.1111111111111111,\"#46039f\"],[0.2222222222222222,\"#7201a8\"],[0.3333333333333333,\"#9c179e\"],[0.4444444444444444,\"#bd3786\"],[0.5555555555555556,\"#d8576b\"],[0.6666666666666666,\"#ed7953\"],[0.7777777777777778,\"#fb9f3a\"],[0.8888888888888888,\"#fdca26\"],[1.0,\"#f0f921\"]]}],\"choropleth\":[{\"type\":\"choropleth\",\"colorbar\":{\"outlinewidth\":0,\"ticks\":\"\"}}],\"histogram2d\":[{\"type\":\"histogram2d\",\"colorbar\":{\"outlinewidth\":0,\"ticks\":\"\"},\"colorscale\":[[0.0,\"#0d0887\"],[0.1111111111111111,\"#46039f\"],[0.2222222222222222,\"#7201a8\"],[0.3333333333333333,\"#9c179e\"],[0.4444444444444444,\"#bd3786\"],[0.5555555555555556,\"#d8576b\"],[0.6666666666666666,\"#ed7953\"],[0.7777777777777778,\"#fb9f3a\"],[0.8888888888888888,\"#fdca26\"],[1.0,\"#f0f921\"]]}],\"heatmap\":[{\"type\":\"heatmap\",\"colorbar\":{\"outlinewidth\":0,\"ticks\":\"\"},\"colorscale\":[[0.0,\"#0d0887\"],[0.1111111111111111,\"#46039f\"],[0.2222222222222222,\"#7201a8\"],[0.3333333333333333,\"#9c179e\"],[0.4444444444444444,\"#bd3786\"],[0.5555555555555556,\"#d8576b\"],[0.6666666666666666,\"#ed7953\"],[0.7777777777777778,\"#fb9f3a\"],[0.8888888888888888,\"#fdca26\"],[1.0,\"#f0f921\"]]}],\"heatmapgl\":[{\"type\":\"heatmapgl\",\"colorbar\":{\"outlinewidth\":0,\"ticks\":\"\"},\"colorscale\":[[0.0,\"#0d0887\"],[0.1111111111111111,\"#46039f\"],[0.2222222222222222,\"#7201a8\"],[0.3333333333333333,\"#9c179e\"],[0.4444444444444444,\"#bd3786\"],[0.5555555555555556,\"#d8576b\"],[0.6666666666666666,\"#ed7953\"],[0.7777777777777778,\"#fb9f3a\"],[0.8888888888888888,\"#fdca26\"],[1.0,\"#f0f921\"]]}],\"contourcarpet\":[{\"type\":\"contourcarpet\",\"colorbar\":{\"outlinewidth\":0,\"ticks\":\"\"}}],\"contour\":[{\"type\":\"contour\",\"colorbar\":{\"outlinewidth\":0,\"ticks\":\"\"},\"colorscale\":[[0.0,\"#0d0887\"],[0.1111111111111111,\"#46039f\"],[0.2222222222222222,\"#7201a8\"],[0.3333333333333333,\"#9c179e\"],[0.4444444444444444,\"#bd3786\"],[0.5555555555555556,\"#d8576b\"],[0.6666666666666666,\"#ed7953\"],[0.7777777777777778,\"#fb9f3a\"],[0.8888888888888888,\"#fdca26\"],[1.0,\"#f0f921\"]]}],\"surface\":[{\"type\":\"surface\",\"colorbar\":{\"outlinewidth\":0,\"ticks\":\"\"},\"colorscale\":[[0.0,\"#0d0887\"],[0.1111111111111111,\"#46039f\"],[0.2222222222222222,\"#7201a8\"],[0.3333333333333333,\"#9c179e\"],[0.4444444444444444,\"#bd3786\"],[0.5555555555555556,\"#d8576b\"],[0.6666666666666666,\"#ed7953\"],[0.7777777777777778,\"#fb9f3a\"],[0.8888888888888888,\"#fdca26\"],[1.0,\"#f0f921\"]]}],\"mesh3d\":[{\"type\":\"mesh3d\",\"colorbar\":{\"outlinewidth\":0,\"ticks\":\"\"}}],\"scatter\":[{\"fillpattern\":{\"fillmode\":\"overlay\",\"size\":10,\"solidity\":0.2},\"type\":\"scatter\"}],\"parcoords\":[{\"type\":\"parcoords\",\"line\":{\"colorbar\":{\"outlinewidth\":0,\"ticks\":\"\"}}}],\"scatterpolargl\":[{\"type\":\"scatterpolargl\",\"marker\":{\"colorbar\":{\"outlinewidth\":0,\"ticks\":\"\"}}}],\"bar\":[{\"error_x\":{\"color\":\"#2a3f5f\"},\"error_y\":{\"color\":\"#2a3f5f\"},\"marker\":{\"line\":{\"color\":\"#E5ECF6\",\"width\":0.5},\"pattern\":{\"fillmode\":\"overlay\",\"size\":10,\"solidity\":0.2}},\"type\":\"bar\"}],\"scattergeo\":[{\"type\":\"scattergeo\",\"marker\":{\"colorbar\":{\"outlinewidth\":0,\"ticks\":\"\"}}}],\"scatterpolar\":[{\"type\":\"scatterpolar\",\"marker\":{\"colorbar\":{\"outlinewidth\":0,\"ticks\":\"\"}}}],\"histogram\":[{\"marker\":{\"pattern\":{\"fillmode\":\"overlay\",\"size\":10,\"solidity\":0.2}},\"type\":\"histogram\"}],\"scattergl\":[{\"type\":\"scattergl\",\"marker\":{\"colorbar\":{\"outlinewidth\":0,\"ticks\":\"\"}}}],\"scatter3d\":[{\"type\":\"scatter3d\",\"line\":{\"colorbar\":{\"outlinewidth\":0,\"ticks\":\"\"}},\"marker\":{\"colorbar\":{\"outlinewidth\":0,\"ticks\":\"\"}}}],\"scattermapbox\":[{\"type\":\"scattermapbox\",\"marker\":{\"colorbar\":{\"outlinewidth\":0,\"ticks\":\"\"}}}],\"scatterternary\":[{\"type\":\"scatterternary\",\"marker\":{\"colorbar\":{\"outlinewidth\":0,\"ticks\":\"\"}}}],\"scattercarpet\":[{\"type\":\"scattercarpet\",\"marker\":{\"colorbar\":{\"outlinewidth\":0,\"ticks\":\"\"}}}],\"carpet\":[{\"aaxis\":{\"endlinecolor\":\"#2a3f5f\",\"gridcolor\":\"white\",\"linecolor\":\"white\",\"minorgridcolor\":\"white\",\"startlinecolor\":\"#2a3f5f\"},\"baxis\":{\"endlinecolor\":\"#2a3f5f\",\"gridcolor\":\"white\",\"linecolor\":\"white\",\"minorgridcolor\":\"white\",\"startlinecolor\":\"#2a3f5f\"},\"type\":\"carpet\"}],\"table\":[{\"cells\":{\"fill\":{\"color\":\"#EBF0F8\"},\"line\":{\"color\":\"white\"}},\"header\":{\"fill\":{\"color\":\"#C8D4E3\"},\"line\":{\"color\":\"white\"}},\"type\":\"table\"}],\"barpolar\":[{\"marker\":{\"line\":{\"color\":\"#E5ECF6\",\"width\":0.5},\"pattern\":{\"fillmode\":\"overlay\",\"size\":10,\"solidity\":0.2}},\"type\":\"barpolar\"}],\"pie\":[{\"automargin\":true,\"type\":\"pie\"}]},\"layout\":{\"autotypenumbers\":\"strict\",\"colorway\":[\"#636efa\",\"#EF553B\",\"#00cc96\",\"#ab63fa\",\"#FFA15A\",\"#19d3f3\",\"#FF6692\",\"#B6E880\",\"#FF97FF\",\"#FECB52\"],\"font\":{\"color\":\"#2a3f5f\"},\"hovermode\":\"closest\",\"hoverlabel\":{\"align\":\"left\"},\"paper_bgcolor\":\"white\",\"plot_bgcolor\":\"#E5ECF6\",\"polar\":{\"bgcolor\":\"#E5ECF6\",\"angularaxis\":{\"gridcolor\":\"white\",\"linecolor\":\"white\",\"ticks\":\"\"},\"radialaxis\":{\"gridcolor\":\"white\",\"linecolor\":\"white\",\"ticks\":\"\"}},\"ternary\":{\"bgcolor\":\"#E5ECF6\",\"aaxis\":{\"gridcolor\":\"white\",\"linecolor\":\"white\",\"ticks\":\"\"},\"baxis\":{\"gridcolor\":\"white\",\"linecolor\":\"white\",\"ticks\":\"\"},\"caxis\":{\"gridcolor\":\"white\",\"linecolor\":\"white\",\"ticks\":\"\"}},\"coloraxis\":{\"colorbar\":{\"outlinewidth\":0,\"ticks\":\"\"}},\"colorscale\":{\"sequential\":[[0.0,\"#0d0887\"],[0.1111111111111111,\"#46039f\"],[0.2222222222222222,\"#7201a8\"],[0.3333333333333333,\"#9c179e\"],[0.4444444444444444,\"#bd3786\"],[0.5555555555555556,\"#d8576b\"],[0.6666666666666666,\"#ed7953\"],[0.7777777777777778,\"#fb9f3a\"],[0.8888888888888888,\"#fdca26\"],[1.0,\"#f0f921\"]],\"sequentialminus\":[[0.0,\"#0d0887\"],[0.1111111111111111,\"#46039f\"],[0.2222222222222222,\"#7201a8\"],[0.3333333333333333,\"#9c179e\"],[0.4444444444444444,\"#bd3786\"],[0.5555555555555556,\"#d8576b\"],[0.6666666666666666,\"#ed7953\"],[0.7777777777777778,\"#fb9f3a\"],[0.8888888888888888,\"#fdca26\"],[1.0,\"#f0f921\"]],\"diverging\":[[0,\"#8e0152\"],[0.1,\"#c51b7d\"],[0.2,\"#de77ae\"],[0.3,\"#f1b6da\"],[0.4,\"#fde0ef\"],[0.5,\"#f7f7f7\"],[0.6,\"#e6f5d0\"],[0.7,\"#b8e186\"],[0.8,\"#7fbc41\"],[0.9,\"#4d9221\"],[1,\"#276419\"]]},\"xaxis\":{\"gridcolor\":\"white\",\"linecolor\":\"white\",\"ticks\":\"\",\"title\":{\"standoff\":15},\"zerolinecolor\":\"white\",\"automargin\":true,\"zerolinewidth\":2},\"yaxis\":{\"gridcolor\":\"white\",\"linecolor\":\"white\",\"ticks\":\"\",\"title\":{\"standoff\":15},\"zerolinecolor\":\"white\",\"automargin\":true,\"zerolinewidth\":2},\"scene\":{\"xaxis\":{\"backgroundcolor\":\"#E5ECF6\",\"gridcolor\":\"white\",\"linecolor\":\"white\",\"showbackground\":true,\"ticks\":\"\",\"zerolinecolor\":\"white\",\"gridwidth\":2},\"yaxis\":{\"backgroundcolor\":\"#E5ECF6\",\"gridcolor\":\"white\",\"linecolor\":\"white\",\"showbackground\":true,\"ticks\":\"\",\"zerolinecolor\":\"white\",\"gridwidth\":2},\"zaxis\":{\"backgroundcolor\":\"#E5ECF6\",\"gridcolor\":\"white\",\"linecolor\":\"white\",\"showbackground\":true,\"ticks\":\"\",\"zerolinecolor\":\"white\",\"gridwidth\":2}},\"shapedefaults\":{\"line\":{\"color\":\"#2a3f5f\"}},\"annotationdefaults\":{\"arrowcolor\":\"#2a3f5f\",\"arrowhead\":0,\"arrowwidth\":1},\"geo\":{\"bgcolor\":\"white\",\"landcolor\":\"#E5ECF6\",\"subunitcolor\":\"white\",\"showland\":true,\"showlakes\":true,\"lakecolor\":\"white\"},\"title\":{\"x\":0.05},\"mapbox\":{\"style\":\"light\"}}},\"xaxis\":{\"anchor\":\"y\",\"domain\":[0.0,1.0],\"title\":{\"text\":\"$\\\\eta\\\\;\\\\; (\\\\text{rad})$\"}},\"yaxis\":{\"anchor\":\"x\",\"domain\":[0.0,1.0],\"title\":{\"text\":\"$\\\\phi\\\\;\\\\; (\\\\pi \\\\text{ rad})$\"}},\"legend\":{\"title\":{\"text\":\"group\"},\"tracegroupgap\":0,\"itemsizing\":\"constant\"},\"margin\":{\"t\":60}},                        {\"responsive\": true}                    ).then(function(){\n",
       "                            \n",
       "var gd = document.getElementById('262b8b9b-bdae-4221-aacd-dbe7a32b240a');\n",
       "var x = new MutationObserver(function (mutations, observer) {{\n",
       "        var display = window.getComputedStyle(gd).display;\n",
       "        if (!display || display === 'none') {{\n",
       "            console.log([gd, 'removed!']);\n",
       "            Plotly.purge(gd);\n",
       "            observer.disconnect();\n",
       "        }}\n",
       "}});\n",
       "\n",
       "// Listen for the removal of the full notebook cells\n",
       "var notebookContainer = gd.closest('#notebook-container');\n",
       "if (notebookContainer) {{\n",
       "    x.observe(notebookContainer, {childList: true});\n",
       "}}\n",
       "\n",
       "// Listen for the clearing of the current output cell\n",
       "var outputEl = gd.closest('.output');\n",
       "if (outputEl) {{\n",
       "    x.observe(outputEl, {childList: true});\n",
       "}}\n",
       "\n",
       "                        })                };                });            </script>        </div>"
      ]
     },
     "metadata": {},
     "output_type": "display_data"
    }
   ],
   "source": [
    "leaf_masks = hier.flatten(\"leaves\")  # extract most nested masks\n",
    "final_graph = graph[graph.final]  # mask over full event to final state\n",
    "fig = csp.eta_phi_scatter(\n",
    "    pmu=final_graph.pmu,\n",
    "    pdg=final_graph.pdg,\n",
    "    masks=leaf_masks[graph.final],\n",
    "    pt_min=0.5,  # don't display transverse momentum < 0.5 GeV\n",
    ")\n",
    "fig.show()"
   ]
  },
  {
   "cell_type": "markdown",
   "id": "e710de74-590f-4a2b-b00a-44e9dd933fd2",
   "metadata": {},
   "source": [
    "- This purely topological cluster reconstruction picks up background\n",
    "- Can use `graphicle.select.clusters()` to remove background based on momentum alignment and colour\n",
    "  * Mass reconstructions are empirically found to be greatly improved with this!\n",
    "  * `radius` here is *not* like anti-kt radius; clusters are purely reconstructed from Monte-Carlo truth"
   ]
  },
  {
   "cell_type": "code",
   "execution_count": 200,
   "id": "3d58788f-bdc7-4581-8753-2430b06313fa",
   "metadata": {
    "tags": []
   },
   "outputs": [
    {
     "data": {
      "application/vnd.plotly.v1+json": {
       "config": {
        "plotlyServerURL": "https://plot.ly"
       },
       "data": [
        {
         "customdata": [
          [
           1.1,
           53.54497844452425,
           "e-"
          ]
         ],
         "hovertemplate": "group=e-<br>eta=%{x}<br>phi=%{y}<br>size=%{customdata[0]}<br>pt=%{customdata[1]}<br>name=%{customdata[2]}<extra></extra>",
         "legendgroup": "e-",
         "marker": {
          "color": "#636efa",
          "size": [
           1.1
          ],
          "sizemode": "area",
          "sizeref": 0.0027500000000000003,
          "symbol": "circle"
         },
         "mode": "markers",
         "name": "e-",
         "orientation": "v",
         "showlegend": true,
         "type": "scatter",
         "x": [
          0.4862523018363326
         ],
         "xaxis": "x",
         "y": [
          0.10770519028130712
         ],
         "yaxis": "y"
        },
        {
         "customdata": [
          [
           0.979190721297493,
           30.52447396418846,
           "nu(e)~"
          ]
         ],
         "hovertemplate": "group=nu(e)~<br>eta=%{x}<br>phi=%{y}<br>size=%{customdata[0]}<br>pt=%{customdata[1]}<br>name=%{customdata[2]}<extra></extra>",
         "legendgroup": "nu(e)~",
         "marker": {
          "color": "#EF553B",
          "size": [
           0.979190721297493
          ],
          "sizemode": "area",
          "sizeref": 0.0027500000000000003,
          "symbol": "diamond"
         },
         "mode": "markers",
         "name": "nu(e)~",
         "orientation": "v",
         "showlegend": true,
         "type": "scatter",
         "x": [
          0.9961828648948144
         ],
         "xaxis": "x",
         "y": [
          -0.7664954271655119
         ],
         "yaxis": "y"
        },
        {
         "customdata": [
          [
           0.3378343613192196,
           1.5449634026649237,
           "pi-"
          ],
          [
           0.6917391245975478,
           8.015133149196389,
           "pi+"
          ],
          [
           0.7060559828921186,
           8.567123739037998,
           "pi+"
          ],
          [
           0.16531090224393064,
           0.692420090396582,
           "pi-"
          ],
          [
           0.16556934115876998,
           0.6932530413915726,
           "pi+"
          ],
          [
           0.10906319068292826,
           0.5330066249035759,
           "pi+"
          ],
          [
           0.19581639401490178,
           0.797994315681643,
           "K-"
          ],
          [
           0.34894048180841253,
           1.6268812440583773,
           "pi+"
          ],
          [
           0.19238370813096056,
           0.7853527242837635,
           "p"
          ],
          [
           0.4439526085366774,
           2.5310954134038006,
           "pi-"
          ],
          [
           0.47171191944510227,
           2.8799871815145375,
           "pi+"
          ],
          [
           0.12076926632849243,
           0.5628366252794906,
           "pi-"
          ],
          [
           0.6712748265554715,
           7.28730240739585,
           "K-"
          ],
          [
           0.5268772556655357,
           3.7225529933592494,
           "K+"
          ],
          [
           0.19717280573670254,
           0.803045497760887,
           "K-"
          ],
          [
           0.10981552148609629,
           0.5348752941251964,
           "K(L)0"
          ],
          [
           0.24733593768436946,
           1.0141087971837461,
           "pi+"
          ],
          [
           0.556207169135805,
           4.2667383339730955,
           "pi+"
          ],
          [
           0.12595263093172188,
           0.5765729766382633,
           "pi+"
          ],
          [
           0.30339384505698386,
           1.316249268108538,
           "K(L)0"
          ],
          [
           0.29566603903274996,
           1.2697718167463874,
           "n~"
          ],
          [
           0.13377174976003825,
           0.5979312087292632,
           "pi+"
          ],
          [
           0.433854341933422,
           2.414943777935532,
           "gamma"
          ],
          [
           0.31652057905445874,
           1.3991298979371902,
           "n~"
          ],
          [
           0.14986667944533444,
           0.6444181317231767,
           "gamma"
          ],
          [
           0.22009158482060542,
           0.893393688761123,
           "pi+"
          ],
          [
           0.14628879394505961,
           0.6337812139466381,
           "gamma"
          ],
          [
           0.3027862426113971,
           1.3125341311697174,
           "gamma"
          ],
          [
           0.46618843454433767,
           2.8069293245433076,
           "gamma"
          ],
          [
           0.25978267208690553,
           1.0745599347820656,
           "pi+"
          ],
          [
           0.3648455572224145,
           1.7518173370382815,
           "pi-"
          ],
          [
           0.1,
           0.5110016175418509,
           "pi-"
          ],
          [
           0.10815308811784045,
           0.5307547994405984,
           "gamma"
          ],
          [
           0.2524350629208374,
           1.038451683855542,
           "gamma"
          ],
          [
           0.6097834814728995,
           5.474393919166868,
           "gamma"
          ],
          [
           0.21142548247280976,
           0.8580938396441056,
           "pi+"
          ],
          [
           0.5250185907534098,
           3.6905053123246594,
           "pi-"
          ],
          [
           0.10088472664995585,
           0.5131090622555152,
           "gamma"
          ],
          [
           0.4467211177214492,
           2.563903800920634,
           "gamma"
          ],
          [
           0.14754561129247734,
           0.6374975289039543,
           "gamma"
          ],
          [
           0.21810334735129597,
           0.8851687047572717,
           "gamma"
          ],
          [
           0.12226248373619564,
           0.5667598703078267,
           "n"
          ],
          [
           0.2954855325281448,
           1.2687060381144002,
           "pi-"
          ],
          [
           0.5206768936911136,
           3.6167152680532304,
           "K(L)0"
          ],
          [
           0.362176592209718,
           1.7302016405186782,
           "pi+"
          ],
          [
           0.13547611177595967,
           0.6026907671158835,
           "K+"
          ],
          [
           0.16326028475491045,
           0.685846307899228,
           "pi-"
          ],
          [
           0.5690696055386252,
           4.529830427053789,
           "pi+"
          ],
          [
           0.3359283734479439,
           1.5313255744518492,
           "pi+"
          ],
          [
           0.3527246273401847,
           1.6557735784361576,
           "pi-"
          ],
          [
           0.19898383479317877,
           0.8098395214437735,
           "gamma"
          ],
          [
           0.1647035497692877,
           0.6904665252947768,
           "gamma"
          ],
          [
           0.3802341678002137,
           1.8818212818829008,
           "gamma"
          ],
          [
           0.5083000801435641,
           3.414361390555624,
           "e+"
          ],
          [
           0.21795445384849,
           0.8845558152353528,
           "pi+"
          ],
          [
           0.5580322714931752,
           4.303118020997269,
           "pi-"
          ],
          [
           0.6543707056950244,
           6.73620749787057,
           "pi+"
          ],
          [
           0.4254773693699352,
           2.322646178216987,
           "pi-"
          ],
          [
           0.5728784228362107,
           4.610806373129556,
           "K-"
          ],
          [
           0.6772818653412629,
           7.493811963247801,
           "K(L)0"
          ],
          [
           0.399683656785804,
           2.0600231920458105,
           "gamma"
          ],
          [
           0.5151183985031164,
           3.524394471538255,
           "K+"
          ],
          [
           0.3579719029611964,
           1.6966880482302207,
           "pi-"
          ]
         ],
         "hovertemplate": "group=background<br>eta=%{x}<br>phi=%{y}<br>size=%{customdata[0]}<br>pt=%{customdata[1]}<br>name=%{customdata[2]}<extra></extra>",
         "legendgroup": "background",
         "marker": {
          "color": "#00cc96",
          "size": [
           0.3378343613192196,
           0.6917391245975478,
           0.7060559828921186,
           0.16531090224393064,
           0.16556934115876998,
           0.10906319068292826,
           0.19581639401490178,
           0.34894048180841253,
           0.19238370813096056,
           0.4439526085366774,
           0.47171191944510227,
           0.12076926632849243,
           0.6712748265554715,
           0.5268772556655357,
           0.19717280573670254,
           0.10981552148609629,
           0.24733593768436946,
           0.556207169135805,
           0.12595263093172188,
           0.30339384505698386,
           0.29566603903274996,
           0.13377174976003825,
           0.433854341933422,
           0.31652057905445874,
           0.14986667944533444,
           0.22009158482060542,
           0.14628879394505961,
           0.3027862426113971,
           0.46618843454433767,
           0.25978267208690553,
           0.3648455572224145,
           0.1,
           0.10815308811784045,
           0.2524350629208374,
           0.6097834814728995,
           0.21142548247280976,
           0.5250185907534098,
           0.10088472664995585,
           0.4467211177214492,
           0.14754561129247734,
           0.21810334735129597,
           0.12226248373619564,
           0.2954855325281448,
           0.5206768936911136,
           0.362176592209718,
           0.13547611177595967,
           0.16326028475491045,
           0.5690696055386252,
           0.3359283734479439,
           0.3527246273401847,
           0.19898383479317877,
           0.1647035497692877,
           0.3802341678002137,
           0.5083000801435641,
           0.21795445384849,
           0.5580322714931752,
           0.6543707056950244,
           0.4254773693699352,
           0.5728784228362107,
           0.6772818653412629,
           0.399683656785804,
           0.5151183985031164,
           0.3579719029611964
          ],
          "sizemode": "area",
          "sizeref": 0.0027500000000000003,
          "symbol": "square"
         },
         "mode": "markers",
         "name": "background",
         "orientation": "v",
         "showlegend": true,
         "type": "scatter",
         "x": [
          4.913106901507506,
          5.042478416175923,
          4.984915629540886,
          2.539632679321197,
          4.145260136764523,
          -5.619305459513291,
          -5.4361462431755605,
          -4.345847317603327,
          -4.304604739691842,
          2.2902767948353127,
          2.875908550328268,
          1.7280995842847793,
          2.8937262547975893,
          2.7981963561824768,
          -3.9052268903555447,
          -3.936934970676424,
          6.764800956727413,
          2.6767317709977263,
          3.414124495333823,
          2.317281898701054,
          -1.9767819955339014,
          -3.880728902642588,
          -5.61790366366139,
          -4.001618565978518,
          4.61278115629391,
          2.8072635854907073,
          2.5538757759235806,
          -3.3928849570531976,
          -3.4218292365407263,
          -3.356480206983469,
          -3.587464209441854,
          0.4943505127686822,
          1.8581645931802093,
          4.93008736846823,
          4.981008732014593,
          1.3326962736164372,
          1.3196181793590631,
          4.231754715895324,
          -5.421371448176401,
          -3.6092725195827913,
          -3.5786935403501876,
          -8.331164761382313,
          -5.510874429786395,
          4.805839120572989,
          4.918991965960353,
          3.8001725369340535,
          4.52331563422516,
          2.5812803256558867,
          5.003756903500252,
          4.749722017113706,
          4.728613650565378,
          2.314193327160967,
          2.3258850968150298,
          2.4856974317839766,
          2.3844878585827143,
          2.52678307073607,
          2.474373378053454,
          2.3529724223416064,
          2.5902857911953667,
          2.4990016200774874,
          2.435205715242989,
          2.5747461492523707,
          2.539174047197274
         ],
         "xaxis": "x",
         "y": [
          -0.2871234686654199,
          -0.4458362958767901,
          -0.47910619460970866,
          -0.24668742856679024,
          -0.7903391858210451,
          0.9422091231248335,
          -0.8879203356725754,
          0.3703995980895394,
          0.3648177109421073,
          0.49966832398839456,
          0.4991267231578656,
          -0.798642381532835,
          0.5034351143132543,
          0.45841130710201083,
          0.3778563711616149,
          0.5059398140873687,
          -0.6873880664937642,
          0.5072242779570904,
          0.8051149832698782,
          0.27586881456145523,
          -0.6010239865058327,
          -0.12031798982476777,
          0.896267795362425,
          0.4430801497725505,
          0.6090594842956021,
          0.5756800206144677,
          0.5084819119048491,
          0.739764711353157,
          0.7193607649122553,
          0.7585443318378017,
          0.7122960776603834,
          -0.10251272388492842,
          -0.7720530751146325,
          -0.4134166075408167,
          -0.4055459137610185,
          0.0690879506437121,
          0.0068148936053858645,
          -0.5386061133304031,
          0.9986457279547284,
          0.3607389226233639,
          0.4171746477716564,
          0.9697044953919982,
          -0.9955627583442614,
          -0.421134762610866,
          -0.32144974604032023,
          -0.5459256919826617,
          -0.4409680660146255,
          0.4989365723047766,
          -0.4333384160982327,
          -0.41980367157688436,
          -0.4717170388428777,
          0.5147604087793604,
          0.5522908217479656,
          0.5158251844483832,
          0.46814718702980146,
          0.5330422661205368,
          0.5367034094731307,
          0.5039874459480117,
          0.49524624753383756,
          0.5000573718836863,
          0.5117239881143435,
          0.48805368162252977,
          0.5164175319234822
         ],
         "yaxis": "y"
        },
        {
         "customdata": [
          [
           0.5726248051144056,
           4.6053697264471865,
           "pi+"
          ],
          [
           0.2129181010162105,
           0.8640727638738088,
           "pi-"
          ],
          [
           0.47398252979032796,
           2.9105687413639245,
           "pi+"
          ],
          [
           0.7395508177443679,
           10.011624130498207,
           "pi-"
          ],
          [
           0.7146495150362859,
           8.91654328854881,
           "gamma"
          ],
          [
           0.7345806955979555,
           9.782805434689294,
           "gamma"
          ],
          [
           0.4171397061031744,
           2.2342846643206724,
           "gamma"
          ],
          [
           0.24881805917350155,
           1.0211249198155623,
           "gamma"
          ],
          [
           0.1784405082339702,
           0.7360297302114125,
           "gamma"
          ],
          [
           0.4469652566477029,
           2.5668173087574435,
           "pi+"
          ],
          [
           0.4360774636786945,
           2.440048110725631,
           "gamma"
          ],
          [
           0.2519639086816206,
           1.03617813472479,
           "gamma"
          ],
          [
           0.2663525808714443,
           1.1079082779818985,
           "gamma"
          ]
         ],
         "hovertemplate": "group=u<br>eta=%{x}<br>phi=%{y}<br>size=%{customdata[0]}<br>pt=%{customdata[1]}<br>name=%{customdata[2]}<extra></extra>",
         "legendgroup": "u",
         "marker": {
          "color": "#ab63fa",
          "size": [
           0.5726248051144056,
           0.2129181010162105,
           0.47398252979032796,
           0.7395508177443679,
           0.7146495150362859,
           0.7345806955979555,
           0.4171397061031744,
           0.24881805917350155,
           0.1784405082339702,
           0.4469652566477029,
           0.4360774636786945,
           0.2519639086816206,
           0.2663525808714443
          ],
          "sizemode": "area",
          "sizeref": 0.0027500000000000003,
          "symbol": "x"
         },
         "mode": "markers",
         "name": "u",
         "orientation": "v",
         "showlegend": true,
         "type": "scatter",
         "x": [
          -0.6533095890132042,
          -1.1262500291921065,
          -0.65604804448243,
          -0.5904883800459315,
          -0.635280822156374,
          -0.6276716854933378,
          -0.8426967523544957,
          -0.5088731198460121,
          -0.2716004112073737,
          -0.6846214203232692,
          -0.6331051159327574,
          -0.7030063160936321,
          -0.49175109515946647
         ],
         "xaxis": "x",
         "y": [
          0.8335391426141601,
          0.7338648323144586,
          0.7722204076486586,
          0.8106420571264411,
          0.8157725178429485,
          0.8118613968979501,
          0.8250602914003387,
          0.7810597336612866,
          0.8075225683033009,
          0.8244840500163667,
          0.7912715294899618,
          0.7759447327971379,
          0.8343607799004154
         ],
         "yaxis": "y"
        },
        {
         "customdata": [
          [
           0.37210980532204374,
           1.8120273768270507,
           "p"
          ],
          [
           0.38637369064130067,
           1.9363418507028511,
           "K-"
          ],
          [
           0.6636389089331408,
           7.032989592579692,
           "pi-"
          ],
          [
           0.37019675824392695,
           1.7959731210099255,
           "pi+"
          ],
          [
           0.3533336909879784,
           1.6604715438114943,
           "pi-"
          ],
          [
           0.55106999822669,
           4.165982117959156,
           "pi+"
          ],
          [
           0.25015879694871246,
           1.0275135619726379,
           "pi+"
          ],
          [
           0.5085271909014835,
           3.417970561260029,
           "gamma"
          ],
          [
           0.5488296476682372,
           4.122790143768002,
           "gamma"
          ],
          [
           0.4188838478630774,
           2.2524864548663652,
           "p~"
          ],
          [
           0.10493543859741714,
           0.5228695177426335,
           "pi+"
          ],
          [
           0.21614787457374846,
           0.8771531275832558,
           "gamma"
          ],
          [
           0.1158909254817008,
           0.5502076894216946,
           "gamma"
          ],
          [
           0.5239539701198738,
           3.672273219326622,
           "gamma"
          ]
         ],
         "hovertemplate": "group=d~<br>eta=%{x}<br>phi=%{y}<br>size=%{customdata[0]}<br>pt=%{customdata[1]}<br>name=%{customdata[2]}<extra></extra>",
         "legendgroup": "d~",
         "marker": {
          "color": "#FFA15A",
          "size": [
           0.37210980532204374,
           0.38637369064130067,
           0.6636389089331408,
           0.37019675824392695,
           0.3533336909879784,
           0.55106999822669,
           0.25015879694871246,
           0.5085271909014835,
           0.5488296476682372,
           0.4188838478630774,
           0.10493543859741714,
           0.21614787457374846,
           0.1158909254817008,
           0.5239539701198738
          ],
          "sizemode": "area",
          "sizeref": 0.0027500000000000003,
          "symbol": "cross"
         },
         "mode": "markers",
         "name": "d~",
         "orientation": "v",
         "showlegend": true,
         "type": "scatter",
         "x": [
          -0.1386660292096985,
          -0.27825377278442387,
          -0.6115134306178535,
          -0.5675294339032516,
          -0.4724183341223156,
          -0.6132538707805893,
          -0.42706003216930216,
          -0.5858616974893054,
          -0.5647296069399198,
          -0.576746665224019,
          -0.7242336648021629,
          -0.526861683764917,
          -0.5679519986669797,
          -0.6098302614196353
         ],
         "xaxis": "x",
         "y": [
          0.4007320917978417,
          0.1979553291373865,
          0.14478773810076095,
          0.149658445721518,
          0.0629932316266989,
          0.15364967702524415,
          0.20359120809376696,
          0.13552085677152081,
          0.1447815444756255,
          0.1866661180868027,
          0.14258261387659976,
          0.1386616361539027,
          0.1992007742476481,
          0.10593342486329664
         ],
         "yaxis": "y"
        },
        {
         "customdata": [
          [
           0.1825980801776182,
           0.7504035586610968,
           "pi+"
          ],
          [
           0.49232530603749214,
           3.169828070563244,
           "n"
          ],
          [
           0.2895202493898815,
           1.2339835388378946,
           "n~"
          ],
          [
           0.21055851181430413,
           0.8546400609698446,
           "pi-"
          ],
          [
           0.7993998836054387,
           13.225661194736233,
           "p~"
          ],
          [
           0.27915089375761964,
           1.1758723917203284,
           "K(L)0"
          ],
          [
           0.15451258167856602,
           0.6584970767933014,
           "K(L)0"
          ],
          [
           0.24220162110866092,
           0.9901744332861547,
           "pi+"
          ],
          [
           0.4212090159808707,
           2.2769826269031537,
           "pi-"
          ],
          [
           0.32016302425882254,
           1.4230391760428955,
           "pi+"
          ],
          [
           0.6021015239985481,
           5.282216688634288,
           "n"
          ],
          [
           0.6442011272510365,
           6.424952081499629,
           "K(L)0"
          ],
          [
           0.2811722776498722,
           1.186981604527049,
           "pi-"
          ],
          [
           0.30634061198183316,
           1.3344167524889046,
           "gamma"
          ],
          [
           0.19675628308768106,
           0.801491004347982,
           "gamma"
          ],
          [
           0.2726465839823394,
           1.1408263918904118,
           "gamma"
          ],
          [
           0.7344910835464897,
           9.778728158679499,
           "p"
          ],
          [
           0.47562134876446893,
           2.932842634955713,
           "pi-"
          ],
          [
           0.18087725951533226,
           0.7444204875165091,
           "pi+"
          ],
          [
           0.2330020121006948,
           0.9486931632306617,
           "pi-"
          ],
          [
           0.23763265393573535,
           0.9693509498806494,
           "gamma"
          ],
          [
           0.4207747554256638,
           2.2723874493050826,
           "gamma"
          ],
          [
           0.35692140977889253,
           1.6884169093807546,
           "K(L)0"
          ],
          [
           0.29747766323254654,
           1.280518040658084,
           "K-"
          ],
          [
           0.6289581079399845,
           5.985142222255962,
           "pi+"
          ],
          [
           0.29148951836081033,
           1.2453398156709674,
           "gamma"
          ],
          [
           0.3109160498866982,
           1.363123567720527,
           "gamma"
          ],
          [
           0.1432445800800331,
           0.6248692414454199,
           "gamma"
          ],
          [
           0.5207068423918775,
           3.617219178490127,
           "K+"
          ],
          [
           0.3405935988067287,
           1.564921920785998,
           "pi-"
          ],
          [
           0.43997428800203875,
           2.4846838084506873,
           "pi+"
          ],
          [
           0.33593109781459213,
           1.5313449818196754,
           "pi-"
          ]
         ],
         "hovertemplate": "group=b<br>eta=%{x}<br>phi=%{y}<br>size=%{customdata[0]}<br>pt=%{customdata[1]}<br>name=%{customdata[2]}<extra></extra>",
         "legendgroup": "b",
         "marker": {
          "color": "#19d3f3",
          "size": [
           0.1825980801776182,
           0.49232530603749214,
           0.2895202493898815,
           0.21055851181430413,
           0.7993998836054387,
           0.27915089375761964,
           0.15451258167856602,
           0.24220162110866092,
           0.4212090159808707,
           0.32016302425882254,
           0.6021015239985481,
           0.6442011272510365,
           0.2811722776498722,
           0.30634061198183316,
           0.19675628308768106,
           0.2726465839823394,
           0.7344910835464897,
           0.47562134876446893,
           0.18087725951533226,
           0.2330020121006948,
           0.23763265393573535,
           0.4207747554256638,
           0.35692140977889253,
           0.29747766323254654,
           0.6289581079399845,
           0.29148951836081033,
           0.3109160498866982,
           0.1432445800800331,
           0.5207068423918775,
           0.3405935988067287,
           0.43997428800203875,
           0.33593109781459213
          ],
          "sizemode": "area",
          "sizeref": 0.0027500000000000003,
          "symbol": "circle"
         },
         "mode": "markers",
         "name": "b",
         "orientation": "v",
         "showlegend": true,
         "type": "scatter",
         "x": [
          -0.12200942952851954,
          -0.6018038483132429,
          -0.8942139647878112,
          -0.5627865991344135,
          -0.8697361933559726,
          0.1919823167478875,
          -0.8119423446764203,
          -1.0300436398426214,
          -1.0767158982257834,
          -0.8476867792010985,
          -0.9528583239946616,
          -1.0195281512761725,
          -0.3218459183314275,
          -0.39065244800217314,
          -0.18851980564628176,
          -0.753768626775971,
          -0.9809483012453731,
          -0.9994918951990085,
          -0.9443506273597461,
          -1.1439321258381578,
          -0.8054199216970422,
          -0.7547714475092713,
          -0.2696432757728299,
          -0.4087878664842612,
          -0.010624564393947359,
          -0.1472598233805607,
          -0.9849956860127183,
          -1.0951988786968334,
          -0.11725402677190329,
          -0.31444214188639313,
          -0.13299102776753868,
          0.018316057378044297
         ],
         "xaxis": "x",
         "y": [
          -0.6015442701755671,
          -0.5719183080618073,
          -0.5685856139125681,
          -0.5830730687549025,
          -0.5700137611104764,
          -0.6089903278854982,
          -0.46870889881098243,
          -0.6302889768080241,
          -0.48361573462899843,
          -0.6013544802802557,
          -0.5584465621925526,
          -0.5620492160188543,
          -0.5625861845820115,
          -0.6620654144814547,
          -0.5500401112381719,
          -0.5538852584482807,
          -0.5677470561391389,
          -0.5642867492995441,
          -0.5325698689760296,
          -0.521700108208914,
          -0.6446771746347835,
          -0.62062796235702,
          -0.518826583108503,
          -0.5120407803313082,
          -0.5085282188011232,
          -0.5610596887812929,
          -0.4889236841798168,
          -0.5195216179966801,
          -0.5009167358647044,
          -0.5052763110718521,
          -0.6069223443984827,
          -0.50872757870773
         ],
         "yaxis": "y"
        }
       ],
       "layout": {
        "autosize": true,
        "legend": {
         "itemsizing": "constant",
         "title": {
          "text": "group"
         },
         "tracegroupgap": 0
        },
        "margin": {
         "t": 60
        },
        "template": {
         "data": {
          "bar": [
           {
            "error_x": {
             "color": "#2a3f5f"
            },
            "error_y": {
             "color": "#2a3f5f"
            },
            "marker": {
             "line": {
              "color": "#E5ECF6",
              "width": 0.5
             },
             "pattern": {
              "fillmode": "overlay",
              "size": 10,
              "solidity": 0.2
             }
            },
            "type": "bar"
           }
          ],
          "barpolar": [
           {
            "marker": {
             "line": {
              "color": "#E5ECF6",
              "width": 0.5
             },
             "pattern": {
              "fillmode": "overlay",
              "size": 10,
              "solidity": 0.2
             }
            },
            "type": "barpolar"
           }
          ],
          "carpet": [
           {
            "aaxis": {
             "endlinecolor": "#2a3f5f",
             "gridcolor": "white",
             "linecolor": "white",
             "minorgridcolor": "white",
             "startlinecolor": "#2a3f5f"
            },
            "baxis": {
             "endlinecolor": "#2a3f5f",
             "gridcolor": "white",
             "linecolor": "white",
             "minorgridcolor": "white",
             "startlinecolor": "#2a3f5f"
            },
            "type": "carpet"
           }
          ],
          "choropleth": [
           {
            "colorbar": {
             "outlinewidth": 0,
             "ticks": ""
            },
            "type": "choropleth"
           }
          ],
          "contour": [
           {
            "colorbar": {
             "outlinewidth": 0,
             "ticks": ""
            },
            "colorscale": [
             [
              0,
              "#0d0887"
             ],
             [
              0.1111111111111111,
              "#46039f"
             ],
             [
              0.2222222222222222,
              "#7201a8"
             ],
             [
              0.3333333333333333,
              "#9c179e"
             ],
             [
              0.4444444444444444,
              "#bd3786"
             ],
             [
              0.5555555555555556,
              "#d8576b"
             ],
             [
              0.6666666666666666,
              "#ed7953"
             ],
             [
              0.7777777777777778,
              "#fb9f3a"
             ],
             [
              0.8888888888888888,
              "#fdca26"
             ],
             [
              1,
              "#f0f921"
             ]
            ],
            "type": "contour"
           }
          ],
          "contourcarpet": [
           {
            "colorbar": {
             "outlinewidth": 0,
             "ticks": ""
            },
            "type": "contourcarpet"
           }
          ],
          "heatmap": [
           {
            "colorbar": {
             "outlinewidth": 0,
             "ticks": ""
            },
            "colorscale": [
             [
              0,
              "#0d0887"
             ],
             [
              0.1111111111111111,
              "#46039f"
             ],
             [
              0.2222222222222222,
              "#7201a8"
             ],
             [
              0.3333333333333333,
              "#9c179e"
             ],
             [
              0.4444444444444444,
              "#bd3786"
             ],
             [
              0.5555555555555556,
              "#d8576b"
             ],
             [
              0.6666666666666666,
              "#ed7953"
             ],
             [
              0.7777777777777778,
              "#fb9f3a"
             ],
             [
              0.8888888888888888,
              "#fdca26"
             ],
             [
              1,
              "#f0f921"
             ]
            ],
            "type": "heatmap"
           }
          ],
          "heatmapgl": [
           {
            "colorbar": {
             "outlinewidth": 0,
             "ticks": ""
            },
            "colorscale": [
             [
              0,
              "#0d0887"
             ],
             [
              0.1111111111111111,
              "#46039f"
             ],
             [
              0.2222222222222222,
              "#7201a8"
             ],
             [
              0.3333333333333333,
              "#9c179e"
             ],
             [
              0.4444444444444444,
              "#bd3786"
             ],
             [
              0.5555555555555556,
              "#d8576b"
             ],
             [
              0.6666666666666666,
              "#ed7953"
             ],
             [
              0.7777777777777778,
              "#fb9f3a"
             ],
             [
              0.8888888888888888,
              "#fdca26"
             ],
             [
              1,
              "#f0f921"
             ]
            ],
            "type": "heatmapgl"
           }
          ],
          "histogram": [
           {
            "marker": {
             "pattern": {
              "fillmode": "overlay",
              "size": 10,
              "solidity": 0.2
             }
            },
            "type": "histogram"
           }
          ],
          "histogram2d": [
           {
            "colorbar": {
             "outlinewidth": 0,
             "ticks": ""
            },
            "colorscale": [
             [
              0,
              "#0d0887"
             ],
             [
              0.1111111111111111,
              "#46039f"
             ],
             [
              0.2222222222222222,
              "#7201a8"
             ],
             [
              0.3333333333333333,
              "#9c179e"
             ],
             [
              0.4444444444444444,
              "#bd3786"
             ],
             [
              0.5555555555555556,
              "#d8576b"
             ],
             [
              0.6666666666666666,
              "#ed7953"
             ],
             [
              0.7777777777777778,
              "#fb9f3a"
             ],
             [
              0.8888888888888888,
              "#fdca26"
             ],
             [
              1,
              "#f0f921"
             ]
            ],
            "type": "histogram2d"
           }
          ],
          "histogram2dcontour": [
           {
            "colorbar": {
             "outlinewidth": 0,
             "ticks": ""
            },
            "colorscale": [
             [
              0,
              "#0d0887"
             ],
             [
              0.1111111111111111,
              "#46039f"
             ],
             [
              0.2222222222222222,
              "#7201a8"
             ],
             [
              0.3333333333333333,
              "#9c179e"
             ],
             [
              0.4444444444444444,
              "#bd3786"
             ],
             [
              0.5555555555555556,
              "#d8576b"
             ],
             [
              0.6666666666666666,
              "#ed7953"
             ],
             [
              0.7777777777777778,
              "#fb9f3a"
             ],
             [
              0.8888888888888888,
              "#fdca26"
             ],
             [
              1,
              "#f0f921"
             ]
            ],
            "type": "histogram2dcontour"
           }
          ],
          "mesh3d": [
           {
            "colorbar": {
             "outlinewidth": 0,
             "ticks": ""
            },
            "type": "mesh3d"
           }
          ],
          "parcoords": [
           {
            "line": {
             "colorbar": {
              "outlinewidth": 0,
              "ticks": ""
             }
            },
            "type": "parcoords"
           }
          ],
          "pie": [
           {
            "automargin": true,
            "type": "pie"
           }
          ],
          "scatter": [
           {
            "fillpattern": {
             "fillmode": "overlay",
             "size": 10,
             "solidity": 0.2
            },
            "type": "scatter"
           }
          ],
          "scatter3d": [
           {
            "line": {
             "colorbar": {
              "outlinewidth": 0,
              "ticks": ""
             }
            },
            "marker": {
             "colorbar": {
              "outlinewidth": 0,
              "ticks": ""
             }
            },
            "type": "scatter3d"
           }
          ],
          "scattercarpet": [
           {
            "marker": {
             "colorbar": {
              "outlinewidth": 0,
              "ticks": ""
             }
            },
            "type": "scattercarpet"
           }
          ],
          "scattergeo": [
           {
            "marker": {
             "colorbar": {
              "outlinewidth": 0,
              "ticks": ""
             }
            },
            "type": "scattergeo"
           }
          ],
          "scattergl": [
           {
            "marker": {
             "colorbar": {
              "outlinewidth": 0,
              "ticks": ""
             }
            },
            "type": "scattergl"
           }
          ],
          "scattermapbox": [
           {
            "marker": {
             "colorbar": {
              "outlinewidth": 0,
              "ticks": ""
             }
            },
            "type": "scattermapbox"
           }
          ],
          "scatterpolar": [
           {
            "marker": {
             "colorbar": {
              "outlinewidth": 0,
              "ticks": ""
             }
            },
            "type": "scatterpolar"
           }
          ],
          "scatterpolargl": [
           {
            "marker": {
             "colorbar": {
              "outlinewidth": 0,
              "ticks": ""
             }
            },
            "type": "scatterpolargl"
           }
          ],
          "scatterternary": [
           {
            "marker": {
             "colorbar": {
              "outlinewidth": 0,
              "ticks": ""
             }
            },
            "type": "scatterternary"
           }
          ],
          "surface": [
           {
            "colorbar": {
             "outlinewidth": 0,
             "ticks": ""
            },
            "colorscale": [
             [
              0,
              "#0d0887"
             ],
             [
              0.1111111111111111,
              "#46039f"
             ],
             [
              0.2222222222222222,
              "#7201a8"
             ],
             [
              0.3333333333333333,
              "#9c179e"
             ],
             [
              0.4444444444444444,
              "#bd3786"
             ],
             [
              0.5555555555555556,
              "#d8576b"
             ],
             [
              0.6666666666666666,
              "#ed7953"
             ],
             [
              0.7777777777777778,
              "#fb9f3a"
             ],
             [
              0.8888888888888888,
              "#fdca26"
             ],
             [
              1,
              "#f0f921"
             ]
            ],
            "type": "surface"
           }
          ],
          "table": [
           {
            "cells": {
             "fill": {
              "color": "#EBF0F8"
             },
             "line": {
              "color": "white"
             }
            },
            "header": {
             "fill": {
              "color": "#C8D4E3"
             },
             "line": {
              "color": "white"
             }
            },
            "type": "table"
           }
          ]
         },
         "layout": {
          "annotationdefaults": {
           "arrowcolor": "#2a3f5f",
           "arrowhead": 0,
           "arrowwidth": 1
          },
          "autotypenumbers": "strict",
          "coloraxis": {
           "colorbar": {
            "outlinewidth": 0,
            "ticks": ""
           }
          },
          "colorscale": {
           "diverging": [
            [
             0,
             "#8e0152"
            ],
            [
             0.1,
             "#c51b7d"
            ],
            [
             0.2,
             "#de77ae"
            ],
            [
             0.3,
             "#f1b6da"
            ],
            [
             0.4,
             "#fde0ef"
            ],
            [
             0.5,
             "#f7f7f7"
            ],
            [
             0.6,
             "#e6f5d0"
            ],
            [
             0.7,
             "#b8e186"
            ],
            [
             0.8,
             "#7fbc41"
            ],
            [
             0.9,
             "#4d9221"
            ],
            [
             1,
             "#276419"
            ]
           ],
           "sequential": [
            [
             0,
             "#0d0887"
            ],
            [
             0.1111111111111111,
             "#46039f"
            ],
            [
             0.2222222222222222,
             "#7201a8"
            ],
            [
             0.3333333333333333,
             "#9c179e"
            ],
            [
             0.4444444444444444,
             "#bd3786"
            ],
            [
             0.5555555555555556,
             "#d8576b"
            ],
            [
             0.6666666666666666,
             "#ed7953"
            ],
            [
             0.7777777777777778,
             "#fb9f3a"
            ],
            [
             0.8888888888888888,
             "#fdca26"
            ],
            [
             1,
             "#f0f921"
            ]
           ],
           "sequentialminus": [
            [
             0,
             "#0d0887"
            ],
            [
             0.1111111111111111,
             "#46039f"
            ],
            [
             0.2222222222222222,
             "#7201a8"
            ],
            [
             0.3333333333333333,
             "#9c179e"
            ],
            [
             0.4444444444444444,
             "#bd3786"
            ],
            [
             0.5555555555555556,
             "#d8576b"
            ],
            [
             0.6666666666666666,
             "#ed7953"
            ],
            [
             0.7777777777777778,
             "#fb9f3a"
            ],
            [
             0.8888888888888888,
             "#fdca26"
            ],
            [
             1,
             "#f0f921"
            ]
           ]
          },
          "colorway": [
           "#636efa",
           "#EF553B",
           "#00cc96",
           "#ab63fa",
           "#FFA15A",
           "#19d3f3",
           "#FF6692",
           "#B6E880",
           "#FF97FF",
           "#FECB52"
          ],
          "font": {
           "color": "#2a3f5f"
          },
          "geo": {
           "bgcolor": "white",
           "lakecolor": "white",
           "landcolor": "#E5ECF6",
           "showlakes": true,
           "showland": true,
           "subunitcolor": "white"
          },
          "hoverlabel": {
           "align": "left"
          },
          "hovermode": "closest",
          "mapbox": {
           "style": "light"
          },
          "paper_bgcolor": "white",
          "plot_bgcolor": "#E5ECF6",
          "polar": {
           "angularaxis": {
            "gridcolor": "white",
            "linecolor": "white",
            "ticks": ""
           },
           "bgcolor": "#E5ECF6",
           "radialaxis": {
            "gridcolor": "white",
            "linecolor": "white",
            "ticks": ""
           }
          },
          "scene": {
           "xaxis": {
            "backgroundcolor": "#E5ECF6",
            "gridcolor": "white",
            "gridwidth": 2,
            "linecolor": "white",
            "showbackground": true,
            "ticks": "",
            "zerolinecolor": "white"
           },
           "yaxis": {
            "backgroundcolor": "#E5ECF6",
            "gridcolor": "white",
            "gridwidth": 2,
            "linecolor": "white",
            "showbackground": true,
            "ticks": "",
            "zerolinecolor": "white"
           },
           "zaxis": {
            "backgroundcolor": "#E5ECF6",
            "gridcolor": "white",
            "gridwidth": 2,
            "linecolor": "white",
            "showbackground": true,
            "ticks": "",
            "zerolinecolor": "white"
           }
          },
          "shapedefaults": {
           "line": {
            "color": "#2a3f5f"
           }
          },
          "ternary": {
           "aaxis": {
            "gridcolor": "white",
            "linecolor": "white",
            "ticks": ""
           },
           "baxis": {
            "gridcolor": "white",
            "linecolor": "white",
            "ticks": ""
           },
           "bgcolor": "#E5ECF6",
           "caxis": {
            "gridcolor": "white",
            "linecolor": "white",
            "ticks": ""
           }
          },
          "title": {
           "x": 0.05
          },
          "xaxis": {
           "automargin": true,
           "gridcolor": "white",
           "linecolor": "white",
           "ticks": "",
           "title": {
            "standoff": 15
           },
           "zerolinecolor": "white",
           "zerolinewidth": 2
          },
          "yaxis": {
           "automargin": true,
           "gridcolor": "white",
           "linecolor": "white",
           "ticks": "",
           "title": {
            "standoff": 15
           },
           "zerolinecolor": "white",
           "zerolinewidth": 2
          }
         }
        },
        "xaxis": {
         "anchor": "y",
         "autorange": true,
         "domain": [
          0,
          1
         ],
         "range": [
          -9.301857156225152,
          7.784637621050124
         ],
         "title": {
          "text": "$\\eta\\;\\; (\\text{rad})$"
         },
         "type": "linear"
        },
        "yaxis": {
         "anchor": "x",
         "autorange": true,
         "domain": [
          0,
          1
         ],
         "range": [
          -1.2085420279391024,
          1.2324983611901819
         ],
         "title": {
          "text": "$\\phi\\;\\; (\\pi \\text{ rad})$"
         },
         "type": "linear"
        }
       }
      },
      "image/png": "[encoded data removed]",
      "text/html": [
       "<div>                            <div id=\"274ac80f-9d68-48b6-ac23-83eb9234a9c8\" class=\"plotly-graph-div\" style=\"height:525px; width:100%;\"></div>            <script type=\"text/javascript\">                require([\"plotly\"], function(Plotly) {                    window.PLOTLYENV=window.PLOTLYENV || {};                                    if (document.getElementById(\"274ac80f-9d68-48b6-ac23-83eb9234a9c8\")) {                    Plotly.newPlot(                        \"274ac80f-9d68-48b6-ac23-83eb9234a9c8\",                        [{\"customdata\":[[1.1,53.54497844452425,\"e-\"]],\"hovertemplate\":\"group=e-\\u003cbr\\u003eeta=%{x}\\u003cbr\\u003ephi=%{y}\\u003cbr\\u003esize=%{customdata[0]}\\u003cbr\\u003ept=%{customdata[1]}\\u003cbr\\u003ename=%{customdata[2]}\\u003cextra\\u003e\\u003c\\u002fextra\\u003e\",\"legendgroup\":\"e-\",\"marker\":{\"color\":\"#636efa\",\"size\":[1.1],\"sizemode\":\"area\",\"sizeref\":0.0027500000000000003,\"symbol\":\"circle\"},\"mode\":\"markers\",\"name\":\"e-\",\"orientation\":\"v\",\"showlegend\":true,\"x\":[0.4862523018363326],\"xaxis\":\"x\",\"y\":[0.10770519028130712],\"yaxis\":\"y\",\"type\":\"scatter\"},{\"customdata\":[[0.979190721297493,30.52447396418846,\"nu(e)~\"]],\"hovertemplate\":\"group=nu(e)~\\u003cbr\\u003eeta=%{x}\\u003cbr\\u003ephi=%{y}\\u003cbr\\u003esize=%{customdata[0]}\\u003cbr\\u003ept=%{customdata[1]}\\u003cbr\\u003ename=%{customdata[2]}\\u003cextra\\u003e\\u003c\\u002fextra\\u003e\",\"legendgroup\":\"nu(e)~\",\"marker\":{\"color\":\"#EF553B\",\"size\":[0.979190721297493],\"sizemode\":\"area\",\"sizeref\":0.0027500000000000003,\"symbol\":\"diamond\"},\"mode\":\"markers\",\"name\":\"nu(e)~\",\"orientation\":\"v\",\"showlegend\":true,\"x\":[0.9961828648948144],\"xaxis\":\"x\",\"y\":[-0.7664954271655119],\"yaxis\":\"y\",\"type\":\"scatter\"},{\"customdata\":[[0.3378343613192196,1.5449634026649237,\"pi-\"],[0.6917391245975478,8.015133149196389,\"pi+\"],[0.7060559828921186,8.567123739037998,\"pi+\"],[0.16531090224393064,0.692420090396582,\"pi-\"],[0.16556934115876998,0.6932530413915726,\"pi+\"],[0.10906319068292826,0.5330066249035759,\"pi+\"],[0.19581639401490178,0.797994315681643,\"K-\"],[0.34894048180841253,1.6268812440583773,\"pi+\"],[0.19238370813096056,0.7853527242837635,\"p\"],[0.4439526085366774,2.5310954134038006,\"pi-\"],[0.47171191944510227,2.8799871815145375,\"pi+\"],[0.12076926632849243,0.5628366252794906,\"pi-\"],[0.6712748265554715,7.28730240739585,\"K-\"],[0.5268772556655357,3.7225529933592494,\"K+\"],[0.19717280573670254,0.803045497760887,\"K-\"],[0.10981552148609629,0.5348752941251964,\"K(L)0\"],[0.24733593768436946,1.0141087971837461,\"pi+\"],[0.556207169135805,4.2667383339730955,\"pi+\"],[0.12595263093172188,0.5765729766382633,\"pi+\"],[0.30339384505698386,1.316249268108538,\"K(L)0\"],[0.29566603903274996,1.2697718167463874,\"n~\"],[0.13377174976003825,0.5979312087292632,\"pi+\"],[0.433854341933422,2.414943777935532,\"gamma\"],[0.31652057905445874,1.3991298979371902,\"n~\"],[0.14986667944533444,0.6444181317231767,\"gamma\"],[0.22009158482060542,0.893393688761123,\"pi+\"],[0.14628879394505961,0.6337812139466381,\"gamma\"],[0.3027862426113971,1.3125341311697174,\"gamma\"],[0.46618843454433767,2.8069293245433076,\"gamma\"],[0.25978267208690553,1.0745599347820656,\"pi+\"],[0.3648455572224145,1.7518173370382815,\"pi-\"],[0.1,0.5110016175418509,\"pi-\"],[0.10815308811784045,0.5307547994405984,\"gamma\"],[0.2524350629208374,1.038451683855542,\"gamma\"],[0.6097834814728995,5.474393919166868,\"gamma\"],[0.21142548247280976,0.8580938396441056,\"pi+\"],[0.5250185907534098,3.6905053123246594,\"pi-\"],[0.10088472664995585,0.5131090622555152,\"gamma\"],[0.4467211177214492,2.563903800920634,\"gamma\"],[0.14754561129247734,0.6374975289039543,\"gamma\"],[0.21810334735129597,0.8851687047572717,\"gamma\"],[0.12226248373619564,0.5667598703078267,\"n\"],[0.2954855325281448,1.2687060381144002,\"pi-\"],[0.5206768936911136,3.6167152680532304,\"K(L)0\"],[0.362176592209718,1.7302016405186782,\"pi+\"],[0.13547611177595967,0.6026907671158835,\"K+\"],[0.16326028475491045,0.685846307899228,\"pi-\"],[0.5690696055386252,4.529830427053789,\"pi+\"],[0.3359283734479439,1.5313255744518492,\"pi+\"],[0.3527246273401847,1.6557735784361576,\"pi-\"],[0.19898383479317877,0.8098395214437735,\"gamma\"],[0.1647035497692877,0.6904665252947768,\"gamma\"],[0.3802341678002137,1.8818212818829008,\"gamma\"],[0.5083000801435641,3.414361390555624,\"e+\"],[0.21795445384849,0.8845558152353528,\"pi+\"],[0.5580322714931752,4.303118020997269,\"pi-\"],[0.6543707056950244,6.73620749787057,\"pi+\"],[0.4254773693699352,2.322646178216987,\"pi-\"],[0.5728784228362107,4.610806373129556,\"K-\"],[0.6772818653412629,7.493811963247801,\"K(L)0\"],[0.399683656785804,2.0600231920458105,\"gamma\"],[0.5151183985031164,3.524394471538255,\"K+\"],[0.3579719029611964,1.6966880482302207,\"pi-\"]],\"hovertemplate\":\"group=background\\u003cbr\\u003eeta=%{x}\\u003cbr\\u003ephi=%{y}\\u003cbr\\u003esize=%{customdata[0]}\\u003cbr\\u003ept=%{customdata[1]}\\u003cbr\\u003ename=%{customdata[2]}\\u003cextra\\u003e\\u003c\\u002fextra\\u003e\",\"legendgroup\":\"background\",\"marker\":{\"color\":\"#00cc96\",\"size\":[0.3378343613192196,0.6917391245975478,0.7060559828921186,0.16531090224393064,0.16556934115876998,0.10906319068292826,0.19581639401490178,0.34894048180841253,0.19238370813096056,0.4439526085366774,0.47171191944510227,0.12076926632849243,0.6712748265554715,0.5268772556655357,0.19717280573670254,0.10981552148609629,0.24733593768436946,0.556207169135805,0.12595263093172188,0.30339384505698386,0.29566603903274996,0.13377174976003825,0.433854341933422,0.31652057905445874,0.14986667944533444,0.22009158482060542,0.14628879394505961,0.3027862426113971,0.46618843454433767,0.25978267208690553,0.3648455572224145,0.1,0.10815308811784045,0.2524350629208374,0.6097834814728995,0.21142548247280976,0.5250185907534098,0.10088472664995585,0.4467211177214492,0.14754561129247734,0.21810334735129597,0.12226248373619564,0.2954855325281448,0.5206768936911136,0.362176592209718,0.13547611177595967,0.16326028475491045,0.5690696055386252,0.3359283734479439,0.3527246273401847,0.19898383479317877,0.1647035497692877,0.3802341678002137,0.5083000801435641,0.21795445384849,0.5580322714931752,0.6543707056950244,0.4254773693699352,0.5728784228362107,0.6772818653412629,0.399683656785804,0.5151183985031164,0.3579719029611964],\"sizemode\":\"area\",\"sizeref\":0.0027500000000000003,\"symbol\":\"square\"},\"mode\":\"markers\",\"name\":\"background\",\"orientation\":\"v\",\"showlegend\":true,\"x\":[4.913106901507506,5.042478416175923,4.984915629540886,2.539632679321197,4.145260136764523,-5.619305459513291,-5.4361462431755605,-4.345847317603327,-4.304604739691842,2.2902767948353127,2.875908550328268,1.7280995842847793,2.8937262547975893,2.7981963561824768,-3.9052268903555447,-3.936934970676424,6.764800956727413,2.6767317709977263,3.414124495333823,2.317281898701054,-1.9767819955339014,-3.880728902642588,-5.61790366366139,-4.001618565978518,4.61278115629391,2.8072635854907073,2.5538757759235806,-3.3928849570531976,-3.4218292365407263,-3.356480206983469,-3.587464209441854,0.4943505127686822,1.8581645931802093,4.93008736846823,4.981008732014593,1.3326962736164372,1.3196181793590631,4.231754715895324,-5.421371448176401,-3.6092725195827913,-3.5786935403501876,-8.331164761382313,-5.510874429786395,4.805839120572989,4.918991965960353,3.8001725369340535,4.52331563422516,2.5812803256558867,5.003756903500252,4.749722017113706,4.728613650565378,2.314193327160967,2.3258850968150298,2.4856974317839766,2.3844878585827143,2.52678307073607,2.474373378053454,2.3529724223416064,2.5902857911953667,2.4990016200774874,2.435205715242989,2.5747461492523707,2.539174047197274],\"xaxis\":\"x\",\"y\":[-0.2871234686654199,-0.4458362958767901,-0.47910619460970866,-0.24668742856679024,-0.7903391858210451,0.9422091231248335,-0.8879203356725754,0.3703995980895394,0.3648177109421073,0.49966832398839456,0.4991267231578656,-0.798642381532835,0.5034351143132543,0.45841130710201083,0.3778563711616149,0.5059398140873687,-0.6873880664937642,0.5072242779570904,0.8051149832698782,0.27586881456145523,-0.6010239865058327,-0.12031798982476777,0.896267795362425,0.4430801497725505,0.6090594842956021,0.5756800206144677,0.5084819119048491,0.739764711353157,0.7193607649122553,0.7585443318378017,0.7122960776603834,-0.10251272388492842,-0.7720530751146325,-0.4134166075408167,-0.4055459137610185,0.0690879506437121,0.0068148936053858645,-0.5386061133304031,0.9986457279547284,0.3607389226233639,0.4171746477716564,0.9697044953919982,-0.9955627583442614,-0.421134762610866,-0.32144974604032023,-0.5459256919826617,-0.4409680660146255,0.4989365723047766,-0.4333384160982327,-0.41980367157688436,-0.4717170388428777,0.5147604087793604,0.5522908217479656,0.5158251844483832,0.46814718702980146,0.5330422661205368,0.5367034094731307,0.5039874459480117,0.49524624753383756,0.5000573718836863,0.5117239881143435,0.48805368162252977,0.5164175319234822],\"yaxis\":\"y\",\"type\":\"scatter\"},{\"customdata\":[[0.5726248051144056,4.6053697264471865,\"pi+\"],[0.2129181010162105,0.8640727638738088,\"pi-\"],[0.47398252979032796,2.9105687413639245,\"pi+\"],[0.7395508177443679,10.011624130498207,\"pi-\"],[0.7146495150362859,8.91654328854881,\"gamma\"],[0.7345806955979555,9.782805434689294,\"gamma\"],[0.4171397061031744,2.2342846643206724,\"gamma\"],[0.24881805917350155,1.0211249198155623,\"gamma\"],[0.1784405082339702,0.7360297302114125,\"gamma\"],[0.4469652566477029,2.5668173087574435,\"pi+\"],[0.4360774636786945,2.440048110725631,\"gamma\"],[0.2519639086816206,1.03617813472479,\"gamma\"],[0.2663525808714443,1.1079082779818985,\"gamma\"]],\"hovertemplate\":\"group=u\\u003cbr\\u003eeta=%{x}\\u003cbr\\u003ephi=%{y}\\u003cbr\\u003esize=%{customdata[0]}\\u003cbr\\u003ept=%{customdata[1]}\\u003cbr\\u003ename=%{customdata[2]}\\u003cextra\\u003e\\u003c\\u002fextra\\u003e\",\"legendgroup\":\"u\",\"marker\":{\"color\":\"#ab63fa\",\"size\":[0.5726248051144056,0.2129181010162105,0.47398252979032796,0.7395508177443679,0.7146495150362859,0.7345806955979555,0.4171397061031744,0.24881805917350155,0.1784405082339702,0.4469652566477029,0.4360774636786945,0.2519639086816206,0.2663525808714443],\"sizemode\":\"area\",\"sizeref\":0.0027500000000000003,\"symbol\":\"x\"},\"mode\":\"markers\",\"name\":\"u\",\"orientation\":\"v\",\"showlegend\":true,\"x\":[-0.6533095890132042,-1.1262500291921065,-0.65604804448243,-0.5904883800459315,-0.635280822156374,-0.6276716854933378,-0.8426967523544957,-0.5088731198460121,-0.2716004112073737,-0.6846214203232692,-0.6331051159327574,-0.7030063160936321,-0.49175109515946647],\"xaxis\":\"x\",\"y\":[0.8335391426141601,0.7338648323144586,0.7722204076486586,0.8106420571264411,0.8157725178429485,0.8118613968979501,0.8250602914003387,0.7810597336612866,0.8075225683033009,0.8244840500163667,0.7912715294899618,0.7759447327971379,0.8343607799004154],\"yaxis\":\"y\",\"type\":\"scatter\"},{\"customdata\":[[0.37210980532204374,1.8120273768270507,\"p\"],[0.38637369064130067,1.9363418507028511,\"K-\"],[0.6636389089331408,7.032989592579692,\"pi-\"],[0.37019675824392695,1.7959731210099255,\"pi+\"],[0.3533336909879784,1.6604715438114943,\"pi-\"],[0.55106999822669,4.165982117959156,\"pi+\"],[0.25015879694871246,1.0275135619726379,\"pi+\"],[0.5085271909014835,3.417970561260029,\"gamma\"],[0.5488296476682372,4.122790143768002,\"gamma\"],[0.4188838478630774,2.2524864548663652,\"p~\"],[0.10493543859741714,0.5228695177426335,\"pi+\"],[0.21614787457374846,0.8771531275832558,\"gamma\"],[0.1158909254817008,0.5502076894216946,\"gamma\"],[0.5239539701198738,3.672273219326622,\"gamma\"]],\"hovertemplate\":\"group=d~\\u003cbr\\u003eeta=%{x}\\u003cbr\\u003ephi=%{y}\\u003cbr\\u003esize=%{customdata[0]}\\u003cbr\\u003ept=%{customdata[1]}\\u003cbr\\u003ename=%{customdata[2]}\\u003cextra\\u003e\\u003c\\u002fextra\\u003e\",\"legendgroup\":\"d~\",\"marker\":{\"color\":\"#FFA15A\",\"size\":[0.37210980532204374,0.38637369064130067,0.6636389089331408,0.37019675824392695,0.3533336909879784,0.55106999822669,0.25015879694871246,0.5085271909014835,0.5488296476682372,0.4188838478630774,0.10493543859741714,0.21614787457374846,0.1158909254817008,0.5239539701198738],\"sizemode\":\"area\",\"sizeref\":0.0027500000000000003,\"symbol\":\"cross\"},\"mode\":\"markers\",\"name\":\"d~\",\"orientation\":\"v\",\"showlegend\":true,\"x\":[-0.1386660292096985,-0.27825377278442387,-0.6115134306178535,-0.5675294339032516,-0.4724183341223156,-0.6132538707805893,-0.42706003216930216,-0.5858616974893054,-0.5647296069399198,-0.576746665224019,-0.7242336648021629,-0.526861683764917,-0.5679519986669797,-0.6098302614196353],\"xaxis\":\"x\",\"y\":[0.4007320917978417,0.1979553291373865,0.14478773810076095,0.149658445721518,0.0629932316266989,0.15364967702524415,0.20359120809376696,0.13552085677152081,0.1447815444756255,0.1866661180868027,0.14258261387659976,0.1386616361539027,0.1992007742476481,0.10593342486329664],\"yaxis\":\"y\",\"type\":\"scatter\"},{\"customdata\":[[0.1825980801776182,0.7504035586610968,\"pi+\"],[0.49232530603749214,3.169828070563244,\"n\"],[0.2895202493898815,1.2339835388378946,\"n~\"],[0.21055851181430413,0.8546400609698446,\"pi-\"],[0.7993998836054387,13.225661194736233,\"p~\"],[0.27915089375761964,1.1758723917203284,\"K(L)0\"],[0.15451258167856602,0.6584970767933014,\"K(L)0\"],[0.24220162110866092,0.9901744332861547,\"pi+\"],[0.4212090159808707,2.2769826269031537,\"pi-\"],[0.32016302425882254,1.4230391760428955,\"pi+\"],[0.6021015239985481,5.282216688634288,\"n\"],[0.6442011272510365,6.424952081499629,\"K(L)0\"],[0.2811722776498722,1.186981604527049,\"pi-\"],[0.30634061198183316,1.3344167524889046,\"gamma\"],[0.19675628308768106,0.801491004347982,\"gamma\"],[0.2726465839823394,1.1408263918904118,\"gamma\"],[0.7344910835464897,9.778728158679499,\"p\"],[0.47562134876446893,2.932842634955713,\"pi-\"],[0.18087725951533226,0.7444204875165091,\"pi+\"],[0.2330020121006948,0.9486931632306617,\"pi-\"],[0.23763265393573535,0.9693509498806494,\"gamma\"],[0.4207747554256638,2.2723874493050826,\"gamma\"],[0.35692140977889253,1.6884169093807546,\"K(L)0\"],[0.29747766323254654,1.280518040658084,\"K-\"],[0.6289581079399845,5.985142222255962,\"pi+\"],[0.29148951836081033,1.2453398156709674,\"gamma\"],[0.3109160498866982,1.363123567720527,\"gamma\"],[0.1432445800800331,0.6248692414454199,\"gamma\"],[0.5207068423918775,3.617219178490127,\"K+\"],[0.3405935988067287,1.564921920785998,\"pi-\"],[0.43997428800203875,2.4846838084506873,\"pi+\"],[0.33593109781459213,1.5313449818196754,\"pi-\"]],\"hovertemplate\":\"group=b\\u003cbr\\u003eeta=%{x}\\u003cbr\\u003ephi=%{y}\\u003cbr\\u003esize=%{customdata[0]}\\u003cbr\\u003ept=%{customdata[1]}\\u003cbr\\u003ename=%{customdata[2]}\\u003cextra\\u003e\\u003c\\u002fextra\\u003e\",\"legendgroup\":\"b\",\"marker\":{\"color\":\"#19d3f3\",\"size\":[0.1825980801776182,0.49232530603749214,0.2895202493898815,0.21055851181430413,0.7993998836054387,0.27915089375761964,0.15451258167856602,0.24220162110866092,0.4212090159808707,0.32016302425882254,0.6021015239985481,0.6442011272510365,0.2811722776498722,0.30634061198183316,0.19675628308768106,0.2726465839823394,0.7344910835464897,0.47562134876446893,0.18087725951533226,0.2330020121006948,0.23763265393573535,0.4207747554256638,0.35692140977889253,0.29747766323254654,0.6289581079399845,0.29148951836081033,0.3109160498866982,0.1432445800800331,0.5207068423918775,0.3405935988067287,0.43997428800203875,0.33593109781459213],\"sizemode\":\"area\",\"sizeref\":0.0027500000000000003,\"symbol\":\"circle\"},\"mode\":\"markers\",\"name\":\"b\",\"orientation\":\"v\",\"showlegend\":true,\"x\":[-0.12200942952851954,-0.6018038483132429,-0.8942139647878112,-0.5627865991344135,-0.8697361933559726,0.1919823167478875,-0.8119423446764203,-1.0300436398426214,-1.0767158982257834,-0.8476867792010985,-0.9528583239946616,-1.0195281512761725,-0.3218459183314275,-0.39065244800217314,-0.18851980564628176,-0.753768626775971,-0.9809483012453731,-0.9994918951990085,-0.9443506273597461,-1.1439321258381578,-0.8054199216970422,-0.7547714475092713,-0.2696432757728299,-0.4087878664842612,-0.010624564393947359,-0.1472598233805607,-0.9849956860127183,-1.0951988786968334,-0.11725402677190329,-0.31444214188639313,-0.13299102776753868,0.018316057378044297],\"xaxis\":\"x\",\"y\":[-0.6015442701755671,-0.5719183080618073,-0.5685856139125681,-0.5830730687549025,-0.5700137611104764,-0.6089903278854982,-0.46870889881098243,-0.6302889768080241,-0.48361573462899843,-0.6013544802802557,-0.5584465621925526,-0.5620492160188543,-0.5625861845820115,-0.6620654144814547,-0.5500401112381719,-0.5538852584482807,-0.5677470561391389,-0.5642867492995441,-0.5325698689760296,-0.521700108208914,-0.6446771746347835,-0.62062796235702,-0.518826583108503,-0.5120407803313082,-0.5085282188011232,-0.5610596887812929,-0.4889236841798168,-0.5195216179966801,-0.5009167358647044,-0.5052763110718521,-0.6069223443984827,-0.50872757870773],\"yaxis\":\"y\",\"type\":\"scatter\"}],                        {\"template\":{\"data\":{\"histogram2dcontour\":[{\"type\":\"histogram2dcontour\",\"colorbar\":{\"outlinewidth\":0,\"ticks\":\"\"},\"colorscale\":[[0.0,\"#0d0887\"],[0.1111111111111111,\"#46039f\"],[0.2222222222222222,\"#7201a8\"],[0.3333333333333333,\"#9c179e\"],[0.4444444444444444,\"#bd3786\"],[0.5555555555555556,\"#d8576b\"],[0.6666666666666666,\"#ed7953\"],[0.7777777777777778,\"#fb9f3a\"],[0.8888888888888888,\"#fdca26\"],[1.0,\"#f0f921\"]]}],\"choropleth\":[{\"type\":\"choropleth\",\"colorbar\":{\"outlinewidth\":0,\"ticks\":\"\"}}],\"histogram2d\":[{\"type\":\"histogram2d\",\"colorbar\":{\"outlinewidth\":0,\"ticks\":\"\"},\"colorscale\":[[0.0,\"#0d0887\"],[0.1111111111111111,\"#46039f\"],[0.2222222222222222,\"#7201a8\"],[0.3333333333333333,\"#9c179e\"],[0.4444444444444444,\"#bd3786\"],[0.5555555555555556,\"#d8576b\"],[0.6666666666666666,\"#ed7953\"],[0.7777777777777778,\"#fb9f3a\"],[0.8888888888888888,\"#fdca26\"],[1.0,\"#f0f921\"]]}],\"heatmap\":[{\"type\":\"heatmap\",\"colorbar\":{\"outlinewidth\":0,\"ticks\":\"\"},\"colorscale\":[[0.0,\"#0d0887\"],[0.1111111111111111,\"#46039f\"],[0.2222222222222222,\"#7201a8\"],[0.3333333333333333,\"#9c179e\"],[0.4444444444444444,\"#bd3786\"],[0.5555555555555556,\"#d8576b\"],[0.6666666666666666,\"#ed7953\"],[0.7777777777777778,\"#fb9f3a\"],[0.8888888888888888,\"#fdca26\"],[1.0,\"#f0f921\"]]}],\"heatmapgl\":[{\"type\":\"heatmapgl\",\"colorbar\":{\"outlinewidth\":0,\"ticks\":\"\"},\"colorscale\":[[0.0,\"#0d0887\"],[0.1111111111111111,\"#46039f\"],[0.2222222222222222,\"#7201a8\"],[0.3333333333333333,\"#9c179e\"],[0.4444444444444444,\"#bd3786\"],[0.5555555555555556,\"#d8576b\"],[0.6666666666666666,\"#ed7953\"],[0.7777777777777778,\"#fb9f3a\"],[0.8888888888888888,\"#fdca26\"],[1.0,\"#f0f921\"]]}],\"contourcarpet\":[{\"type\":\"contourcarpet\",\"colorbar\":{\"outlinewidth\":0,\"ticks\":\"\"}}],\"contour\":[{\"type\":\"contour\",\"colorbar\":{\"outlinewidth\":0,\"ticks\":\"\"},\"colorscale\":[[0.0,\"#0d0887\"],[0.1111111111111111,\"#46039f\"],[0.2222222222222222,\"#7201a8\"],[0.3333333333333333,\"#9c179e\"],[0.4444444444444444,\"#bd3786\"],[0.5555555555555556,\"#d8576b\"],[0.6666666666666666,\"#ed7953\"],[0.7777777777777778,\"#fb9f3a\"],[0.8888888888888888,\"#fdca26\"],[1.0,\"#f0f921\"]]}],\"surface\":[{\"type\":\"surface\",\"colorbar\":{\"outlinewidth\":0,\"ticks\":\"\"},\"colorscale\":[[0.0,\"#0d0887\"],[0.1111111111111111,\"#46039f\"],[0.2222222222222222,\"#7201a8\"],[0.3333333333333333,\"#9c179e\"],[0.4444444444444444,\"#bd3786\"],[0.5555555555555556,\"#d8576b\"],[0.6666666666666666,\"#ed7953\"],[0.7777777777777778,\"#fb9f3a\"],[0.8888888888888888,\"#fdca26\"],[1.0,\"#f0f921\"]]}],\"mesh3d\":[{\"type\":\"mesh3d\",\"colorbar\":{\"outlinewidth\":0,\"ticks\":\"\"}}],\"scatter\":[{\"fillpattern\":{\"fillmode\":\"overlay\",\"size\":10,\"solidity\":0.2},\"type\":\"scatter\"}],\"parcoords\":[{\"type\":\"parcoords\",\"line\":{\"colorbar\":{\"outlinewidth\":0,\"ticks\":\"\"}}}],\"scatterpolargl\":[{\"type\":\"scatterpolargl\",\"marker\":{\"colorbar\":{\"outlinewidth\":0,\"ticks\":\"\"}}}],\"bar\":[{\"error_x\":{\"color\":\"#2a3f5f\"},\"error_y\":{\"color\":\"#2a3f5f\"},\"marker\":{\"line\":{\"color\":\"#E5ECF6\",\"width\":0.5},\"pattern\":{\"fillmode\":\"overlay\",\"size\":10,\"solidity\":0.2}},\"type\":\"bar\"}],\"scattergeo\":[{\"type\":\"scattergeo\",\"marker\":{\"colorbar\":{\"outlinewidth\":0,\"ticks\":\"\"}}}],\"scatterpolar\":[{\"type\":\"scatterpolar\",\"marker\":{\"colorbar\":{\"outlinewidth\":0,\"ticks\":\"\"}}}],\"histogram\":[{\"marker\":{\"pattern\":{\"fillmode\":\"overlay\",\"size\":10,\"solidity\":0.2}},\"type\":\"histogram\"}],\"scattergl\":[{\"type\":\"scattergl\",\"marker\":{\"colorbar\":{\"outlinewidth\":0,\"ticks\":\"\"}}}],\"scatter3d\":[{\"type\":\"scatter3d\",\"line\":{\"colorbar\":{\"outlinewidth\":0,\"ticks\":\"\"}},\"marker\":{\"colorbar\":{\"outlinewidth\":0,\"ticks\":\"\"}}}],\"scattermapbox\":[{\"type\":\"scattermapbox\",\"marker\":{\"colorbar\":{\"outlinewidth\":0,\"ticks\":\"\"}}}],\"scatterternary\":[{\"type\":\"scatterternary\",\"marker\":{\"colorbar\":{\"outlinewidth\":0,\"ticks\":\"\"}}}],\"scattercarpet\":[{\"type\":\"scattercarpet\",\"marker\":{\"colorbar\":{\"outlinewidth\":0,\"ticks\":\"\"}}}],\"carpet\":[{\"aaxis\":{\"endlinecolor\":\"#2a3f5f\",\"gridcolor\":\"white\",\"linecolor\":\"white\",\"minorgridcolor\":\"white\",\"startlinecolor\":\"#2a3f5f\"},\"baxis\":{\"endlinecolor\":\"#2a3f5f\",\"gridcolor\":\"white\",\"linecolor\":\"white\",\"minorgridcolor\":\"white\",\"startlinecolor\":\"#2a3f5f\"},\"type\":\"carpet\"}],\"table\":[{\"cells\":{\"fill\":{\"color\":\"#EBF0F8\"},\"line\":{\"color\":\"white\"}},\"header\":{\"fill\":{\"color\":\"#C8D4E3\"},\"line\":{\"color\":\"white\"}},\"type\":\"table\"}],\"barpolar\":[{\"marker\":{\"line\":{\"color\":\"#E5ECF6\",\"width\":0.5},\"pattern\":{\"fillmode\":\"overlay\",\"size\":10,\"solidity\":0.2}},\"type\":\"barpolar\"}],\"pie\":[{\"automargin\":true,\"type\":\"pie\"}]},\"layout\":{\"autotypenumbers\":\"strict\",\"colorway\":[\"#636efa\",\"#EF553B\",\"#00cc96\",\"#ab63fa\",\"#FFA15A\",\"#19d3f3\",\"#FF6692\",\"#B6E880\",\"#FF97FF\",\"#FECB52\"],\"font\":{\"color\":\"#2a3f5f\"},\"hovermode\":\"closest\",\"hoverlabel\":{\"align\":\"left\"},\"paper_bgcolor\":\"white\",\"plot_bgcolor\":\"#E5ECF6\",\"polar\":{\"bgcolor\":\"#E5ECF6\",\"angularaxis\":{\"gridcolor\":\"white\",\"linecolor\":\"white\",\"ticks\":\"\"},\"radialaxis\":{\"gridcolor\":\"white\",\"linecolor\":\"white\",\"ticks\":\"\"}},\"ternary\":{\"bgcolor\":\"#E5ECF6\",\"aaxis\":{\"gridcolor\":\"white\",\"linecolor\":\"white\",\"ticks\":\"\"},\"baxis\":{\"gridcolor\":\"white\",\"linecolor\":\"white\",\"ticks\":\"\"},\"caxis\":{\"gridcolor\":\"white\",\"linecolor\":\"white\",\"ticks\":\"\"}},\"coloraxis\":{\"colorbar\":{\"outlinewidth\":0,\"ticks\":\"\"}},\"colorscale\":{\"sequential\":[[0.0,\"#0d0887\"],[0.1111111111111111,\"#46039f\"],[0.2222222222222222,\"#7201a8\"],[0.3333333333333333,\"#9c179e\"],[0.4444444444444444,\"#bd3786\"],[0.5555555555555556,\"#d8576b\"],[0.6666666666666666,\"#ed7953\"],[0.7777777777777778,\"#fb9f3a\"],[0.8888888888888888,\"#fdca26\"],[1.0,\"#f0f921\"]],\"sequentialminus\":[[0.0,\"#0d0887\"],[0.1111111111111111,\"#46039f\"],[0.2222222222222222,\"#7201a8\"],[0.3333333333333333,\"#9c179e\"],[0.4444444444444444,\"#bd3786\"],[0.5555555555555556,\"#d8576b\"],[0.6666666666666666,\"#ed7953\"],[0.7777777777777778,\"#fb9f3a\"],[0.8888888888888888,\"#fdca26\"],[1.0,\"#f0f921\"]],\"diverging\":[[0,\"#8e0152\"],[0.1,\"#c51b7d\"],[0.2,\"#de77ae\"],[0.3,\"#f1b6da\"],[0.4,\"#fde0ef\"],[0.5,\"#f7f7f7\"],[0.6,\"#e6f5d0\"],[0.7,\"#b8e186\"],[0.8,\"#7fbc41\"],[0.9,\"#4d9221\"],[1,\"#276419\"]]},\"xaxis\":{\"gridcolor\":\"white\",\"linecolor\":\"white\",\"ticks\":\"\",\"title\":{\"standoff\":15},\"zerolinecolor\":\"white\",\"automargin\":true,\"zerolinewidth\":2},\"yaxis\":{\"gridcolor\":\"white\",\"linecolor\":\"white\",\"ticks\":\"\",\"title\":{\"standoff\":15},\"zerolinecolor\":\"white\",\"automargin\":true,\"zerolinewidth\":2},\"scene\":{\"xaxis\":{\"backgroundcolor\":\"#E5ECF6\",\"gridcolor\":\"white\",\"linecolor\":\"white\",\"showbackground\":true,\"ticks\":\"\",\"zerolinecolor\":\"white\",\"gridwidth\":2},\"yaxis\":{\"backgroundcolor\":\"#E5ECF6\",\"gridcolor\":\"white\",\"linecolor\":\"white\",\"showbackground\":true,\"ticks\":\"\",\"zerolinecolor\":\"white\",\"gridwidth\":2},\"zaxis\":{\"backgroundcolor\":\"#E5ECF6\",\"gridcolor\":\"white\",\"linecolor\":\"white\",\"showbackground\":true,\"ticks\":\"\",\"zerolinecolor\":\"white\",\"gridwidth\":2}},\"shapedefaults\":{\"line\":{\"color\":\"#2a3f5f\"}},\"annotationdefaults\":{\"arrowcolor\":\"#2a3f5f\",\"arrowhead\":0,\"arrowwidth\":1},\"geo\":{\"bgcolor\":\"white\",\"landcolor\":\"#E5ECF6\",\"subunitcolor\":\"white\",\"showland\":true,\"showlakes\":true,\"lakecolor\":\"white\"},\"title\":{\"x\":0.05},\"mapbox\":{\"style\":\"light\"}}},\"xaxis\":{\"anchor\":\"y\",\"domain\":[0.0,1.0],\"title\":{\"text\":\"$\\\\eta\\\\;\\\\; (\\\\text{rad})$\"}},\"yaxis\":{\"anchor\":\"x\",\"domain\":[0.0,1.0],\"title\":{\"text\":\"$\\\\phi\\\\;\\\\; (\\\\pi \\\\text{ rad})$\"}},\"legend\":{\"title\":{\"text\":\"group\"},\"tracegroupgap\":0,\"itemsizing\":\"constant\"},\"margin\":{\"t\":60}},                        {\"responsive\": true}                    ).then(function(){\n",
       "                            \n",
       "var gd = document.getElementById('274ac80f-9d68-48b6-ac23-83eb9234a9c8');\n",
       "var x = new MutationObserver(function (mutations, observer) {{\n",
       "        var display = window.getComputedStyle(gd).display;\n",
       "        if (!display || display === 'none') {{\n",
       "            console.log([gd, 'removed!']);\n",
       "            Plotly.purge(gd);\n",
       "            observer.disconnect();\n",
       "        }}\n",
       "}});\n",
       "\n",
       "// Listen for the removal of the full notebook cells\n",
       "var notebookContainer = gd.closest('#notebook-container');\n",
       "if (notebookContainer) {{\n",
       "    x.observe(notebookContainer, {childList: true});\n",
       "}}\n",
       "\n",
       "// Listen for the clearing of the current output cell\n",
       "var outputEl = gd.closest('.output');\n",
       "if (outputEl) {{\n",
       "    x.observe(outputEl, {childList: true});\n",
       "}}\n",
       "\n",
       "                        })                };                });            </script>        </div>"
      ]
     },
     "metadata": {},
     "output_type": "display_data"
    }
   ],
   "source": [
    "clusters = gcl.select.clusters(graph, radius=1.0)\n",
    "fig = csp.eta_phi_scatter(\n",
    "    pmu=final_graph.pmu,\n",
    "    pdg=final_graph.pdg,\n",
    "    masks=clusters,\n",
    "    pt_min=0.5,\n",
    ")\n",
    "fig.show()"
   ]
  },
  {
   "cell_type": "code",
   "execution_count": 201,
   "id": "1aff900a-4a5c-42ef-9f4c-8bb85bbf5022",
   "metadata": {
    "tags": []
   },
   "outputs": [
    {
     "data": {
      "text/plain": [
       "array([172.86560878])"
      ]
     },
     "execution_count": 201,
     "metadata": {},
     "output_type": "execute_result"
    }
   ],
   "source": [
    "tbar_constit_pmu = final_graph.pmu[clusters[\"t\"]]\n",
    "tbar_recon_pmu = np.sum(tbar_constit_pmu, axis=0)\n",
    "tbar_recon_pmu.mass"
   ]
  },
  {
   "cell_type": "markdown",
   "id": "76a9313d-b90d-492e-97f2-b05f271a2b53",
   "metadata": {},
   "source": [
    "- Constant memory histogramming functionality is available through `Hisogram`, and various functions"
   ]
  },
  {
   "cell_type": "code",
   "execution_count": 202,
   "id": "4d673899-cece-4f8f-a42d-bdec3de48cca",
   "metadata": {
    "tags": []
   },
   "outputs": [
    {
     "name": "stderr",
     "output_type": "stream",
     "text": [
      "100%|██████████████████████████████████████████████████████████▉| 9999/10000 [06:55<00:00, 24.06it/s]\n"
     ]
    }
   ],
   "source": [
    "hist = csp.Histogram(num_bins=100, window=(150, 190))\n",
    "for event in tqdm(gen):\n",
    "    graph = gcl.Graphicle.from_event(event)\n",
    "    clusters = gcl.select.clusters(graph, radius=1.0)\n",
    "    # access the top mask, regardless if anti-particle or not\n",
    "    t_mask = clusters.get(\"t\", None)\n",
    "    if t_mask is None:\n",
    "        t_mask = clusters[\"t~\"]\n",
    "    final_graph = graph[graph.final]\n",
    "    t_constit_pmu = final_graph.pmu[t_mask]\n",
    "    t_recon_pmu = np.sum(t_constit_pmu, axis=0)\n",
    "    mass = t_recon_pmu.mass.item()\n",
    "    hist.update(mass)"
   ]
  },
  {
   "cell_type": "code",
   "execution_count": 208,
   "id": "39456b12-f177-41a8-bc12-97dcc137a517",
   "metadata": {
    "tags": []
   },
   "outputs": [
    {
     "data": {
      "application/vnd.plotly.v1+json": {
       "config": {
        "plotlyServerURL": "https://plot.ly"
       },
       "data": [
        {
         "alignmentgroup": "True",
         "hovertemplate": "variable=Monte-Carlo truth mass<br>x=%{x}<br>Probability density=%{y}<extra></extra>",
         "legendgroup": "Monte-Carlo truth mass",
         "marker": {
          "color": "#636efa",
          "opacity": 0.6,
          "pattern": {
           "shape": ""
          }
         },
         "name": "Monte-Carlo truth mass",
         "offsetgroup": "Monte-Carlo truth mass",
         "orientation": "v",
         "showlegend": true,
         "textposition": "auto",
         "type": "bar",
         "x": [
          150.2,
          150.60000000000002,
          151,
          151.39999999999998,
          151.8,
          152.2,
          152.60000000000002,
          153,
          153.39999999999998,
          153.8,
          154.2,
          154.60000000000002,
          155,
          155.39999999999998,
          155.8,
          156.2,
          156.60000000000002,
          157,
          157.39999999999998,
          157.8,
          158.2,
          158.60000000000002,
          159,
          159.39999999999998,
          159.8,
          160.2,
          160.60000000000002,
          161,
          161.39999999999998,
          161.8,
          162.2,
          162.60000000000002,
          163,
          163.39999999999998,
          163.8,
          164.2,
          164.60000000000002,
          165,
          165.39999999999998,
          165.8,
          166.2,
          166.60000000000002,
          167,
          167.39999999999998,
          167.8,
          168.2,
          168.60000000000002,
          169,
          169.39999999999998,
          169.8,
          170.2,
          170.60000000000002,
          171,
          171.39999999999998,
          171.8,
          172.2,
          172.60000000000002,
          173,
          173.39999999999998,
          173.8,
          174.2,
          174.60000000000002,
          175,
          175.39999999999998,
          175.8,
          176.2,
          176.60000000000002,
          177,
          177.39999999999998,
          177.8,
          178.2,
          178.60000000000002,
          179,
          179.39999999999998,
          179.8,
          180.2,
          180.60000000000002,
          181,
          181.39999999999998,
          181.8,
          182.2,
          182.60000000000002,
          183,
          183.39999999999998,
          183.8,
          184.2,
          184.60000000000002,
          185,
          185.39999999999998,
          185.8,
          186.2,
          186.60000000000002,
          187,
          187.39999999999998,
          187.8,
          188.2,
          188.60000000000002,
          189,
          189.39999999999998,
          189.8
         ],
         "xaxis": "x",
         "y": [
          0.00125012501250125,
          0.00225022502250225,
          0.00225022502250225,
          0.0035003500350035,
          0.003000300030003,
          0.00275027502750275,
          0.00275027502750275,
          0.0035003500350035,
          0.00175017501750175,
          0.00225022502250225,
          0.00325032503250325,
          0.00425042504250425,
          0.00325032503250325,
          0.0035003500350035,
          0.00575057505750575,
          0.00475047504750475,
          0.0045004500450045,
          0.00375037503750375,
          0.0045004500450045,
          0.00725072507250725,
          0.0045004500450045,
          0.00625062506250625,
          0.00625062506250625,
          0.007000700070007,
          0.00575057505750575,
          0.00775077507750775,
          0.0067506750675067504,
          0.009000900090009,
          0.00725072507250725,
          0.007000700070007,
          0.00825082508250825,
          0.0105010501050105,
          0.00975097509750975,
          0.01025102510251025,
          0.00925092509250925,
          0.01225122512251225,
          0.01325132513251325,
          0.01025102510251025,
          0.01375137513751375,
          0.01475147514751475,
          0.01675167516751675,
          0.0145014501450145,
          0.01875187518751875,
          0.0225022502250225,
          0.02175217521752175,
          0.02575257525752575,
          0.0285028502850285,
          0.0335033503350335,
          0.041254125412541254,
          0.04575457545754575,
          0.04925492549254925,
          0.07025702570257025,
          0.07875787578757876,
          0.1005100510051005,
          0.12026202620262025,
          0.15526552655265524,
          0.16376637663766375,
          0.17876787678767875,
          0.174017401740174,
          0.13876387638763876,
          0.1305130513051305,
          0.09525952595259525,
          0.07575757575757575,
          0.0605060506050605,
          0.051005100510051,
          0.036003600360036,
          0.03025302530253025,
          0.0255025502550255,
          0.02175217521752175,
          0.013501350135013501,
          0.01425142514251425,
          0.01075107510751075,
          0.01025102510251025,
          0.008000800080008,
          0.0065006500650065,
          0.00525052505250525,
          0.006000600060006,
          0.00575057505750575,
          0.00325032503250325,
          0.00175017501750175,
          0.0035003500350035,
          0.0025002500250025,
          0.003000300030003,
          0.00325032503250325,
          0.00225022502250225,
          0.0015001500150015,
          0.002000200020002,
          0.00225022502250225,
          0.001000100010001,
          0.0015001500150015,
          0.00125012501250125,
          0.001000100010001,
          0.00075007500750075,
          0.00225022502250225,
          0.001000100010001,
          0.00075007500750075,
          0.001000100010001,
          0.0005000500050005,
          0.001000100010001,
          0.00175017501750175
         ],
         "yaxis": "y"
        }
       ],
       "layout": {
        "autosize": true,
        "barmode": "overlay",
        "legend": {
         "title": {
          "text": "variable"
         },
         "tracegroupgap": 0
        },
        "template": {
         "data": {
          "bar": [
           {
            "error_x": {
             "color": "#2a3f5f"
            },
            "error_y": {
             "color": "#2a3f5f"
            },
            "marker": {
             "line": {
              "color": "#E5ECF6",
              "width": 0.5
             },
             "pattern": {
              "fillmode": "overlay",
              "size": 10,
              "solidity": 0.2
             }
            },
            "type": "bar"
           }
          ],
          "barpolar": [
           {
            "marker": {
             "line": {
              "color": "#E5ECF6",
              "width": 0.5
             },
             "pattern": {
              "fillmode": "overlay",
              "size": 10,
              "solidity": 0.2
             }
            },
            "type": "barpolar"
           }
          ],
          "carpet": [
           {
            "aaxis": {
             "endlinecolor": "#2a3f5f",
             "gridcolor": "white",
             "linecolor": "white",
             "minorgridcolor": "white",
             "startlinecolor": "#2a3f5f"
            },
            "baxis": {
             "endlinecolor": "#2a3f5f",
             "gridcolor": "white",
             "linecolor": "white",
             "minorgridcolor": "white",
             "startlinecolor": "#2a3f5f"
            },
            "type": "carpet"
           }
          ],
          "choropleth": [
           {
            "colorbar": {
             "outlinewidth": 0,
             "ticks": ""
            },
            "type": "choropleth"
           }
          ],
          "contour": [
           {
            "colorbar": {
             "outlinewidth": 0,
             "ticks": ""
            },
            "colorscale": [
             [
              0,
              "#0d0887"
             ],
             [
              0.1111111111111111,
              "#46039f"
             ],
             [
              0.2222222222222222,
              "#7201a8"
             ],
             [
              0.3333333333333333,
              "#9c179e"
             ],
             [
              0.4444444444444444,
              "#bd3786"
             ],
             [
              0.5555555555555556,
              "#d8576b"
             ],
             [
              0.6666666666666666,
              "#ed7953"
             ],
             [
              0.7777777777777778,
              "#fb9f3a"
             ],
             [
              0.8888888888888888,
              "#fdca26"
             ],
             [
              1,
              "#f0f921"
             ]
            ],
            "type": "contour"
           }
          ],
          "contourcarpet": [
           {
            "colorbar": {
             "outlinewidth": 0,
             "ticks": ""
            },
            "type": "contourcarpet"
           }
          ],
          "heatmap": [
           {
            "colorbar": {
             "outlinewidth": 0,
             "ticks": ""
            },
            "colorscale": [
             [
              0,
              "#0d0887"
             ],
             [
              0.1111111111111111,
              "#46039f"
             ],
             [
              0.2222222222222222,
              "#7201a8"
             ],
             [
              0.3333333333333333,
              "#9c179e"
             ],
             [
              0.4444444444444444,
              "#bd3786"
             ],
             [
              0.5555555555555556,
              "#d8576b"
             ],
             [
              0.6666666666666666,
              "#ed7953"
             ],
             [
              0.7777777777777778,
              "#fb9f3a"
             ],
             [
              0.8888888888888888,
              "#fdca26"
             ],
             [
              1,
              "#f0f921"
             ]
            ],
            "type": "heatmap"
           }
          ],
          "heatmapgl": [
           {
            "colorbar": {
             "outlinewidth": 0,
             "ticks": ""
            },
            "colorscale": [
             [
              0,
              "#0d0887"
             ],
             [
              0.1111111111111111,
              "#46039f"
             ],
             [
              0.2222222222222222,
              "#7201a8"
             ],
             [
              0.3333333333333333,
              "#9c179e"
             ],
             [
              0.4444444444444444,
              "#bd3786"
             ],
             [
              0.5555555555555556,
              "#d8576b"
             ],
             [
              0.6666666666666666,
              "#ed7953"
             ],
             [
              0.7777777777777778,
              "#fb9f3a"
             ],
             [
              0.8888888888888888,
              "#fdca26"
             ],
             [
              1,
              "#f0f921"
             ]
            ],
            "type": "heatmapgl"
           }
          ],
          "histogram": [
           {
            "marker": {
             "pattern": {
              "fillmode": "overlay",
              "size": 10,
              "solidity": 0.2
             }
            },
            "type": "histogram"
           }
          ],
          "histogram2d": [
           {
            "colorbar": {
             "outlinewidth": 0,
             "ticks": ""
            },
            "colorscale": [
             [
              0,
              "#0d0887"
             ],
             [
              0.1111111111111111,
              "#46039f"
             ],
             [
              0.2222222222222222,
              "#7201a8"
             ],
             [
              0.3333333333333333,
              "#9c179e"
             ],
             [
              0.4444444444444444,
              "#bd3786"
             ],
             [
              0.5555555555555556,
              "#d8576b"
             ],
             [
              0.6666666666666666,
              "#ed7953"
             ],
             [
              0.7777777777777778,
              "#fb9f3a"
             ],
             [
              0.8888888888888888,
              "#fdca26"
             ],
             [
              1,
              "#f0f921"
             ]
            ],
            "type": "histogram2d"
           }
          ],
          "histogram2dcontour": [
           {
            "colorbar": {
             "outlinewidth": 0,
             "ticks": ""
            },
            "colorscale": [
             [
              0,
              "#0d0887"
             ],
             [
              0.1111111111111111,
              "#46039f"
             ],
             [
              0.2222222222222222,
              "#7201a8"
             ],
             [
              0.3333333333333333,
              "#9c179e"
             ],
             [
              0.4444444444444444,
              "#bd3786"
             ],
             [
              0.5555555555555556,
              "#d8576b"
             ],
             [
              0.6666666666666666,
              "#ed7953"
             ],
             [
              0.7777777777777778,
              "#fb9f3a"
             ],
             [
              0.8888888888888888,
              "#fdca26"
             ],
             [
              1,
              "#f0f921"
             ]
            ],
            "type": "histogram2dcontour"
           }
          ],
          "mesh3d": [
           {
            "colorbar": {
             "outlinewidth": 0,
             "ticks": ""
            },
            "type": "mesh3d"
           }
          ],
          "parcoords": [
           {
            "line": {
             "colorbar": {
              "outlinewidth": 0,
              "ticks": ""
             }
            },
            "type": "parcoords"
           }
          ],
          "pie": [
           {
            "automargin": true,
            "type": "pie"
           }
          ],
          "scatter": [
           {
            "fillpattern": {
             "fillmode": "overlay",
             "size": 10,
             "solidity": 0.2
            },
            "type": "scatter"
           }
          ],
          "scatter3d": [
           {
            "line": {
             "colorbar": {
              "outlinewidth": 0,
              "ticks": ""
             }
            },
            "marker": {
             "colorbar": {
              "outlinewidth": 0,
              "ticks": ""
             }
            },
            "type": "scatter3d"
           }
          ],
          "scattercarpet": [
           {
            "marker": {
             "colorbar": {
              "outlinewidth": 0,
              "ticks": ""
             }
            },
            "type": "scattercarpet"
           }
          ],
          "scattergeo": [
           {
            "marker": {
             "colorbar": {
              "outlinewidth": 0,
              "ticks": ""
             }
            },
            "type": "scattergeo"
           }
          ],
          "scattergl": [
           {
            "marker": {
             "colorbar": {
              "outlinewidth": 0,
              "ticks": ""
             }
            },
            "type": "scattergl"
           }
          ],
          "scattermapbox": [
           {
            "marker": {
             "colorbar": {
              "outlinewidth": 0,
              "ticks": ""
             }
            },
            "type": "scattermapbox"
           }
          ],
          "scatterpolar": [
           {
            "marker": {
             "colorbar": {
              "outlinewidth": 0,
              "ticks": ""
             }
            },
            "type": "scatterpolar"
           }
          ],
          "scatterpolargl": [
           {
            "marker": {
             "colorbar": {
              "outlinewidth": 0,
              "ticks": ""
             }
            },
            "type": "scatterpolargl"
           }
          ],
          "scatterternary": [
           {
            "marker": {
             "colorbar": {
              "outlinewidth": 0,
              "ticks": ""
             }
            },
            "type": "scatterternary"
           }
          ],
          "surface": [
           {
            "colorbar": {
             "outlinewidth": 0,
             "ticks": ""
            },
            "colorscale": [
             [
              0,
              "#0d0887"
             ],
             [
              0.1111111111111111,
              "#46039f"
             ],
             [
              0.2222222222222222,
              "#7201a8"
             ],
             [
              0.3333333333333333,
              "#9c179e"
             ],
             [
              0.4444444444444444,
              "#bd3786"
             ],
             [
              0.5555555555555556,
              "#d8576b"
             ],
             [
              0.6666666666666666,
              "#ed7953"
             ],
             [
              0.7777777777777778,
              "#fb9f3a"
             ],
             [
              0.8888888888888888,
              "#fdca26"
             ],
             [
              1,
              "#f0f921"
             ]
            ],
            "type": "surface"
           }
          ],
          "table": [
           {
            "cells": {
             "fill": {
              "color": "#EBF0F8"
             },
             "line": {
              "color": "white"
             }
            },
            "header": {
             "fill": {
              "color": "#C8D4E3"
             },
             "line": {
              "color": "white"
             }
            },
            "type": "table"
           }
          ]
         },
         "layout": {
          "annotationdefaults": {
           "arrowcolor": "#2a3f5f",
           "arrowhead": 0,
           "arrowwidth": 1
          },
          "autotypenumbers": "strict",
          "coloraxis": {
           "colorbar": {
            "outlinewidth": 0,
            "ticks": ""
           }
          },
          "colorscale": {
           "diverging": [
            [
             0,
             "#8e0152"
            ],
            [
             0.1,
             "#c51b7d"
            ],
            [
             0.2,
             "#de77ae"
            ],
            [
             0.3,
             "#f1b6da"
            ],
            [
             0.4,
             "#fde0ef"
            ],
            [
             0.5,
             "#f7f7f7"
            ],
            [
             0.6,
             "#e6f5d0"
            ],
            [
             0.7,
             "#b8e186"
            ],
            [
             0.8,
             "#7fbc41"
            ],
            [
             0.9,
             "#4d9221"
            ],
            [
             1,
             "#276419"
            ]
           ],
           "sequential": [
            [
             0,
             "#0d0887"
            ],
            [
             0.1111111111111111,
             "#46039f"
            ],
            [
             0.2222222222222222,
             "#7201a8"
            ],
            [
             0.3333333333333333,
             "#9c179e"
            ],
            [
             0.4444444444444444,
             "#bd3786"
            ],
            [
             0.5555555555555556,
             "#d8576b"
            ],
            [
             0.6666666666666666,
             "#ed7953"
            ],
            [
             0.7777777777777778,
             "#fb9f3a"
            ],
            [
             0.8888888888888888,
             "#fdca26"
            ],
            [
             1,
             "#f0f921"
            ]
           ],
           "sequentialminus": [
            [
             0,
             "#0d0887"
            ],
            [
             0.1111111111111111,
             "#46039f"
            ],
            [
             0.2222222222222222,
             "#7201a8"
            ],
            [
             0.3333333333333333,
             "#9c179e"
            ],
            [
             0.4444444444444444,
             "#bd3786"
            ],
            [
             0.5555555555555556,
             "#d8576b"
            ],
            [
             0.6666666666666666,
             "#ed7953"
            ],
            [
             0.7777777777777778,
             "#fb9f3a"
            ],
            [
             0.8888888888888888,
             "#fdca26"
            ],
            [
             1,
             "#f0f921"
            ]
           ]
          },
          "colorway": [
           "#636efa",
           "#EF553B",
           "#00cc96",
           "#ab63fa",
           "#FFA15A",
           "#19d3f3",
           "#FF6692",
           "#B6E880",
           "#FF97FF",
           "#FECB52"
          ],
          "font": {
           "color": "#2a3f5f"
          },
          "geo": {
           "bgcolor": "white",
           "lakecolor": "white",
           "landcolor": "#E5ECF6",
           "showlakes": true,
           "showland": true,
           "subunitcolor": "white"
          },
          "hoverlabel": {
           "align": "left"
          },
          "hovermode": "closest",
          "mapbox": {
           "style": "light"
          },
          "paper_bgcolor": "white",
          "plot_bgcolor": "#E5ECF6",
          "polar": {
           "angularaxis": {
            "gridcolor": "white",
            "linecolor": "white",
            "ticks": ""
           },
           "bgcolor": "#E5ECF6",
           "radialaxis": {
            "gridcolor": "white",
            "linecolor": "white",
            "ticks": ""
           }
          },
          "scene": {
           "xaxis": {
            "backgroundcolor": "#E5ECF6",
            "gridcolor": "white",
            "gridwidth": 2,
            "linecolor": "white",
            "showbackground": true,
            "ticks": "",
            "zerolinecolor": "white"
           },
           "yaxis": {
            "backgroundcolor": "#E5ECF6",
            "gridcolor": "white",
            "gridwidth": 2,
            "linecolor": "white",
            "showbackground": true,
            "ticks": "",
            "zerolinecolor": "white"
           },
           "zaxis": {
            "backgroundcolor": "#E5ECF6",
            "gridcolor": "white",
            "gridwidth": 2,
            "linecolor": "white",
            "showbackground": true,
            "ticks": "",
            "zerolinecolor": "white"
           }
          },
          "shapedefaults": {
           "line": {
            "color": "#2a3f5f"
           }
          },
          "ternary": {
           "aaxis": {
            "gridcolor": "white",
            "linecolor": "white",
            "ticks": ""
           },
           "baxis": {
            "gridcolor": "white",
            "linecolor": "white",
            "ticks": ""
           },
           "bgcolor": "#E5ECF6",
           "caxis": {
            "gridcolor": "white",
            "linecolor": "white",
            "ticks": ""
           }
          },
          "title": {
           "x": 0.05
          },
          "xaxis": {
           "automargin": true,
           "gridcolor": "white",
           "linecolor": "white",
           "ticks": "",
           "title": {
            "standoff": 15
           },
           "zerolinecolor": "white",
           "zerolinewidth": 2
          },
          "yaxis": {
           "automargin": true,
           "gridcolor": "white",
           "linecolor": "white",
           "ticks": "",
           "title": {
            "standoff": 15
           },
           "zerolinecolor": "white",
           "zerolinewidth": 2
          }
         }
        },
        "title": {
         "text": "Monte-Carlo truth mass reconstruction for top quark"
        },
        "xaxis": {
         "anchor": "y",
         "autorange": true,
         "domain": [
          0,
          1
         ],
         "range": [
          150,
          190
         ],
         "title": {
          "text": "x"
         },
         "type": "linear"
        },
        "yaxis": {
         "anchor": "x",
         "autorange": true,
         "domain": [
          0,
          1
         ],
         "range": [
          0,
          0.1881767124080829
         ],
         "title": {
          "text": "Probability density"
         },
         "type": "linear"
        }
       }
      },
      "image/png": "[encoded data removed]",
      "text/html": [
       "<div>                            <div id=\"c8baca62-0313-485f-880a-61f248d4783e\" class=\"plotly-graph-div\" style=\"height:525px; width:100%;\"></div>            <script type=\"text/javascript\">                require([\"plotly\"], function(Plotly) {                    window.PLOTLYENV=window.PLOTLYENV || {};                                    if (document.getElementById(\"c8baca62-0313-485f-880a-61f248d4783e\")) {                    Plotly.newPlot(                        \"c8baca62-0313-485f-880a-61f248d4783e\",                        [{\"alignmentgroup\":\"True\",\"hovertemplate\":\"variable=Monte-Carlo truth mass\\u003cbr\\u003ex=%{x}\\u003cbr\\u003eProbability density=%{y}\\u003cextra\\u003e\\u003c\\u002fextra\\u003e\",\"legendgroup\":\"Monte-Carlo truth mass\",\"marker\":{\"color\":\"#636efa\",\"opacity\":0.6,\"pattern\":{\"shape\":\"\"}},\"name\":\"Monte-Carlo truth mass\",\"offsetgroup\":\"Monte-Carlo truth mass\",\"orientation\":\"v\",\"showlegend\":true,\"textposition\":\"auto\",\"x\":[150.2,150.60000000000002,151.0,151.39999999999998,151.8,152.2,152.60000000000002,153.0,153.39999999999998,153.8,154.2,154.60000000000002,155.0,155.39999999999998,155.8,156.2,156.60000000000002,157.0,157.39999999999998,157.8,158.2,158.60000000000002,159.0,159.39999999999998,159.8,160.2,160.60000000000002,161.0,161.39999999999998,161.8,162.2,162.60000000000002,163.0,163.39999999999998,163.8,164.2,164.60000000000002,165.0,165.39999999999998,165.8,166.2,166.60000000000002,167.0,167.39999999999998,167.8,168.2,168.60000000000002,169.0,169.39999999999998,169.8,170.2,170.60000000000002,171.0,171.39999999999998,171.8,172.2,172.60000000000002,173.0,173.39999999999998,173.8,174.2,174.60000000000002,175.0,175.39999999999998,175.8,176.2,176.60000000000002,177.0,177.39999999999998,177.8,178.2,178.60000000000002,179.0,179.39999999999998,179.8,180.2,180.60000000000002,181.0,181.39999999999998,181.8,182.2,182.60000000000002,183.0,183.39999999999998,183.8,184.2,184.60000000000002,185.0,185.39999999999998,185.8,186.2,186.60000000000002,187.0,187.39999999999998,187.8,188.2,188.60000000000002,189.0,189.39999999999998,189.8],\"xaxis\":\"x\",\"y\":[0.00125012501250125,0.00225022502250225,0.00225022502250225,0.0035003500350035,0.003000300030003,0.00275027502750275,0.00275027502750275,0.0035003500350035,0.00175017501750175,0.00225022502250225,0.00325032503250325,0.00425042504250425,0.00325032503250325,0.0035003500350035,0.00575057505750575,0.00475047504750475,0.0045004500450045,0.00375037503750375,0.0045004500450045,0.00725072507250725,0.0045004500450045,0.00625062506250625,0.00625062506250625,0.007000700070007,0.00575057505750575,0.00775077507750775,0.0067506750675067504,0.009000900090009,0.00725072507250725,0.007000700070007,0.00825082508250825,0.0105010501050105,0.00975097509750975,0.01025102510251025,0.00925092509250925,0.01225122512251225,0.01325132513251325,0.01025102510251025,0.01375137513751375,0.01475147514751475,0.01675167516751675,0.0145014501450145,0.01875187518751875,0.0225022502250225,0.02175217521752175,0.02575257525752575,0.0285028502850285,0.0335033503350335,0.041254125412541254,0.04575457545754575,0.04925492549254925,0.07025702570257025,0.07875787578757876,0.1005100510051005,0.12026202620262025,0.15526552655265524,0.16376637663766375,0.17876787678767875,0.174017401740174,0.13876387638763876,0.1305130513051305,0.09525952595259525,0.07575757575757575,0.0605060506050605,0.051005100510051,0.036003600360036,0.03025302530253025,0.0255025502550255,0.02175217521752175,0.013501350135013501,0.01425142514251425,0.01075107510751075,0.01025102510251025,0.008000800080008,0.0065006500650065,0.00525052505250525,0.006000600060006,0.00575057505750575,0.00325032503250325,0.00175017501750175,0.0035003500350035,0.0025002500250025,0.003000300030003,0.00325032503250325,0.00225022502250225,0.0015001500150015,0.002000200020002,0.00225022502250225,0.001000100010001,0.0015001500150015,0.00125012501250125,0.001000100010001,0.00075007500750075,0.00225022502250225,0.001000100010001,0.00075007500750075,0.001000100010001,0.0005000500050005,0.001000100010001,0.00175017501750175],\"yaxis\":\"y\",\"type\":\"bar\"}],                        {\"template\":{\"data\":{\"histogram2dcontour\":[{\"type\":\"histogram2dcontour\",\"colorbar\":{\"outlinewidth\":0,\"ticks\":\"\"},\"colorscale\":[[0.0,\"#0d0887\"],[0.1111111111111111,\"#46039f\"],[0.2222222222222222,\"#7201a8\"],[0.3333333333333333,\"#9c179e\"],[0.4444444444444444,\"#bd3786\"],[0.5555555555555556,\"#d8576b\"],[0.6666666666666666,\"#ed7953\"],[0.7777777777777778,\"#fb9f3a\"],[0.8888888888888888,\"#fdca26\"],[1.0,\"#f0f921\"]]}],\"choropleth\":[{\"type\":\"choropleth\",\"colorbar\":{\"outlinewidth\":0,\"ticks\":\"\"}}],\"histogram2d\":[{\"type\":\"histogram2d\",\"colorbar\":{\"outlinewidth\":0,\"ticks\":\"\"},\"colorscale\":[[0.0,\"#0d0887\"],[0.1111111111111111,\"#46039f\"],[0.2222222222222222,\"#7201a8\"],[0.3333333333333333,\"#9c179e\"],[0.4444444444444444,\"#bd3786\"],[0.5555555555555556,\"#d8576b\"],[0.6666666666666666,\"#ed7953\"],[0.7777777777777778,\"#fb9f3a\"],[0.8888888888888888,\"#fdca26\"],[1.0,\"#f0f921\"]]}],\"heatmap\":[{\"type\":\"heatmap\",\"colorbar\":{\"outlinewidth\":0,\"ticks\":\"\"},\"colorscale\":[[0.0,\"#0d0887\"],[0.1111111111111111,\"#46039f\"],[0.2222222222222222,\"#7201a8\"],[0.3333333333333333,\"#9c179e\"],[0.4444444444444444,\"#bd3786\"],[0.5555555555555556,\"#d8576b\"],[0.6666666666666666,\"#ed7953\"],[0.7777777777777778,\"#fb9f3a\"],[0.8888888888888888,\"#fdca26\"],[1.0,\"#f0f921\"]]}],\"heatmapgl\":[{\"type\":\"heatmapgl\",\"colorbar\":{\"outlinewidth\":0,\"ticks\":\"\"},\"colorscale\":[[0.0,\"#0d0887\"],[0.1111111111111111,\"#46039f\"],[0.2222222222222222,\"#7201a8\"],[0.3333333333333333,\"#9c179e\"],[0.4444444444444444,\"#bd3786\"],[0.5555555555555556,\"#d8576b\"],[0.6666666666666666,\"#ed7953\"],[0.7777777777777778,\"#fb9f3a\"],[0.8888888888888888,\"#fdca26\"],[1.0,\"#f0f921\"]]}],\"contourcarpet\":[{\"type\":\"contourcarpet\",\"colorbar\":{\"outlinewidth\":0,\"ticks\":\"\"}}],\"contour\":[{\"type\":\"contour\",\"colorbar\":{\"outlinewidth\":0,\"ticks\":\"\"},\"colorscale\":[[0.0,\"#0d0887\"],[0.1111111111111111,\"#46039f\"],[0.2222222222222222,\"#7201a8\"],[0.3333333333333333,\"#9c179e\"],[0.4444444444444444,\"#bd3786\"],[0.5555555555555556,\"#d8576b\"],[0.6666666666666666,\"#ed7953\"],[0.7777777777777778,\"#fb9f3a\"],[0.8888888888888888,\"#fdca26\"],[1.0,\"#f0f921\"]]}],\"surface\":[{\"type\":\"surface\",\"colorbar\":{\"outlinewidth\":0,\"ticks\":\"\"},\"colorscale\":[[0.0,\"#0d0887\"],[0.1111111111111111,\"#46039f\"],[0.2222222222222222,\"#7201a8\"],[0.3333333333333333,\"#9c179e\"],[0.4444444444444444,\"#bd3786\"],[0.5555555555555556,\"#d8576b\"],[0.6666666666666666,\"#ed7953\"],[0.7777777777777778,\"#fb9f3a\"],[0.8888888888888888,\"#fdca26\"],[1.0,\"#f0f921\"]]}],\"mesh3d\":[{\"type\":\"mesh3d\",\"colorbar\":{\"outlinewidth\":0,\"ticks\":\"\"}}],\"scatter\":[{\"fillpattern\":{\"fillmode\":\"overlay\",\"size\":10,\"solidity\":0.2},\"type\":\"scatter\"}],\"parcoords\":[{\"type\":\"parcoords\",\"line\":{\"colorbar\":{\"outlinewidth\":0,\"ticks\":\"\"}}}],\"scatterpolargl\":[{\"type\":\"scatterpolargl\",\"marker\":{\"colorbar\":{\"outlinewidth\":0,\"ticks\":\"\"}}}],\"bar\":[{\"error_x\":{\"color\":\"#2a3f5f\"},\"error_y\":{\"color\":\"#2a3f5f\"},\"marker\":{\"line\":{\"color\":\"#E5ECF6\",\"width\":0.5},\"pattern\":{\"fillmode\":\"overlay\",\"size\":10,\"solidity\":0.2}},\"type\":\"bar\"}],\"scattergeo\":[{\"type\":\"scattergeo\",\"marker\":{\"colorbar\":{\"outlinewidth\":0,\"ticks\":\"\"}}}],\"scatterpolar\":[{\"type\":\"scatterpolar\",\"marker\":{\"colorbar\":{\"outlinewidth\":0,\"ticks\":\"\"}}}],\"histogram\":[{\"marker\":{\"pattern\":{\"fillmode\":\"overlay\",\"size\":10,\"solidity\":0.2}},\"type\":\"histogram\"}],\"scattergl\":[{\"type\":\"scattergl\",\"marker\":{\"colorbar\":{\"outlinewidth\":0,\"ticks\":\"\"}}}],\"scatter3d\":[{\"type\":\"scatter3d\",\"line\":{\"colorbar\":{\"outlinewidth\":0,\"ticks\":\"\"}},\"marker\":{\"colorbar\":{\"outlinewidth\":0,\"ticks\":\"\"}}}],\"scattermapbox\":[{\"type\":\"scattermapbox\",\"marker\":{\"colorbar\":{\"outlinewidth\":0,\"ticks\":\"\"}}}],\"scatterternary\":[{\"type\":\"scatterternary\",\"marker\":{\"colorbar\":{\"outlinewidth\":0,\"ticks\":\"\"}}}],\"scattercarpet\":[{\"type\":\"scattercarpet\",\"marker\":{\"colorbar\":{\"outlinewidth\":0,\"ticks\":\"\"}}}],\"carpet\":[{\"aaxis\":{\"endlinecolor\":\"#2a3f5f\",\"gridcolor\":\"white\",\"linecolor\":\"white\",\"minorgridcolor\":\"white\",\"startlinecolor\":\"#2a3f5f\"},\"baxis\":{\"endlinecolor\":\"#2a3f5f\",\"gridcolor\":\"white\",\"linecolor\":\"white\",\"minorgridcolor\":\"white\",\"startlinecolor\":\"#2a3f5f\"},\"type\":\"carpet\"}],\"table\":[{\"cells\":{\"fill\":{\"color\":\"#EBF0F8\"},\"line\":{\"color\":\"white\"}},\"header\":{\"fill\":{\"color\":\"#C8D4E3\"},\"line\":{\"color\":\"white\"}},\"type\":\"table\"}],\"barpolar\":[{\"marker\":{\"line\":{\"color\":\"#E5ECF6\",\"width\":0.5},\"pattern\":{\"fillmode\":\"overlay\",\"size\":10,\"solidity\":0.2}},\"type\":\"barpolar\"}],\"pie\":[{\"automargin\":true,\"type\":\"pie\"}]},\"layout\":{\"autotypenumbers\":\"strict\",\"colorway\":[\"#636efa\",\"#EF553B\",\"#00cc96\",\"#ab63fa\",\"#FFA15A\",\"#19d3f3\",\"#FF6692\",\"#B6E880\",\"#FF97FF\",\"#FECB52\"],\"font\":{\"color\":\"#2a3f5f\"},\"hovermode\":\"closest\",\"hoverlabel\":{\"align\":\"left\"},\"paper_bgcolor\":\"white\",\"plot_bgcolor\":\"#E5ECF6\",\"polar\":{\"bgcolor\":\"#E5ECF6\",\"angularaxis\":{\"gridcolor\":\"white\",\"linecolor\":\"white\",\"ticks\":\"\"},\"radialaxis\":{\"gridcolor\":\"white\",\"linecolor\":\"white\",\"ticks\":\"\"}},\"ternary\":{\"bgcolor\":\"#E5ECF6\",\"aaxis\":{\"gridcolor\":\"white\",\"linecolor\":\"white\",\"ticks\":\"\"},\"baxis\":{\"gridcolor\":\"white\",\"linecolor\":\"white\",\"ticks\":\"\"},\"caxis\":{\"gridcolor\":\"white\",\"linecolor\":\"white\",\"ticks\":\"\"}},\"coloraxis\":{\"colorbar\":{\"outlinewidth\":0,\"ticks\":\"\"}},\"colorscale\":{\"sequential\":[[0.0,\"#0d0887\"],[0.1111111111111111,\"#46039f\"],[0.2222222222222222,\"#7201a8\"],[0.3333333333333333,\"#9c179e\"],[0.4444444444444444,\"#bd3786\"],[0.5555555555555556,\"#d8576b\"],[0.6666666666666666,\"#ed7953\"],[0.7777777777777778,\"#fb9f3a\"],[0.8888888888888888,\"#fdca26\"],[1.0,\"#f0f921\"]],\"sequentialminus\":[[0.0,\"#0d0887\"],[0.1111111111111111,\"#46039f\"],[0.2222222222222222,\"#7201a8\"],[0.3333333333333333,\"#9c179e\"],[0.4444444444444444,\"#bd3786\"],[0.5555555555555556,\"#d8576b\"],[0.6666666666666666,\"#ed7953\"],[0.7777777777777778,\"#fb9f3a\"],[0.8888888888888888,\"#fdca26\"],[1.0,\"#f0f921\"]],\"diverging\":[[0,\"#8e0152\"],[0.1,\"#c51b7d\"],[0.2,\"#de77ae\"],[0.3,\"#f1b6da\"],[0.4,\"#fde0ef\"],[0.5,\"#f7f7f7\"],[0.6,\"#e6f5d0\"],[0.7,\"#b8e186\"],[0.8,\"#7fbc41\"],[0.9,\"#4d9221\"],[1,\"#276419\"]]},\"xaxis\":{\"gridcolor\":\"white\",\"linecolor\":\"white\",\"ticks\":\"\",\"title\":{\"standoff\":15},\"zerolinecolor\":\"white\",\"automargin\":true,\"zerolinewidth\":2},\"yaxis\":{\"gridcolor\":\"white\",\"linecolor\":\"white\",\"ticks\":\"\",\"title\":{\"standoff\":15},\"zerolinecolor\":\"white\",\"automargin\":true,\"zerolinewidth\":2},\"scene\":{\"xaxis\":{\"backgroundcolor\":\"#E5ECF6\",\"gridcolor\":\"white\",\"linecolor\":\"white\",\"showbackground\":true,\"ticks\":\"\",\"zerolinecolor\":\"white\",\"gridwidth\":2},\"yaxis\":{\"backgroundcolor\":\"#E5ECF6\",\"gridcolor\":\"white\",\"linecolor\":\"white\",\"showbackground\":true,\"ticks\":\"\",\"zerolinecolor\":\"white\",\"gridwidth\":2},\"zaxis\":{\"backgroundcolor\":\"#E5ECF6\",\"gridcolor\":\"white\",\"linecolor\":\"white\",\"showbackground\":true,\"ticks\":\"\",\"zerolinecolor\":\"white\",\"gridwidth\":2}},\"shapedefaults\":{\"line\":{\"color\":\"#2a3f5f\"}},\"annotationdefaults\":{\"arrowcolor\":\"#2a3f5f\",\"arrowhead\":0,\"arrowwidth\":1},\"geo\":{\"bgcolor\":\"white\",\"landcolor\":\"#E5ECF6\",\"subunitcolor\":\"white\",\"showland\":true,\"showlakes\":true,\"lakecolor\":\"white\"},\"title\":{\"x\":0.05},\"mapbox\":{\"style\":\"light\"}}},\"xaxis\":{\"anchor\":\"y\",\"domain\":[0.0,1.0],\"title\":{\"text\":\"x\"}},\"yaxis\":{\"anchor\":\"x\",\"domain\":[0.0,1.0],\"title\":{\"text\":\"Probability density\"}},\"legend\":{\"title\":{\"text\":\"variable\"},\"tracegroupgap\":0},\"title\":{\"text\":\"Monte-Carlo truth mass reconstruction for top quark\"},\"barmode\":\"overlay\"},                        {\"responsive\": true}                    ).then(function(){\n",
       "                            \n",
       "var gd = document.getElementById('c8baca62-0313-485f-880a-61f248d4783e');\n",
       "var x = new MutationObserver(function (mutations, observer) {{\n",
       "        var display = window.getComputedStyle(gd).display;\n",
       "        if (!display || display === 'none') {{\n",
       "            console.log([gd, 'removed!']);\n",
       "            Plotly.purge(gd);\n",
       "            observer.disconnect();\n",
       "        }}\n",
       "}});\n",
       "\n",
       "// Listen for the removal of the full notebook cells\n",
       "var notebookContainer = gd.closest('#notebook-container');\n",
       "if (notebookContainer) {{\n",
       "    x.observe(notebookContainer, {childList: true});\n",
       "}}\n",
       "\n",
       "// Listen for the clearing of the current output cell\n",
       "var outputEl = gd.closest('.output');\n",
       "if (outputEl) {{\n",
       "    x.observe(outputEl, {childList: true});\n",
       "}}\n",
       "\n",
       "                        })                };                });            </script>        </div>"
      ]
     },
     "metadata": {},
     "output_type": "display_data"
    }
   ],
   "source": [
    "csp.histogram_barchart(\n",
    "    hist,\n",
    "    hist_label=\"Monte-Carlo truth mass\",\n",
    "    title=\"Monte-Carlo truth mass reconstruction for top quark\",\n",
    ")"
   ]
  },
  {
   "cell_type": "code",
   "execution_count": 209,
   "id": "5f983c38-1057-4092-8b71-f9fed7d70906",
   "metadata": {
    "tags": []
   },
   "outputs": [
    {
     "data": {
      "text/plain": [
       "(172.8221146036791, 3.305779212063656)"
      ]
     },
     "execution_count": 209,
     "metadata": {},
     "output_type": "execute_result"
    }
   ],
   "source": [
    "csp.hist_to_bw_params(hist)"
   ]
  },
  {
   "cell_type": "code",
   "execution_count": null,
   "id": "b54ee1a4-a63d-45ee-b581-16a62fc8bb4a",
   "metadata": {},
   "outputs": [],
   "source": []
  }
 ],
 "metadata": {
  "kernelspec": {
   "display_name": "Python 3 (ipykernel)",
   "language": "python",
   "name": "python3"
  },
  "language_info": {
   "codemirror_mode": {
    "name": "ipython",
    "version": 3
   },
   "file_extension": ".py",
   "mimetype": "text/x-python",
   "name": "python",
   "nbconvert_exporter": "python",
   "pygments_lexer": "ipython3",
   "version": "3.11.4"
  }
 },
 "nbformat": 4,
 "nbformat_minor": 5
}
